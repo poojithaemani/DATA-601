{
 "cells": [
  {
   "cell_type": "markdown",
   "id": "d539fdd8",
   "metadata": {},
   "source": [
    "# FAKE DATA"
   ]
  },
  {
   "cell_type": "code",
   "execution_count": 6,
   "id": "cc57d9db",
   "metadata": {},
   "outputs": [
    {
     "name": "stdout",
     "output_type": "stream",
     "text": [
      "Python 3.11.4\n"
     ]
    }
   ],
   "source": [
    "!python --version"
   ]
  },
  {
   "cell_type": "code",
   "execution_count": 7,
   "id": "dd3a294b",
   "metadata": {},
   "outputs": [
    {
     "name": "stdout",
     "output_type": "stream",
     "text": [
      "enter the num of entities:8\n",
      "['Jon Thornton', '6935 Wendy Pines\\nRodriguezburgh, LA 10069', 'julie75@example.net', 4741979699, 1947, 3, 'rent', 66763, 6]\n",
      "['Tina Hayes', '068 Nielsen Streets\\nDavischester, WY 99334', 'singletonrobert@example.net', 5915895687, 1954, 1, 'own', 57577, 9]\n",
      "['Christine Anderson', '858 Price Loaf\\nLake Adamborough, WY 29007', 'caldwellmichael@example.org', 8529490763, 1942, 2, 'own', 14158, 5]\n",
      "['Heather Thompson', '2601 Brown Plaza\\nHernandezberg, AK 78577', 'faulkneralex@example.org', 2383355631, 1946, 2, 'own', 22584, 10]\n",
      "['Kathy Webb', '6665 Arthur Fields Suite 632\\nBenjaminside, PR 95092', 'baileyruth@example.org', 1391027191, 1975, 4, 'rent', 38339, 2]\n",
      "['Jane Boyle', 'USS Williamson\\nFPO AA 52798', 'carlosle@example.net', 2208492180, 1950, 2, 'own', 60204, 8]\n",
      "['Rebecca Bolton', '4642 Middleton Stream Apt. 800\\nLake Amberfort, NM 39670', 'brianreid@example.org', 2167679899, 1974, 2, 'own', 84435, 0]\n",
      "['Mark Mccann', '233 Clay Bridge\\nHeathermouth, NV 43136', 'xprince@example.com', 5246205487, 1968, 1, 'own', 83675, 10]\n"
     ]
    }
   ],
   "source": [
    "#using faker python package to generate fake data \n",
    "import csv\n",
    "import pandas as pd\n",
    "import random as rd\n",
    "from faker import Faker\n",
    "\n",
    "fake=['person name','address','email address','phone number','Year of birth','Num of kids','rent or own','Income','ticket']\n",
    "with open('fakedata.csv','w',encoding='UTF8') as f: #source:https://www.pythontutorial.net/python-basics/python-write-csv-file/\n",
    "\n",
    "    writer=csv.writer(f)\n",
    "    writer.writerow(fake)\n",
    "    f=Faker()\n",
    "    num=int(input(\"enter the num of entities:\")) # to enter number of entities value from user\n",
    "    for i in range(0,num):\n",
    "        a=f.name() #Person's name\n",
    "        b=f.address() #Home Address\n",
    "        c=f.email() #Email addresses. Must have an \"@\"\n",
    "        d=rd.randint(1000000000,9999999999) # To generate phone number\n",
    "        e=rd.randint(1940,1980)# To generate year of birth\n",
    "        k=rd.randint(1,4) # To generate data for number of kids\n",
    "        rent=rd.randint(0,1) # To generate random value to determine rent or own\n",
    "        x=''\n",
    "        if rent==0:\n",
    "            x='own'\n",
    "        else:\n",
    "            x='rent'\n",
    "        i = rd.randint(10000,99999) # To generate Income \n",
    "        t = rd.randint(0,10) # To generate tickets\n",
    "        fake_data=[a,b,c,d,e,k,x,i,t]\n",
    "        print(fake_data)\n",
    "        writer.writerow(fake_data)\n",
    "        fake_data=[]"
   ]
  }
 ],
 "metadata": {
  "kernelspec": {
   "display_name": "Python 3 (ipykernel)",
   "language": "python",
   "name": "python3"
  },
  "language_info": {
   "codemirror_mode": {
    "name": "ipython",
    "version": 3
   },
   "file_extension": ".py",
   "mimetype": "text/x-python",
   "name": "python",
   "nbconvert_exporter": "python",
   "pygments_lexer": "ipython3",
   "version": "3.11.4"
  }
 },
 "nbformat": 4,
 "nbformat_minor": 5
}
