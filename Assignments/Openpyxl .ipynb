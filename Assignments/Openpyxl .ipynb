{
 "cells": [
  {
   "cell_type": "markdown",
   "id": "d2d724f9",
   "metadata": {},
   "source": [
    "# WEEK 5_OPENPYXL"
   ]
  },
  {
   "cell_type": "code",
   "execution_count": 2,
   "id": "737e6f23",
   "metadata": {},
   "outputs": [
    {
     "name": "stdout",
     "output_type": "stream",
     "text": [
      "Python 3.11.4\n"
     ]
    }
   ],
   "source": [
    "!Python --version"
   ]
  },
  {
   "cell_type": "code",
   "execution_count": 1,
   "id": "d7c62bd7",
   "metadata": {},
   "outputs": [
    {
     "name": "stdout",
     "output_type": "stream",
     "text": [
      "C:\\Users\\Priya\\Downloads\\week_05.xlsx\n"
     ]
    }
   ],
   "source": [
    "import openpyxl as op\n",
    "from openpyxl import load_workbook\n",
    "wb=load_workbook(filename=\"C:\\\\Users\\\\Priya\\\\Downloads\\\\week_05_homework_XLSX_openpyxl - Copy.xlsx\") #open spreadsheet\n",
    "wb.sheetnames\n",
    "str_1=wb[\"records\"]\n",
    "str_2=wb[\"patient info\"]\n",
    "\n",
    "#Create new spreadsheet with patient info data sheet, not changing original spreadsheet to insert rows\n",
    "path=\"C:\\\\Users\\\\Priya\\\\Downloads\\\\week_05.xlsx\"\n",
    "\n",
    "wb2=op.load_workbook(path)\n",
    "wb2s=wb2.active\n",
    "\n",
    "r=str_2.max_row\n",
    "c=str_2.max_column\n",
    "lst=[]\n",
    "for i in range(1,r + 1):\n",
    "    for j in range(1,c + 1):\n",
    "        v=str_2.cell(row=i,column=j)\n",
    "#copying data from patient info sheet from given spread sheet to a new excel book\n",
    "        wb2s.cell(row=i,column=j).value=v.value   \n",
    "#append all the patient id's into list to check the patient id's from records sheet\n",
    "        if j==1:\n",
    "            lst.append(v.value)\n",
    "\n",
    "r2=str_1.max_row\n",
    "c2=str_1.max_column\n",
    "\n",
    "data=[]\n",
    "\n",
    "#Iterate through records sheet and check for each id to present in list if not append the data to a new spreadsheet\n",
    "for i in range(2,r2 + 1):\n",
    "    x=str_1.cell(row=i,column=1)\n",
    "    if x.value not in lst:\n",
    "        y=[]\n",
    "        for j in range(1,c2+1):\n",
    "            y.append(str_1.cell(row=i,column=j).value)\n",
    "        data.append(y)\n",
    "    else:\n",
    "#Copy data from records sheet to patient info sheet if both have same patient id's\n",
    "        for j in range(1,c2+1):\n",
    "            wb2s.cell(row=i,column=j).value=str_1.cell(row=i,column=j).value\n",
    "        \n",
    "for d in data:\n",
    "    wb2s.append(d)\n",
    "\n",
    "wb2.save(path)\n",
    "print(path)"
   ]
  },
  {
   "cell_type": "code",
   "execution_count": null,
   "id": "4ecdea1e",
   "metadata": {},
   "outputs": [],
   "source": []
  }
 ],
 "metadata": {
  "kernelspec": {
   "display_name": "Python 3 (ipykernel)",
   "language": "python",
   "name": "python3"
  },
  "language_info": {
   "codemirror_mode": {
    "name": "ipython",
    "version": 3
   },
   "file_extension": ".py",
   "mimetype": "text/x-python",
   "name": "python",
   "nbconvert_exporter": "python",
   "pygments_lexer": "ipython3",
   "version": "3.11.4"
  }
 },
 "nbformat": 4,
 "nbformat_minor": 5
}
