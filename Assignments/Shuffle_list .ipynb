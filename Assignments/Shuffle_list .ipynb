{
 "cells": [
  {
   "cell_type": "markdown",
   "id": "265d1ea2",
   "metadata": {},
   "source": [
    "# SHUFFLE LIST"
   ]
  },
  {
   "cell_type": "code",
   "execution_count": 8,
   "id": "793f9360",
   "metadata": {},
   "outputs": [
    {
     "name": "stdout",
     "output_type": "stream",
     "text": [
      "Python 3.9.12\n"
     ]
    }
   ],
   "source": [
    "!Python --version"
   ]
  },
  {
   "cell_type": "code",
   "execution_count": 9,
   "id": "f7fe9c38",
   "metadata": {},
   "outputs": [
    {
     "name": "stdout",
     "output_type": "stream",
     "text": [
      "insert no. of elements : 6\n",
      "6\n",
      "insert elements :\n",
      "6\n",
      "insert elements :\n",
      "3\n",
      "insert elements :\n",
      "0\n",
      "insert elements :\n",
      "2\n",
      "insert elements :\n",
      "8\n",
      "insert elements :\n",
      "3\n",
      "insert shift index number:2\n",
      "ORIGINAL LIST : ['6', '3', '0', '2', '8', '3']\n",
      "SHIFTED LIST : ['0', '2', '8', '3', '6', '3']\n"
     ]
    }
   ],
   "source": [
    "# create a Shuffle function\n",
    "def Shuffle():\n",
    "    # user input no. of elements as SIZE\n",
    "    size= int(input(\"insert no. of elements : \"))\n",
    "    print(size)\n",
    "    #create an EMPTY LIST\n",
    "    Original_List= []\n",
    "    # user input elements using looping condition and append them into a List\n",
    "    for i in range(0,size):\n",
    "        print(\"insert elements :\")\n",
    "        X =input()\n",
    "        Original_List.append(X)\n",
    "    # user input shift index number as n\n",
    "    n=int(input(\"insert shift index number:\"))\n",
    "    #using slicing and concatenation\n",
    "    Shift_List = Original_List[n:]+Original_List[:n]\n",
    "    return Original_List,Shift_List\n",
    "\n",
    "# assign return values to parameters\n",
    "Original,Shift = Shuffle()\n",
    "print(\"ORIGINAL LIST :\",Original)\n",
    "print(\"SHIFTED LIST :\",Shift)"
   ]
  },
  {
   "cell_type": "code",
   "execution_count": null,
   "id": "59b500a7",
   "metadata": {},
   "outputs": [],
   "source": []
  }
 ],
 "metadata": {
  "kernelspec": {
   "display_name": "Python 3 (ipykernel)",
   "language": "python",
   "name": "python3"
  },
  "language_info": {
   "codemirror_mode": {
    "name": "ipython",
    "version": 3
   },
   "file_extension": ".py",
   "mimetype": "text/x-python",
   "name": "python",
   "nbconvert_exporter": "python",
   "pygments_lexer": "ipython3",
   "version": "3.9.12"
  }
 },
 "nbformat": 4,
 "nbformat_minor": 5
}
