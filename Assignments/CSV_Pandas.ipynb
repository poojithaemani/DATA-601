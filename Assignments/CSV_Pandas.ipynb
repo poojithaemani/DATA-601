{
 "cells": [
  {
   "cell_type": "markdown",
   "id": "03c1afac",
   "metadata": {},
   "source": [
    "# CSV and Pandas"
   ]
  },
  {
   "cell_type": "code",
   "execution_count": 2,
   "id": "4cac36cb",
   "metadata": {},
   "outputs": [
    {
     "name": "stdout",
     "output_type": "stream",
     "text": [
      "Python 3.9.12\n"
     ]
    }
   ],
   "source": [
    "!Python --version"
   ]
  },
  {
   "cell_type": "code",
   "execution_count": 3,
   "id": "46cc64a2",
   "metadata": {},
   "outputs": [
    {
     "name": "stdout",
     "output_type": "stream",
     "text": [
      "Number of rows in dataframe are: 26\n",
      "Number of columns in dataframe are: 3\n",
      "    Letter   \"Frequency\"   \"Percentage\"\n",
      "0      \"A\"      24373121            8.1\n",
      "1      \"B\"       4762938            1.6\n",
      "2      \"C\"       8982417            3.0\n",
      "3      \"D\"      10805580            3.6\n",
      "4      \"E\"      37907119           12.6\n",
      "5      \"F\"       7486889            2.5\n",
      "6      \"G\"       5143059            1.7\n",
      "7      \"H\"      18058207            6.0\n",
      "     Letter   \"Frequency\"   \"Percentage\"\n",
      "23      \"X\"        562732            0.2\n",
      "24      \"Y\"       5910495            2.0\n",
      "25      \"Z\"         93172            0.0\n"
     ]
    },
    {
     "data": {
      "text/html": [
       "<div>\n",
       "<style scoped>\n",
       "    .dataframe tbody tr th:only-of-type {\n",
       "        vertical-align: middle;\n",
       "    }\n",
       "\n",
       "    .dataframe tbody tr th {\n",
       "        vertical-align: top;\n",
       "    }\n",
       "\n",
       "    .dataframe thead th {\n",
       "        text-align: right;\n",
       "    }\n",
       "</style>\n",
       "<table border=\"1\" class=\"dataframe\">\n",
       "  <thead>\n",
       "    <tr style=\"text-align: right;\">\n",
       "      <th></th>\n",
       "      <th>0</th>\n",
       "      <th>1</th>\n",
       "      <th>2</th>\n",
       "      <th>3</th>\n",
       "    </tr>\n",
       "  </thead>\n",
       "  <tbody>\n",
       "    <tr>\n",
       "      <th>Letter</th>\n",
       "      <td>\"A\"</td>\n",
       "      <td>\"B\"</td>\n",
       "      <td>\"C\"</td>\n",
       "      <td>\"D\"</td>\n",
       "    </tr>\n",
       "    <tr>\n",
       "      <th>\"Frequency\"</th>\n",
       "      <td>24373121</td>\n",
       "      <td>4762938</td>\n",
       "      <td>8982417</td>\n",
       "      <td>10805580</td>\n",
       "    </tr>\n",
       "    <tr>\n",
       "      <th>\"Percentage\"</th>\n",
       "      <td>8.1</td>\n",
       "      <td>1.6</td>\n",
       "      <td>3.0</td>\n",
       "      <td>3.6</td>\n",
       "    </tr>\n",
       "  </tbody>\n",
       "</table>\n",
       "</div>"
      ],
      "text/plain": [
       "                      0        1        2         3\n",
       "Letter              \"A\"      \"B\"      \"C\"       \"D\"\n",
       " \"Frequency\"   24373121  4762938  8982417  10805580\n",
       " \"Percentage\"       8.1      1.6      3.0       3.6"
      ]
     },
     "execution_count": 3,
     "metadata": {},
     "output_type": "execute_result"
    }
   ],
   "source": [
    "#Download data in CSV format from https://people.sc.fsu.edu/~jburkardt/data/csv/csv.html - letter_frequency.csv\n",
    "#After importing pandas load the data into  Pandas dataframe 'df'. \n",
    "#Use Pandas to count the no. of rows and columns in data.\n",
    "\n",
    "import pandas as pd\n",
    "\n",
    "df=pd.read_csv(r\"C:\\Users\\Srilakshmi\\Downloads\\letter_frequency (1).csv\")\n",
    "\n",
    "print(\"Number of rows in dataframe are:\",len(df)) \n",
    "print(\"Number of columns in dataframe are:\",len(df.columns))\n",
    "# used head and tail functions to display the first 8 and last 3 rows of dataframe\n",
    "print(df.head(8))\n",
    "print(df.tail(3))\n",
    "#created tp dataframe with first 4 rows to transpose \n",
    "tp=df.head(4)\n",
    "tp.transpose()"
   ]
  }
 ],
 "metadata": {
  "kernelspec": {
   "display_name": "Python 3 (ipykernel)",
   "language": "python",
   "name": "python3"
  },
  "language_info": {
   "codemirror_mode": {
    "name": "ipython",
    "version": 3
   },
   "file_extension": ".py",
   "mimetype": "text/x-python",
   "name": "python",
   "nbconvert_exporter": "python",
   "pygments_lexer": "ipython3",
   "version": "3.9.12"
  }
 },
 "nbformat": 4,
 "nbformat_minor": 5
}
