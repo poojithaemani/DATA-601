{
 "cells": [
  {
   "cell_type": "markdown",
   "id": "5abf1d8b",
   "metadata": {},
   "source": [
    "# WORD COUNT"
   ]
  },
  {
   "cell_type": "code",
   "execution_count": 3,
   "id": "4a4a734a",
   "metadata": {},
   "outputs": [
    {
     "name": "stdout",
     "output_type": "stream",
     "text": [
      "Python 3.9.12\n"
     ]
    }
   ],
   "source": [
    "!Python --version"
   ]
  },
  {
   "cell_type": "code",
   "execution_count": 4,
   "id": "aed0418d",
   "metadata": {},
   "outputs": [
    {
     "name": "stdout",
     "output_type": "stream",
     "text": [
      "enter the input string:how are you\n",
      "word_count: 3\n",
      "character_count: 9\n"
     ]
    }
   ],
   "source": [
    "## Function WORDCHARCOUNT returns word,character count of an input string. \n",
    "## wdc and chrc are the variables used for count with initial values 1,0\n",
    "## Using loop condition compare whitespaces whenever a space is encountered that indicates it is the end of the word. \n",
    "## if any space is not found, it counts there is a character.\n",
    "\n",
    "def wordcharcount(string):\n",
    "    wdc=1;chrc=0  #initialized wdc with 1 as there is no space at the end of string\n",
    "    for i in string:\n",
    "        if i==' ':\n",
    "            wdc=wdc+1\n",
    "        else:\n",
    "            chrc=chrc+1\n",
    "    return wdc,chrc\n",
    "\n",
    "\n",
    "#Read input string from the user\n",
    "string=input(\"enter the input string:\")\n",
    "wcount,charcount=wordcharcount(string) #call the function\n",
    "print('word_count:',wcount)\n",
    "print('character_count:',charcount)"
   ]
  }
 ],
 "metadata": {
  "kernelspec": {
   "display_name": "Python 3 (ipykernel)",
   "language": "python",
   "name": "python3"
  },
  "language_info": {
   "codemirror_mode": {
    "name": "ipython",
    "version": 3
   },
   "file_extension": ".py",
   "mimetype": "text/x-python",
   "name": "python",
   "nbconvert_exporter": "python",
   "pygments_lexer": "ipython3",
   "version": "3.9.12"
  }
 },
 "nbformat": 4,
 "nbformat_minor": 5
}
