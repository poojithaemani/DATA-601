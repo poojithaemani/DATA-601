{
 "cells": [
  {
   "cell_type": "markdown",
   "id": "e0ec54b1",
   "metadata": {},
   "source": [
    "# WEEK 10 RE-IMPLEMENTATION - DATE CONVERSION"
   ]
  },
  {
   "cell_type": "code",
   "execution_count": 1,
   "id": "65d2145a",
   "metadata": {},
   "outputs": [
    {
     "name": "stdout",
     "output_type": "stream",
     "text": [
      "Python 3.11.5\n"
     ]
    }
   ],
   "source": [
    "!Python --version"
   ]
  },
  {
   "cell_type": "markdown",
   "id": "8840110f",
   "metadata": {},
   "source": [
    "# ORIGINAL CODE"
   ]
  },
  {
   "cell_type": "code",
   "execution_count": 2,
   "id": "dc740a61",
   "metadata": {},
   "outputs": [],
   "source": [
    "# https://kolesnikov.ga/Testing_and_Debugging_Jupyter_Notebooks/\n",
    "import doctest\n",
    "from datetime import datetime"
   ]
  },
  {
   "cell_type": "code",
   "execution_count": 3,
   "id": "4b482bba",
   "metadata": {},
   "outputs": [
    {
     "name": "stdout",
     "output_type": "stream",
     "text": [
      "Trying:\n",
      "    convert_datetime_to_dayofweek('Jun 1 2005  1:33PM')\n",
      "Expecting:\n",
      "    'Wednesday'\n",
      "ok\n",
      "Trying:\n",
      "    convert_datetime_to_dayofweek('Oct 25 2012  2:17AM')\n",
      "Expecting:\n",
      "    'Thursday'\n",
      "ok\n",
      "1 items had no tests:\n",
      "    convert_datetime_to_dayofweek\n",
      "1 items passed all tests:\n",
      "   2 tests in convert_datetime_to_dayofweek.convert_datetime_to_dayofweek\n",
      "2 tests in 2 items.\n",
      "2 passed and 0 failed.\n",
      "Test passed.\n"
     ]
    },
    {
     "data": {
      "text/plain": [
       "TestResults(failed=0, attempted=2)"
      ]
     },
     "execution_count": 3,
     "metadata": {},
     "output_type": "execute_result"
    }
   ],
   "source": [
    "def convert_datetime_to_dayofweek(datetime_string):\n",
    "    \"\"\"\n",
    "    This function takes date in the format MON DAY YEAR  HH:MM(PM/AM)\n",
    "    and returns the day of the week\n",
    "    Assume input string is UTC\n",
    "    \n",
    "    >>> convert_datetime_to_dayofweek('Jun 1 2005  1:33PM')\n",
    "    'Wednesday'\n",
    "    >>> convert_datetime_to_dayofweek('Oct 25 2012  2:17AM')\n",
    "    'Thursday'\n",
    "    \"\"\"\n",
    "    # your code goes here\n",
    "    week = ['Monday', 'Tuesday','Wednesday', 'Thursday',' Friday','Saturday','Sunday']\n",
    "    dayofweek=week[datetime.strptime(datetime_string, '%b %d %Y  %I:%M%p').weekday()]\n",
    "    return dayofweek\n",
    "\n",
    "\n",
    "doctest.testmod(name='convert_datetime_to_dayofweek', verbose=True)"
   ]
  },
  {
   "cell_type": "code",
   "execution_count": 4,
   "id": "ea0e34f2",
   "metadata": {},
   "outputs": [
    {
     "name": "stdout",
     "output_type": "stream",
     "text": [
      "Enter the date : Oct 25 2012 2:17AM\n",
      "14.1 s ± 0 ns per loop (mean ± std. dev. of 1 run, 1 loop each)\n"
     ]
    }
   ],
   "source": [
    "%%timeit -n1 -r1\n",
    "date=input('Enter the date : ')\n",
    "convert_datetime_to_dayofweek(date)"
   ]
  },
  {
   "cell_type": "markdown",
   "id": "00b222e0",
   "metadata": {},
   "source": [
    "# REVISED CODE"
   ]
  },
  {
   "cell_type": "code",
   "execution_count": 7,
   "id": "67ae88f8",
   "metadata": {},
   "outputs": [
    {
     "name": "stdout",
     "output_type": "stream",
     "text": [
      "Wednesday\n",
      "Thursday\n",
      "11.7 ms ± 0 ns per loop (mean ± std. dev. of 1 run, 1 loop each)\n"
     ]
    }
   ],
   "source": [
    "%%timeit -n1 -r1\n",
    "import datetime\n",
    "doctest.testmod()\n",
    "x = lambda y: datetime.datetime.strptime(y, '%b %d %Y %I:%M%p').strftime('%A')\n",
    "print(x('Jun 1 2005  1:33PM'))\n",
    "print(x('Oct 25 2012  2:17AM'))"
   ]
  },
  {
   "cell_type": "markdown",
   "id": "95bc81f8",
   "metadata": {},
   "source": [
    "Here, I have replaced a function call with \"lambda\" that improved the performance of the code."
   ]
  }
 ],
 "metadata": {
  "kernelspec": {
   "display_name": "Python 3 (ipykernel)",
   "language": "python",
   "name": "python3"
  },
  "language_info": {
   "codemirror_mode": {
    "name": "ipython",
    "version": 3
   },
   "file_extension": ".py",
   "mimetype": "text/x-python",
   "name": "python",
   "nbconvert_exporter": "python",
   "pygments_lexer": "ipython3",
   "version": "3.11.5"
  }
 },
 "nbformat": 4,
 "nbformat_minor": 5
}
