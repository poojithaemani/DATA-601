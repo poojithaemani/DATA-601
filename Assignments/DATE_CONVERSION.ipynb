{
 "cells": [
  {
   "cell_type": "markdown",
   "id": "e51ffa57",
   "metadata": {},
   "source": [
    "# DATE CONVERSION FUNCTION"
   ]
  },
  {
   "cell_type": "code",
   "execution_count": 7,
   "id": "038a794a",
   "metadata": {},
   "outputs": [
    {
     "name": "stdout",
     "output_type": "stream",
     "text": [
      "Python 3.11.5\n"
     ]
    }
   ],
   "source": [
    "!Python --version"
   ]
  },
  {
   "cell_type": "code",
   "execution_count": 8,
   "id": "5d3bcab9",
   "metadata": {},
   "outputs": [],
   "source": [
    "# https://kolesnikov.ga/Testing_and_Debugging_Jupyter_Notebooks/\n",
    "import doctest\n",
    "from datetime import datetime"
   ]
  },
  {
   "cell_type": "code",
   "execution_count": 9,
   "id": "73c2fc60",
   "metadata": {},
   "outputs": [
    {
     "name": "stdout",
     "output_type": "stream",
     "text": [
      "Trying:\n",
      "    convert_datetime_to_dayofweek('Jun 1 2005  1:33PM')\n",
      "Expecting:\n",
      "    'Wednesday'\n",
      "ok\n",
      "Trying:\n",
      "    convert_datetime_to_dayofweek('Oct 25 2012  2:17AM')\n",
      "Expecting:\n",
      "    'Thursday'\n",
      "ok\n",
      "1 items had no tests:\n",
      "    convert_datetime_to_dayofweek\n",
      "1 items passed all tests:\n",
      "   2 tests in convert_datetime_to_dayofweek.convert_datetime_to_dayofweek\n",
      "2 tests in 2 items.\n",
      "2 passed and 0 failed.\n",
      "Test passed.\n"
     ]
    },
    {
     "data": {
      "text/plain": [
       "TestResults(failed=0, attempted=2)"
      ]
     },
     "execution_count": 9,
     "metadata": {},
     "output_type": "execute_result"
    }
   ],
   "source": [
    "def convert_datetime_to_dayofweek(datetime_string):\n",
    "    \"\"\"\n",
    "    This function takes date in the format MON DAY YEAR  HH:MM(PM/AM)\n",
    "    and returns the day of the week\n",
    "    Assume input string is UTC\n",
    "    \n",
    "    >>> convert_datetime_to_dayofweek('Jun 1 2005  1:33PM')\n",
    "    'Wednesday'\n",
    "    >>> convert_datetime_to_dayofweek('Oct 25 2012  2:17AM')\n",
    "    'Thursday'\n",
    "    \"\"\"\n",
    "    # your code goes here\n",
    "    week = ['Monday', 'Tuesday','Wednesday', 'Thursday',' Friday','Saturday','Sunday']\n",
    "    dayofweek=week[datetime.strptime(datetime_string, '%b %d %Y  %I:%M%p').weekday()]\n",
    "    return dayofweek\n",
    "\n",
    "\n",
    "doctest.testmod(name='convert_datetime_to_dayofweek', verbose=True)"
   ]
  },
  {
   "cell_type": "code",
   "execution_count": 10,
   "id": "3ddef7b4",
   "metadata": {},
   "outputs": [
    {
     "name": "stdout",
     "output_type": "stream",
     "text": [
      "Enter the date : Oct 25 2012 2:17AM\n"
     ]
    },
    {
     "data": {
      "text/plain": [
       "'Thursday'"
      ]
     },
     "execution_count": 10,
     "metadata": {},
     "output_type": "execute_result"
    }
   ],
   "source": [
    "date=input('Enter the date : ')\n",
    "convert_datetime_to_dayofweek(date)"
   ]
  },
  {
   "cell_type": "code",
   "execution_count": null,
   "id": "111bb6ab",
   "metadata": {},
   "outputs": [],
   "source": []
  }
 ],
 "metadata": {
  "kernelspec": {
   "display_name": "Python 3 (ipykernel)",
   "language": "python",
   "name": "python3"
  },
  "language_info": {
   "codemirror_mode": {
    "name": "ipython",
    "version": 3
   },
   "file_extension": ".py",
   "mimetype": "text/x-python",
   "name": "python",
   "nbconvert_exporter": "python",
   "pygments_lexer": "ipython3",
   "version": "3.11.5"
  }
 },
 "nbformat": 4,
 "nbformat_minor": 5
}
