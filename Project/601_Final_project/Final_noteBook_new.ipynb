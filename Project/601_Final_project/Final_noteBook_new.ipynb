{
 "cells": [
  {
   "cell_type": "code",
   "execution_count": 86,
   "id": "2011f580",
   "metadata": {},
   "outputs": [
    {
     "name": "stdout",
     "output_type": "stream",
     "text": [
      "CPU times: total: 0 ns\n",
      "Wall time: 0 ns\n"
     ]
    }
   ],
   "source": [
    "%%time\n",
    "import pandas as pd\n",
    "from io import StringIO\n",
    "import requests\n",
    "import numpy as np\n",
    "import matplotlib.pyplot as plt\n",
    "import seaborn as sns\n",
    "\n"
   ]
  },
  {
   "cell_type": "code",
   "execution_count": 87,
   "id": "371e0adb",
   "metadata": {},
   "outputs": [
    {
     "name": "stdout",
     "output_type": "stream",
     "text": [
      "CPU times: total: 15.1 s\n",
      "Wall time: 1min 28s\n"
     ]
    }
   ],
   "source": [
    "%%time\n",
    "\n",
    "url = requests.get(' https://umbc.box.com/shared/static/91lmieun5u1e8p87wmlnuglyzl3xm91h.csv').text\n",
    "csv_raw = StringIO(url)\n",
    "df_20 = pd.read_csv(csv_raw, low_memory=False)"
   ]
  },
  {
   "cell_type": "code",
   "execution_count": 88,
   "id": "dc849be7",
   "metadata": {},
   "outputs": [
    {
     "name": "stdout",
     "output_type": "stream",
     "text": [
      "CPU times: total: 13.7 s\n",
      "Wall time: 1min 36s\n"
     ]
    }
   ],
   "source": [
    "%%time\n",
    "\n",
    "url = requests.get('https://umbc.box.com/shared/static/7emabgf9ck2afprmrl459jnk30ewmabj.csv').text\n",
    "csv_raw = StringIO(url)\n",
    "df_21 = pd.read_csv(csv_raw, low_memory=False)"
   ]
  },
  {
   "cell_type": "code",
   "execution_count": 89,
   "id": "72a8ccad",
   "metadata": {},
   "outputs": [
    {
     "name": "stdout",
     "output_type": "stream",
     "text": [
      "CPU times: total: 8.39 s\n",
      "Wall time: 1min 20s\n"
     ]
    }
   ],
   "source": [
    "%%time\n",
    "\n",
    "url = requests.get('https://umbc.box.com/shared/static/tdkmuj86qm2uxhvjlfkav2i3pnx9fkoa.csv').text\n",
    "csv_raw = StringIO(url)\n",
    "df_22 = pd.read_csv(csv_raw, low_memory=False)"
   ]
  },
  {
   "cell_type": "code",
   "execution_count": 90,
   "id": "e75151a1",
   "metadata": {},
   "outputs": [
    {
     "name": "stdout",
     "output_type": "stream",
     "text": [
      "CPU times: total: 13.3 s\n",
      "Wall time: 1min 15s\n"
     ]
    }
   ],
   "source": [
    "%%time\n",
    "\n",
    "url = requests.get('https://umbc.box.com/shared/static/au8h309qptksq5wlem6g5onn5v13fsrc.csv').text\n",
    "csv_raw = StringIO(url)\n",
    "df_23 = pd.read_csv(csv_raw, low_memory=False)"
   ]
  },
  {
   "cell_type": "code",
   "execution_count": 91,
   "id": "8b8ce33f",
   "metadata": {},
   "outputs": [
    {
     "name": "stdout",
     "output_type": "stream",
     "text": [
      "                                 NoticeId  \\\n",
      "0        425a9edc53e84373aeb2826644ac97b6   \n",
      "1        cbdb7b8ee8de4179b25c36e3b4819a2c   \n",
      "2        c8609373b0734f1aa5d9dcdf7e26f4c6   \n",
      "3        c07957305b754b35957e539f98150dcf   \n",
      "4        50463c77de6c4ebdbd7f1e8be833f4fb   \n",
      "...                                   ...   \n",
      "1429965  c6afb31c35a84c5b98398f5f55236b69   \n",
      "1429966  0acabcdac1b54619a50485040b0f579a   \n",
      "1429967  ff22effe5a59490c9e587778bc14fda3   \n",
      "1429968  fdf1333cfa5643c28096a38732be727e   \n",
      "1429969  73c1c6bc72f04a2685535e58753cf496   \n",
      "\n",
      "                                                     Title              Sol#  \\\n",
      "0                             66--Airfield Friction Tester  W50S9C-20-Q-0003   \n",
      "1                           65--COVID 19 cleaning supplies     1018031080_01   \n",
      "2                                          58--Voyager DSV     1019022491_01   \n",
      "3        Contract Opportunity Lease of Office Space wit...  20-REG11_8VA2699   \n",
      "4                          6540-- VISN 5 Eyeglass Contract     36C24520R0012   \n",
      "...                                                    ...               ...   \n",
      "1429965  7A21--VISN 2 VetLink Queuing Sustainment (VA-2...     36C24223Q0004   \n",
      "1429966  J065--Scriptpro Maintenance and Service Repair...     36C24622Q1029   \n",
      "1429967                  LEC Services for Sioux Falls CBOC     36C10A23P0004   \n",
      "1429968  Zambia Integrated HIV and Health Activity - Am...    72061122R00007   \n",
      "1429969  Vehicle Lease for Det 2 at Paya Lebar Air Base...     FA520923P0002   \n",
      "\n",
      "                        Department/Ind.Agency   CGAC  \\\n",
      "0                             DEPT OF DEFENSE $21.00   \n",
      "1                        STATE, DEPARTMENT OF $19.00   \n",
      "2                        STATE, DEPARTMENT OF $19.00   \n",
      "3             GENERAL SERVICES ADMINISTRATION $47.00   \n",
      "4             VETERANS AFFAIRS, DEPARTMENT OF $36.00   \n",
      "...                                       ...    ...   \n",
      "1429965       VETERANS AFFAIRS, DEPARTMENT OF $36.00   \n",
      "1429966       VETERANS AFFAIRS, DEPARTMENT OF $36.00   \n",
      "1429967       VETERANS AFFAIRS, DEPARTMENT OF $36.00   \n",
      "1429968  AGENCY FOR INTERNATIONAL DEVELOPMENT $72.00   \n",
      "1429969                       DEPT OF DEFENSE $57.00   \n",
      "\n",
      "                                     Sub-Tier FPDS Code  \\\n",
      "0                            DEPT OF THE ARMY      2100   \n",
      "1                        STATE, DEPARTMENT OF      1900   \n",
      "2                        STATE, DEPARTMENT OF      1900   \n",
      "3                    PUBLIC BUILDINGS SERVICE      4740   \n",
      "4             VETERANS AFFAIRS, DEPARTMENT OF      3600   \n",
      "...                                       ...       ...   \n",
      "1429965       VETERANS AFFAIRS, DEPARTMENT OF      3600   \n",
      "1429966       VETERANS AFFAIRS, DEPARTMENT OF      3600   \n",
      "1429967       VETERANS AFFAIRS, DEPARTMENT OF      3600   \n",
      "1429968  AGENCY FOR INTERNATIONAL DEVELOPMENT      7200   \n",
      "1429969                 DEPT OF THE AIR FORCE      5700   \n",
      "\n",
      "                                                Office AAC Code  \\\n",
      "0                          W7N4 USPFO ACTIVITY VT ARNG   W912LN   \n",
      "1                          ACQUISITIONS - AQM MOMENTUM   19AQMM   \n",
      "2                          ACQUISITIONS - AQM MOMENTUM   19AQMM   \n",
      "3                                  PBS R11 LEASING DIV   47PM99   \n",
      "4               245-NETWORK CONTRACT OFFICE 5 (36C245)   36C245   \n",
      "...                                                ...      ...   \n",
      "1429965        242-NETWORK CONTRACT OFFICE 02 (36C242)   36C242   \n",
      "1429966      246-NETWORK CONTRACTING OFFICE 6 (36C246)   36C246   \n",
      "1429967  TECHNOLOGY ACQUISITION CENTER AUSTIN (36C10A)   36C10A   \n",
      "1429968                                   USAID/ZAMBIA   720611   \n",
      "1429969                            FA5209  374 CONS PK   FA5209   \n",
      "\n",
      "                         PostedDate  ... SecondaryContactPhone  \\\n",
      "0        2020-09-30 23:57:23.594-04  ...                   NaN   \n",
      "1        2020-09-30 23:53:02.228-04  ...                   NaN   \n",
      "2        2020-09-30 23:48:57.306-04  ...                   NaN   \n",
      "3        2020-09-30 23:45:27.966-04  ...            2027086511   \n",
      "4        2020-09-30 23:43:15.213-04  ...                   NaN   \n",
      "...                             ...  ...                   ...   \n",
      "1429965   2022-10-01 04:26:04.55-04  ...                   NaN   \n",
      "1429966  2022-10-01 04:10:46.122-04  ...                   NaN   \n",
      "1429967  2022-10-01 01:49:36.633-04  ...                   NaN   \n",
      "1429968  2022-10-01 01:41:37.313-04  ...          260211357000   \n",
      "1429969  2022-10-01 00:09:14.041-04  ...           81425523010   \n",
      "\n",
      "        SecondaryContactFax OrganizationType State        City     ZipCode  \\\n",
      "0                       NaN           OFFICE    VT  COLCHESTER  05446-3099   \n",
      "1                       NaN           OFFICE    DC  WASHINGTON       20520   \n",
      "2                       NaN           OFFICE    DC  WASHINGTON       20520   \n",
      "3                       NaN           OFFICE    DC  WASHINGTON       20407   \n",
      "4                       NaN           OFFICE    MD   LINTHICUM       21090   \n",
      "...                     ...              ...   ...         ...         ...   \n",
      "1429965                 NaN           OFFICE    NY      ALBANY       12208   \n",
      "1429966                 NaN           OFFICE    VA     HAMPTON       23667   \n",
      "1429967                 NaN           OFFICE    TX      AUSTIN       78744   \n",
      "1429968                 NaN           OFFICE   NaN      LUSAKA         NaN   \n",
      "1429969         81425510973           OFFICE    AP         APO  96328-5228   \n",
      "\n",
      "        CountryCode AdditionalInfoLink  \\\n",
      "0               USA                NaN   \n",
      "1               USA                NaN   \n",
      "2               USA                NaN   \n",
      "3               USA                NaN   \n",
      "4               USA                NaN   \n",
      "...             ...                ...   \n",
      "1429965         USA                NaN   \n",
      "1429966         USA                NaN   \n",
      "1429967         USA                NaN   \n",
      "1429968         ZMB                NaN   \n",
      "1429969         USA                NaN   \n",
      "\n",
      "                                                      Link  \\\n",
      "0        https://sam.gov/opp/425a9edc53e84373aeb2826644...   \n",
      "1        https://sam.gov/opp/cbdb7b8ee8de4179b25c36e3b4...   \n",
      "2        https://sam.gov/opp/c8609373b0734f1aa5d9dcdf7e...   \n",
      "3        https://sam.gov/opp/c07957305b754b35957e539f98...   \n",
      "4        https://sam.gov/opp/50463c77de6c4ebdbd7f1e8be8...   \n",
      "...                                                    ...   \n",
      "1429965  https://sam.gov/opp/c6afb31c35a84c5b98398f5f55...   \n",
      "1429966  https://sam.gov/opp/0acabcdac1b54619a50485040b...   \n",
      "1429967  https://sam.gov/opp/ff22effe5a59490c9e587778bc...   \n",
      "1429968  https://sam.gov/opp/fdf1333cfa5643c28096a38732...   \n",
      "1429969  https://sam.gov/opp/73c1c6bc72f04a2685535e5875...   \n",
      "\n",
      "                                               Description  \n",
      "0                                                      NaN  \n",
      "1                                                      NaN  \n",
      "2                                                      NaN  \n",
      "3        This advertisement is hereby incorporated into...  \n",
      "4        PRESOLICITATION NOTICE This is a pre-solicitat...  \n",
      "...                                                    ...  \n",
      "1429965  36C242-22-AP-3236 Attachment 1: Request for SD...  \n",
      "1429966                                                NaN  \n",
      "1429967  This was a sole source award to Fort Randall T...  \n",
      "1429968  Solicitation Amendment #2 to respond to second...  \n",
      "1429969  Vehicle Lease for Det 2 at Paya Lebar Air Base...  \n",
      "\n",
      "[1429970 rows x 47 columns]\n"
     ]
    }
   ],
   "source": [
    "df = pd.concat([df_20, df_21,df_22,df_23], ignore_index=True)\n",
    "print(df)"
   ]
  },
  {
   "cell_type": "code",
   "execution_count": 92,
   "id": "15cdcf51",
   "metadata": {},
   "outputs": [
    {
     "data": {
      "text/plain": [
       "NoticeId                    1429970\n",
       "Title                        524372\n",
       "Sol#                         808312\n",
       "Department/Ind.Agency            86\n",
       "CGAC                             79\n",
       "Sub-Tier                        226\n",
       "FPDS Code                       234\n",
       "Office                         3475\n",
       "AAC Code                       3485\n",
       "PostedDate                  1419380\n",
       "Type                             13\n",
       "BaseType                         13\n",
       "ArchiveType                       5\n",
       "ArchiveDate                    2283\n",
       "SetASideCode                     20\n",
       "SetASide                         20\n",
       "ResponseDeadLine              99005\n",
       "NaicsCode                      2953\n",
       "ClassificationCode             2519\n",
       "PopStreetAddress              36362\n",
       "PopCity                       11625\n",
       "PopState                        765\n",
       "PopZip                        15077\n",
       "PopCountry                      208\n",
       "Active                            1\n",
       "AwardNumber                  271763\n",
       "AwardDate                      2619\n",
       "Award$                       175768\n",
       "Awardee                       76774\n",
       "PrimaryContactTitle            3840\n",
       "PrimaryContactFullname        66251\n",
       "PrimaryContactEmail           57027\n",
       "PrimaryContactPhone           56261\n",
       "PrimaryContactFax              3428\n",
       "SecondaryContactTitle           408\n",
       "SecondaryContactFullname      29581\n",
       "SecondaryContactEmail         30441\n",
       "SecondaryContactPhone         27454\n",
       "SecondaryContactFax            1594\n",
       "OrganizationType                  5\n",
       "State                            59\n",
       "City                            995\n",
       "ZipCode                        1735\n",
       "CountryCode                      66\n",
       "AdditionalInfoLink                1\n",
       "Link                        1429970\n",
       "Description                  964463\n",
       "dtype: int64"
      ]
     },
     "execution_count": 92,
     "metadata": {},
     "output_type": "execute_result"
    }
   ],
   "source": [
    "df.nunique()"
   ]
  },
  {
   "cell_type": "code",
   "execution_count": 93,
   "id": "76476510",
   "metadata": {},
   "outputs": [
    {
     "data": {
      "text/plain": [
       "NoticeId                          0\n",
       "Title                             3\n",
       "Sol#                          12409\n",
       "Department/Ind.Agency         14389\n",
       "CGAC                          14389\n",
       "Sub-Tier                      15829\n",
       "FPDS Code                     14494\n",
       "Office                        14444\n",
       "AAC Code                      23911\n",
       "PostedDate                        0\n",
       "Type                              0\n",
       "BaseType                          1\n",
       "ArchiveType                       0\n",
       "ArchiveDate                   72535\n",
       "SetASideCode                 894455\n",
       "SetASide                     894455\n",
       "ResponseDeadLine             322242\n",
       "NaicsCode                     75298\n",
       "ClassificationCode            45535\n",
       "PopStreetAddress            1325106\n",
       "PopCity                      910277\n",
       "PopState                     911157\n",
       "PopZip                       931840\n",
       "PopCountry                   794497\n",
       "Active                            0\n",
       "AwardNumber                 1135286\n",
       "AwardDate                   1136326\n",
       "Award$                      1159565\n",
       "Awardee                      930870\n",
       "PrimaryContactTitle         1301173\n",
       "PrimaryContactFullname        10172\n",
       "PrimaryContactEmail           28206\n",
       "PrimaryContactPhone          784978\n",
       "PrimaryContactFax           1355645\n",
       "SecondaryContactTitle       1419284\n",
       "SecondaryContactFullname    1062706\n",
       "SecondaryContactEmail       1063542\n",
       "SecondaryContactPhone       1167837\n",
       "SecondaryContactFax         1401670\n",
       "OrganizationType              14389\n",
       "State                         26890\n",
       "City                          23409\n",
       "ZipCode                       26897\n",
       "CountryCode                   21575\n",
       "AdditionalInfoLink          1429964\n",
       "Link                              0\n",
       "Description                  172491\n",
       "dtype: int64"
      ]
     },
     "execution_count": 93,
     "metadata": {},
     "output_type": "execute_result"
    }
   ],
   "source": [
    "df.isnull().sum()"
   ]
  },
  {
   "cell_type": "code",
   "execution_count": 94,
   "id": "eb8da07d",
   "metadata": {},
   "outputs": [
    {
     "name": "stdout",
     "output_type": "stream",
     "text": [
      "CPU times: total: 766 ms\n",
      "Wall time: 2.94 s\n"
     ]
    }
   ],
   "source": [
    "%%time\n",
    "#dropping columns\n",
    "new_df = df.drop(['SetASideCode', 'SetASide', 'SecondaryContactTitle', 'SecondaryContactFullname', 'Description','PrimaryContactFullname','PrimaryContactEmail','PrimaryContactPhone' ,'PrimaryContactFax',\n",
    "                   'SecondaryContactEmail', 'SecondaryContactPhone', 'SecondaryContactFax', 'AdditionalInfoLink', 'Link','PrimaryContactTitle'],axis=1)"
   ]
  },
  {
   "cell_type": "code",
   "execution_count": 95,
   "id": "286641b9",
   "metadata": {},
   "outputs": [
    {
     "data": {
      "text/plain": [
       "(1429970, 32)"
      ]
     },
     "execution_count": 95,
     "metadata": {},
     "output_type": "execute_result"
    }
   ],
   "source": [
    "new_df.shape"
   ]
  },
  {
   "cell_type": "code",
   "execution_count": 96,
   "id": "08a06b17",
   "metadata": {},
   "outputs": [
    {
     "name": "stdout",
     "output_type": "stream",
     "text": [
      "CPU times: total: 312 ms\n",
      "Wall time: 683 ms\n"
     ]
    }
   ],
   "source": [
    "%%time\n",
    "def date_conversion(date):\n",
    "    date = pd.to_datetime(date, errors='coerce')\n",
    "    date = date.where(date.between('1678-01-01', '2262-04-11'), np.nan)\n",
    "    return date.interpolate(method='backfill')\n",
    "\n",
    "new_df['ArchiveDate'] = date_conversion(new_df['ArchiveDate'])\n",
    "new_df['AwardDate'] = date_conversion(new_df['AwardDate'])"
   ]
  },
  {
   "cell_type": "code",
   "execution_count": 97,
   "id": "116ba801",
   "metadata": {},
   "outputs": [
    {
     "name": "stdout",
     "output_type": "stream",
     "text": [
      "CPU times: total: 547 ms\n",
      "Wall time: 1.68 s\n"
     ]
    }
   ],
   "source": [
    "%%time\n",
    "new_df['ResponseDeadLine'] = pd.to_datetime(new_df['ResponseDeadLine'], errors='coerce', utc=True)\n",
    "mask = (new_df['ResponseDeadLine'].dt.year >= 1678) & (new_df['ResponseDeadLine'].dt.year <= 2262)\n",
    "new_df.loc[~mask, 'ResponseDeadLine'] = pd.NaT\n",
    "new_df['ResponseDeadLine'] = new_df['ResponseDeadLine'].interpolate(method='backfill')"
   ]
  },
  {
   "cell_type": "code",
   "execution_count": 98,
   "id": "c81cce80",
   "metadata": {},
   "outputs": [
    {
     "name": "stdout",
     "output_type": "stream",
     "text": [
      "CPU times: total: 906 ms\n",
      "Wall time: 4.48 s\n"
     ]
    }
   ],
   "source": [
    "%%time\n",
    "# Convert 'Award$' column to string type if not already\n",
    "new_df['Award$'] = new_df['Award$'].astype(str)\n",
    "\n",
    "# Extract numeric portion\n",
    "new_df['Award$'] = new_df['Award$'].str.extract(r'(\\d+\\.\\d+)').astype(float)\n"
   ]
  },
  {
   "cell_type": "code",
   "execution_count": 99,
   "id": "4f90afd1",
   "metadata": {},
   "outputs": [
    {
     "name": "stdout",
     "output_type": "stream",
     "text": [
      "0.0\n",
      "CPU times: total: 15.6 ms\n",
      "Wall time: 16.8 ms\n"
     ]
    }
   ],
   "source": [
    "%%time\n",
    "# Calculate min\n",
    "min_value = new_df['Award$'].min()\n",
    "\n",
    "new_df['Award$'] = new_df['Award$'].fillna(value = min_value)\n",
    "\n",
    "print(min_value)"
   ]
  },
  {
   "cell_type": "code",
   "execution_count": 100,
   "id": "2d64bc74",
   "metadata": {},
   "outputs": [
    {
     "name": "stdout",
     "output_type": "stream",
     "text": [
      "CPU times: total: 1.17 s\n",
      "Wall time: 2.68 s\n"
     ]
    }
   ],
   "source": [
    "%%time\n",
    "#filling null values for the columns\n",
    "new_df[['Title','Department/Ind.Agency','CGAC','Sol#','FPDS Code','AAC Code','NaicsCode','ClassificationCode','PopStreetAddress','PopCity','PopState','PopZip','PopCountry','Office']] = new_df[['Title','Department/Ind.Agency','CGAC','Sol#','FPDS Code','AAC Code','NaicsCode','ClassificationCode','PopStreetAddress','PopCity','PopState','PopZip','PopCountry','Office']].fillna('OTHER')\n",
    "new_df[['OrganizationType','State','City','CountryCode','ZipCode','AwardNumber','Awardee']] = new_df[['OrganizationType','State','City','CountryCode','ZipCode','AwardNumber','Awardee']] .fillna('UNKNOWN')\n",
    "\n"
   ]
  },
  {
   "cell_type": "markdown",
   "id": "799ba5c8",
   "metadata": {},
   "source": [
    "# There is an increase in contract awarded by dollar amount overall for all federal agencies."
   ]
  },
  {
   "cell_type": "code",
   "execution_count": 101,
   "id": "14e44860",
   "metadata": {},
   "outputs": [],
   "source": [
    "desired_years = [2020, 2021, 2022, 2023]\n",
    "filtered_df = new_df[new_df['AwardDate'].dt.year.isin(desired_years)]\n"
   ]
  },
  {
   "cell_type": "code",
   "execution_count": 102,
   "id": "0c315ea8",
   "metadata": {},
   "outputs": [
    {
     "data": {
      "text/plain": [
       "(1352729, 32)"
      ]
     },
     "execution_count": 102,
     "metadata": {},
     "output_type": "execute_result"
    }
   ],
   "source": [
    "filtered_df.shape"
   ]
  },
  {
   "cell_type": "code",
   "execution_count": 103,
   "id": "3f6a2d5f",
   "metadata": {},
   "outputs": [
    {
     "name": "stderr",
     "output_type": "stream",
     "text": [
      "C:\\Users\\bharg\\AppData\\Local\\Temp\\ipykernel_18700\\2799674919.py:1: SettingWithCopyWarning:\n",
      "\n",
      "\n",
      "A value is trying to be set on a copy of a slice from a DataFrame.\n",
      "Try using .loc[row_indexer,col_indexer] = value instead\n",
      "\n",
      "See the caveats in the documentation: https://pandas.pydata.org/pandas-docs/stable/user_guide/indexing.html#returning-a-view-versus-a-copy\n",
      "\n"
     ]
    },
    {
     "name": "stdout",
     "output_type": "stream",
     "text": [
      "Total Award Amount for Federal Agencies:\n",
      "Year\n",
      "2020   $5,254,814,367.29\n",
      "2021      $50,699,540.87\n",
      "2022     $264,958,018.72\n",
      "2023      $51,685,778.54\n",
      "Name: Award$, dtype: float64\n"
     ]
    }
   ],
   "source": [
    "\n",
    "filtered_df['Year'] = filtered_df['AwardDate'].dt.year\n",
    "# Drop rows with missing values in the 'Department/Ind.Agency' column\n",
    "filtered_df = filtered_df.dropna(subset=['Department/Ind.Agency'])\n",
    "\n",
    "# Filter rows where the agency name contains 'FEDERAL' and calculate total award amount per year\n",
    "total_award_per_year = filtered_df[filtered_df['Department/Ind.Agency'].str.contains('FEDERAL')].groupby('Year')['Award$'].sum()\n",
    "\n",
    "# Set the display format for float values\n",
    "pd.options.display.float_format = '${:,.2f}'.format\n",
    "\n",
    "# Display total award amount for federal agencies per year\n",
    "print(\"Total Award Amount for Federal Agencies:\")\n",
    "print(total_award_per_year)\n"
   ]
  },
  {
   "cell_type": "code",
   "execution_count": 122,
   "id": "4b4b24e7",
   "metadata": {},
   "outputs": [
    {
     "data": {
      "application/vnd.plotly.v1+json": {
       "config": {
        "plotlyServerURL": "https://plot.ly"
       },
       "data": [
        {
         "alignmentgroup": "True",
         "hovertemplate": "Year=%{marker.color}<br>Total Award Amount ($)=%{y}<extra></extra>",
         "legendgroup": "",
         "marker": {
          "color": [
           2020,
           2021,
           2022,
           2023
          ],
          "coloraxis": "coloraxis",
          "pattern": {
           "shape": ""
          }
         },
         "name": "",
         "offsetgroup": "",
         "orientation": "v",
         "showlegend": false,
         "textposition": "auto",
         "type": "bar",
         "x": [
          2020,
          2021,
          2022,
          2023
         ],
         "xaxis": "x",
         "y": [
          5254814367.29,
          50699540.87,
          264958018.72,
          51685778.54
         ],
         "yaxis": "y"
        }
       ],
       "layout": {
        "barmode": "relative",
        "coloraxis": {
         "colorbar": {
          "title": {
           "text": "Year"
          }
         },
         "colorscale": [
          [
           0,
           "#0d0887"
          ],
          [
           0.1111111111111111,
           "#46039f"
          ],
          [
           0.2222222222222222,
           "#7201a8"
          ],
          [
           0.3333333333333333,
           "#9c179e"
          ],
          [
           0.4444444444444444,
           "#bd3786"
          ],
          [
           0.5555555555555556,
           "#d8576b"
          ],
          [
           0.6666666666666666,
           "#ed7953"
          ],
          [
           0.7777777777777778,
           "#fb9f3a"
          ],
          [
           0.8888888888888888,
           "#fdca26"
          ],
          [
           1,
           "#f0f921"
          ]
         ]
        },
        "height": 500,
        "legend": {
         "tracegroupgap": 0
        },
        "template": {
         "data": {
          "bar": [
           {
            "error_x": {
             "color": "#2a3f5f"
            },
            "error_y": {
             "color": "#2a3f5f"
            },
            "marker": {
             "line": {
              "color": "#E5ECF6",
              "width": 0.5
             },
             "pattern": {
              "fillmode": "overlay",
              "size": 10,
              "solidity": 0.2
             }
            },
            "type": "bar"
           }
          ],
          "barpolar": [
           {
            "marker": {
             "line": {
              "color": "#E5ECF6",
              "width": 0.5
             },
             "pattern": {
              "fillmode": "overlay",
              "size": 10,
              "solidity": 0.2
             }
            },
            "type": "barpolar"
           }
          ],
          "carpet": [
           {
            "aaxis": {
             "endlinecolor": "#2a3f5f",
             "gridcolor": "white",
             "linecolor": "white",
             "minorgridcolor": "white",
             "startlinecolor": "#2a3f5f"
            },
            "baxis": {
             "endlinecolor": "#2a3f5f",
             "gridcolor": "white",
             "linecolor": "white",
             "minorgridcolor": "white",
             "startlinecolor": "#2a3f5f"
            },
            "type": "carpet"
           }
          ],
          "choropleth": [
           {
            "colorbar": {
             "outlinewidth": 0,
             "ticks": ""
            },
            "type": "choropleth"
           }
          ],
          "contour": [
           {
            "colorbar": {
             "outlinewidth": 0,
             "ticks": ""
            },
            "colorscale": [
             [
              0,
              "#0d0887"
             ],
             [
              0.1111111111111111,
              "#46039f"
             ],
             [
              0.2222222222222222,
              "#7201a8"
             ],
             [
              0.3333333333333333,
              "#9c179e"
             ],
             [
              0.4444444444444444,
              "#bd3786"
             ],
             [
              0.5555555555555556,
              "#d8576b"
             ],
             [
              0.6666666666666666,
              "#ed7953"
             ],
             [
              0.7777777777777778,
              "#fb9f3a"
             ],
             [
              0.8888888888888888,
              "#fdca26"
             ],
             [
              1,
              "#f0f921"
             ]
            ],
            "type": "contour"
           }
          ],
          "contourcarpet": [
           {
            "colorbar": {
             "outlinewidth": 0,
             "ticks": ""
            },
            "type": "contourcarpet"
           }
          ],
          "heatmap": [
           {
            "colorbar": {
             "outlinewidth": 0,
             "ticks": ""
            },
            "colorscale": [
             [
              0,
              "#0d0887"
             ],
             [
              0.1111111111111111,
              "#46039f"
             ],
             [
              0.2222222222222222,
              "#7201a8"
             ],
             [
              0.3333333333333333,
              "#9c179e"
             ],
             [
              0.4444444444444444,
              "#bd3786"
             ],
             [
              0.5555555555555556,
              "#d8576b"
             ],
             [
              0.6666666666666666,
              "#ed7953"
             ],
             [
              0.7777777777777778,
              "#fb9f3a"
             ],
             [
              0.8888888888888888,
              "#fdca26"
             ],
             [
              1,
              "#f0f921"
             ]
            ],
            "type": "heatmap"
           }
          ],
          "heatmapgl": [
           {
            "colorbar": {
             "outlinewidth": 0,
             "ticks": ""
            },
            "colorscale": [
             [
              0,
              "#0d0887"
             ],
             [
              0.1111111111111111,
              "#46039f"
             ],
             [
              0.2222222222222222,
              "#7201a8"
             ],
             [
              0.3333333333333333,
              "#9c179e"
             ],
             [
              0.4444444444444444,
              "#bd3786"
             ],
             [
              0.5555555555555556,
              "#d8576b"
             ],
             [
              0.6666666666666666,
              "#ed7953"
             ],
             [
              0.7777777777777778,
              "#fb9f3a"
             ],
             [
              0.8888888888888888,
              "#fdca26"
             ],
             [
              1,
              "#f0f921"
             ]
            ],
            "type": "heatmapgl"
           }
          ],
          "histogram": [
           {
            "marker": {
             "pattern": {
              "fillmode": "overlay",
              "size": 10,
              "solidity": 0.2
             }
            },
            "type": "histogram"
           }
          ],
          "histogram2d": [
           {
            "colorbar": {
             "outlinewidth": 0,
             "ticks": ""
            },
            "colorscale": [
             [
              0,
              "#0d0887"
             ],
             [
              0.1111111111111111,
              "#46039f"
             ],
             [
              0.2222222222222222,
              "#7201a8"
             ],
             [
              0.3333333333333333,
              "#9c179e"
             ],
             [
              0.4444444444444444,
              "#bd3786"
             ],
             [
              0.5555555555555556,
              "#d8576b"
             ],
             [
              0.6666666666666666,
              "#ed7953"
             ],
             [
              0.7777777777777778,
              "#fb9f3a"
             ],
             [
              0.8888888888888888,
              "#fdca26"
             ],
             [
              1,
              "#f0f921"
             ]
            ],
            "type": "histogram2d"
           }
          ],
          "histogram2dcontour": [
           {
            "colorbar": {
             "outlinewidth": 0,
             "ticks": ""
            },
            "colorscale": [
             [
              0,
              "#0d0887"
             ],
             [
              0.1111111111111111,
              "#46039f"
             ],
             [
              0.2222222222222222,
              "#7201a8"
             ],
             [
              0.3333333333333333,
              "#9c179e"
             ],
             [
              0.4444444444444444,
              "#bd3786"
             ],
             [
              0.5555555555555556,
              "#d8576b"
             ],
             [
              0.6666666666666666,
              "#ed7953"
             ],
             [
              0.7777777777777778,
              "#fb9f3a"
             ],
             [
              0.8888888888888888,
              "#fdca26"
             ],
             [
              1,
              "#f0f921"
             ]
            ],
            "type": "histogram2dcontour"
           }
          ],
          "mesh3d": [
           {
            "colorbar": {
             "outlinewidth": 0,
             "ticks": ""
            },
            "type": "mesh3d"
           }
          ],
          "parcoords": [
           {
            "line": {
             "colorbar": {
              "outlinewidth": 0,
              "ticks": ""
             }
            },
            "type": "parcoords"
           }
          ],
          "pie": [
           {
            "automargin": true,
            "type": "pie"
           }
          ],
          "scatter": [
           {
            "fillpattern": {
             "fillmode": "overlay",
             "size": 10,
             "solidity": 0.2
            },
            "type": "scatter"
           }
          ],
          "scatter3d": [
           {
            "line": {
             "colorbar": {
              "outlinewidth": 0,
              "ticks": ""
             }
            },
            "marker": {
             "colorbar": {
              "outlinewidth": 0,
              "ticks": ""
             }
            },
            "type": "scatter3d"
           }
          ],
          "scattercarpet": [
           {
            "marker": {
             "colorbar": {
              "outlinewidth": 0,
              "ticks": ""
             }
            },
            "type": "scattercarpet"
           }
          ],
          "scattergeo": [
           {
            "marker": {
             "colorbar": {
              "outlinewidth": 0,
              "ticks": ""
             }
            },
            "type": "scattergeo"
           }
          ],
          "scattergl": [
           {
            "marker": {
             "colorbar": {
              "outlinewidth": 0,
              "ticks": ""
             }
            },
            "type": "scattergl"
           }
          ],
          "scattermapbox": [
           {
            "marker": {
             "colorbar": {
              "outlinewidth": 0,
              "ticks": ""
             }
            },
            "type": "scattermapbox"
           }
          ],
          "scatterpolar": [
           {
            "marker": {
             "colorbar": {
              "outlinewidth": 0,
              "ticks": ""
             }
            },
            "type": "scatterpolar"
           }
          ],
          "scatterpolargl": [
           {
            "marker": {
             "colorbar": {
              "outlinewidth": 0,
              "ticks": ""
             }
            },
            "type": "scatterpolargl"
           }
          ],
          "scatterternary": [
           {
            "marker": {
             "colorbar": {
              "outlinewidth": 0,
              "ticks": ""
             }
            },
            "type": "scatterternary"
           }
          ],
          "surface": [
           {
            "colorbar": {
             "outlinewidth": 0,
             "ticks": ""
            },
            "colorscale": [
             [
              0,
              "#0d0887"
             ],
             [
              0.1111111111111111,
              "#46039f"
             ],
             [
              0.2222222222222222,
              "#7201a8"
             ],
             [
              0.3333333333333333,
              "#9c179e"
             ],
             [
              0.4444444444444444,
              "#bd3786"
             ],
             [
              0.5555555555555556,
              "#d8576b"
             ],
             [
              0.6666666666666666,
              "#ed7953"
             ],
             [
              0.7777777777777778,
              "#fb9f3a"
             ],
             [
              0.8888888888888888,
              "#fdca26"
             ],
             [
              1,
              "#f0f921"
             ]
            ],
            "type": "surface"
           }
          ],
          "table": [
           {
            "cells": {
             "fill": {
              "color": "#EBF0F8"
             },
             "line": {
              "color": "white"
             }
            },
            "header": {
             "fill": {
              "color": "#C8D4E3"
             },
             "line": {
              "color": "white"
             }
            },
            "type": "table"
           }
          ]
         },
         "layout": {
          "annotationdefaults": {
           "arrowcolor": "#2a3f5f",
           "arrowhead": 0,
           "arrowwidth": 1
          },
          "autotypenumbers": "strict",
          "coloraxis": {
           "colorbar": {
            "outlinewidth": 0,
            "ticks": ""
           }
          },
          "colorscale": {
           "diverging": [
            [
             0,
             "#8e0152"
            ],
            [
             0.1,
             "#c51b7d"
            ],
            [
             0.2,
             "#de77ae"
            ],
            [
             0.3,
             "#f1b6da"
            ],
            [
             0.4,
             "#fde0ef"
            ],
            [
             0.5,
             "#f7f7f7"
            ],
            [
             0.6,
             "#e6f5d0"
            ],
            [
             0.7,
             "#b8e186"
            ],
            [
             0.8,
             "#7fbc41"
            ],
            [
             0.9,
             "#4d9221"
            ],
            [
             1,
             "#276419"
            ]
           ],
           "sequential": [
            [
             0,
             "#0d0887"
            ],
            [
             0.1111111111111111,
             "#46039f"
            ],
            [
             0.2222222222222222,
             "#7201a8"
            ],
            [
             0.3333333333333333,
             "#9c179e"
            ],
            [
             0.4444444444444444,
             "#bd3786"
            ],
            [
             0.5555555555555556,
             "#d8576b"
            ],
            [
             0.6666666666666666,
             "#ed7953"
            ],
            [
             0.7777777777777778,
             "#fb9f3a"
            ],
            [
             0.8888888888888888,
             "#fdca26"
            ],
            [
             1,
             "#f0f921"
            ]
           ],
           "sequentialminus": [
            [
             0,
             "#0d0887"
            ],
            [
             0.1111111111111111,
             "#46039f"
            ],
            [
             0.2222222222222222,
             "#7201a8"
            ],
            [
             0.3333333333333333,
             "#9c179e"
            ],
            [
             0.4444444444444444,
             "#bd3786"
            ],
            [
             0.5555555555555556,
             "#d8576b"
            ],
            [
             0.6666666666666666,
             "#ed7953"
            ],
            [
             0.7777777777777778,
             "#fb9f3a"
            ],
            [
             0.8888888888888888,
             "#fdca26"
            ],
            [
             1,
             "#f0f921"
            ]
           ]
          },
          "colorway": [
           "#636efa",
           "#EF553B",
           "#00cc96",
           "#ab63fa",
           "#FFA15A",
           "#19d3f3",
           "#FF6692",
           "#B6E880",
           "#FF97FF",
           "#FECB52"
          ],
          "font": {
           "color": "#2a3f5f"
          },
          "geo": {
           "bgcolor": "white",
           "lakecolor": "white",
           "landcolor": "#E5ECF6",
           "showlakes": true,
           "showland": true,
           "subunitcolor": "white"
          },
          "hoverlabel": {
           "align": "left"
          },
          "hovermode": "closest",
          "mapbox": {
           "style": "light"
          },
          "paper_bgcolor": "white",
          "plot_bgcolor": "#E5ECF6",
          "polar": {
           "angularaxis": {
            "gridcolor": "white",
            "linecolor": "white",
            "ticks": ""
           },
           "bgcolor": "#E5ECF6",
           "radialaxis": {
            "gridcolor": "white",
            "linecolor": "white",
            "ticks": ""
           }
          },
          "scene": {
           "xaxis": {
            "backgroundcolor": "#E5ECF6",
            "gridcolor": "white",
            "gridwidth": 2,
            "linecolor": "white",
            "showbackground": true,
            "ticks": "",
            "zerolinecolor": "white"
           },
           "yaxis": {
            "backgroundcolor": "#E5ECF6",
            "gridcolor": "white",
            "gridwidth": 2,
            "linecolor": "white",
            "showbackground": true,
            "ticks": "",
            "zerolinecolor": "white"
           },
           "zaxis": {
            "backgroundcolor": "#E5ECF6",
            "gridcolor": "white",
            "gridwidth": 2,
            "linecolor": "white",
            "showbackground": true,
            "ticks": "",
            "zerolinecolor": "white"
           }
          },
          "shapedefaults": {
           "line": {
            "color": "#2a3f5f"
           }
          },
          "ternary": {
           "aaxis": {
            "gridcolor": "white",
            "linecolor": "white",
            "ticks": ""
           },
           "baxis": {
            "gridcolor": "white",
            "linecolor": "white",
            "ticks": ""
           },
           "bgcolor": "#E5ECF6",
           "caxis": {
            "gridcolor": "white",
            "linecolor": "white",
            "ticks": ""
           }
          },
          "title": {
           "x": 0.05
          },
          "xaxis": {
           "automargin": true,
           "gridcolor": "white",
           "linecolor": "white",
           "ticks": "",
           "title": {
            "standoff": 15
           },
           "zerolinecolor": "white",
           "zerolinewidth": 2
          },
          "yaxis": {
           "automargin": true,
           "gridcolor": "white",
           "linecolor": "white",
           "ticks": "",
           "title": {
            "standoff": 15
           },
           "zerolinecolor": "white",
           "zerolinewidth": 2
          }
         }
        },
        "title": {
         "text": "Total Award Amount for Federal Agencies per Year (Non-Zero Values)"
        },
        "xaxis": {
         "anchor": "y",
         "domain": [
          0,
          1
         ],
         "title": {
          "text": "Year"
         }
        },
        "yaxis": {
         "anchor": "x",
         "domain": [
          0,
          1
         ],
         "title": {
          "text": "Total Award Amount ($)"
         }
        }
       }
      },
      "text/html": [
       "<div>                            <div id=\"bc778840-39cb-4309-9342-c0d381aac6fa\" class=\"plotly-graph-div\" style=\"height:500px; width:100%;\"></div>            <script type=\"text/javascript\">                require([\"plotly\"], function(Plotly) {                    window.PLOTLYENV=window.PLOTLYENV || {};                                    if (document.getElementById(\"bc778840-39cb-4309-9342-c0d381aac6fa\")) {                    Plotly.newPlot(                        \"bc778840-39cb-4309-9342-c0d381aac6fa\",                        [{\"alignmentgroup\":\"True\",\"hovertemplate\":\"Year=%{marker.color}<br>Total Award Amount ($)=%{y}<extra></extra>\",\"legendgroup\":\"\",\"marker\":{\"color\":[2020,2021,2022,2023],\"coloraxis\":\"coloraxis\",\"pattern\":{\"shape\":\"\"}},\"name\":\"\",\"offsetgroup\":\"\",\"orientation\":\"v\",\"showlegend\":false,\"textposition\":\"auto\",\"x\":[2020,2021,2022,2023],\"xaxis\":\"x\",\"y\":[5254814367.29,50699540.87,264958018.72,51685778.54],\"yaxis\":\"y\",\"type\":\"bar\"}],                        {\"template\":{\"data\":{\"histogram2dcontour\":[{\"type\":\"histogram2dcontour\",\"colorbar\":{\"outlinewidth\":0,\"ticks\":\"\"},\"colorscale\":[[0.0,\"#0d0887\"],[0.1111111111111111,\"#46039f\"],[0.2222222222222222,\"#7201a8\"],[0.3333333333333333,\"#9c179e\"],[0.4444444444444444,\"#bd3786\"],[0.5555555555555556,\"#d8576b\"],[0.6666666666666666,\"#ed7953\"],[0.7777777777777778,\"#fb9f3a\"],[0.8888888888888888,\"#fdca26\"],[1.0,\"#f0f921\"]]}],\"choropleth\":[{\"type\":\"choropleth\",\"colorbar\":{\"outlinewidth\":0,\"ticks\":\"\"}}],\"histogram2d\":[{\"type\":\"histogram2d\",\"colorbar\":{\"outlinewidth\":0,\"ticks\":\"\"},\"colorscale\":[[0.0,\"#0d0887\"],[0.1111111111111111,\"#46039f\"],[0.2222222222222222,\"#7201a8\"],[0.3333333333333333,\"#9c179e\"],[0.4444444444444444,\"#bd3786\"],[0.5555555555555556,\"#d8576b\"],[0.6666666666666666,\"#ed7953\"],[0.7777777777777778,\"#fb9f3a\"],[0.8888888888888888,\"#fdca26\"],[1.0,\"#f0f921\"]]}],\"heatmap\":[{\"type\":\"heatmap\",\"colorbar\":{\"outlinewidth\":0,\"ticks\":\"\"},\"colorscale\":[[0.0,\"#0d0887\"],[0.1111111111111111,\"#46039f\"],[0.2222222222222222,\"#7201a8\"],[0.3333333333333333,\"#9c179e\"],[0.4444444444444444,\"#bd3786\"],[0.5555555555555556,\"#d8576b\"],[0.6666666666666666,\"#ed7953\"],[0.7777777777777778,\"#fb9f3a\"],[0.8888888888888888,\"#fdca26\"],[1.0,\"#f0f921\"]]}],\"heatmapgl\":[{\"type\":\"heatmapgl\",\"colorbar\":{\"outlinewidth\":0,\"ticks\":\"\"},\"colorscale\":[[0.0,\"#0d0887\"],[0.1111111111111111,\"#46039f\"],[0.2222222222222222,\"#7201a8\"],[0.3333333333333333,\"#9c179e\"],[0.4444444444444444,\"#bd3786\"],[0.5555555555555556,\"#d8576b\"],[0.6666666666666666,\"#ed7953\"],[0.7777777777777778,\"#fb9f3a\"],[0.8888888888888888,\"#fdca26\"],[1.0,\"#f0f921\"]]}],\"contourcarpet\":[{\"type\":\"contourcarpet\",\"colorbar\":{\"outlinewidth\":0,\"ticks\":\"\"}}],\"contour\":[{\"type\":\"contour\",\"colorbar\":{\"outlinewidth\":0,\"ticks\":\"\"},\"colorscale\":[[0.0,\"#0d0887\"],[0.1111111111111111,\"#46039f\"],[0.2222222222222222,\"#7201a8\"],[0.3333333333333333,\"#9c179e\"],[0.4444444444444444,\"#bd3786\"],[0.5555555555555556,\"#d8576b\"],[0.6666666666666666,\"#ed7953\"],[0.7777777777777778,\"#fb9f3a\"],[0.8888888888888888,\"#fdca26\"],[1.0,\"#f0f921\"]]}],\"surface\":[{\"type\":\"surface\",\"colorbar\":{\"outlinewidth\":0,\"ticks\":\"\"},\"colorscale\":[[0.0,\"#0d0887\"],[0.1111111111111111,\"#46039f\"],[0.2222222222222222,\"#7201a8\"],[0.3333333333333333,\"#9c179e\"],[0.4444444444444444,\"#bd3786\"],[0.5555555555555556,\"#d8576b\"],[0.6666666666666666,\"#ed7953\"],[0.7777777777777778,\"#fb9f3a\"],[0.8888888888888888,\"#fdca26\"],[1.0,\"#f0f921\"]]}],\"mesh3d\":[{\"type\":\"mesh3d\",\"colorbar\":{\"outlinewidth\":0,\"ticks\":\"\"}}],\"scatter\":[{\"fillpattern\":{\"fillmode\":\"overlay\",\"size\":10,\"solidity\":0.2},\"type\":\"scatter\"}],\"parcoords\":[{\"type\":\"parcoords\",\"line\":{\"colorbar\":{\"outlinewidth\":0,\"ticks\":\"\"}}}],\"scatterpolargl\":[{\"type\":\"scatterpolargl\",\"marker\":{\"colorbar\":{\"outlinewidth\":0,\"ticks\":\"\"}}}],\"bar\":[{\"error_x\":{\"color\":\"#2a3f5f\"},\"error_y\":{\"color\":\"#2a3f5f\"},\"marker\":{\"line\":{\"color\":\"#E5ECF6\",\"width\":0.5},\"pattern\":{\"fillmode\":\"overlay\",\"size\":10,\"solidity\":0.2}},\"type\":\"bar\"}],\"scattergeo\":[{\"type\":\"scattergeo\",\"marker\":{\"colorbar\":{\"outlinewidth\":0,\"ticks\":\"\"}}}],\"scatterpolar\":[{\"type\":\"scatterpolar\",\"marker\":{\"colorbar\":{\"outlinewidth\":0,\"ticks\":\"\"}}}],\"histogram\":[{\"marker\":{\"pattern\":{\"fillmode\":\"overlay\",\"size\":10,\"solidity\":0.2}},\"type\":\"histogram\"}],\"scattergl\":[{\"type\":\"scattergl\",\"marker\":{\"colorbar\":{\"outlinewidth\":0,\"ticks\":\"\"}}}],\"scatter3d\":[{\"type\":\"scatter3d\",\"line\":{\"colorbar\":{\"outlinewidth\":0,\"ticks\":\"\"}},\"marker\":{\"colorbar\":{\"outlinewidth\":0,\"ticks\":\"\"}}}],\"scattermapbox\":[{\"type\":\"scattermapbox\",\"marker\":{\"colorbar\":{\"outlinewidth\":0,\"ticks\":\"\"}}}],\"scatterternary\":[{\"type\":\"scatterternary\",\"marker\":{\"colorbar\":{\"outlinewidth\":0,\"ticks\":\"\"}}}],\"scattercarpet\":[{\"type\":\"scattercarpet\",\"marker\":{\"colorbar\":{\"outlinewidth\":0,\"ticks\":\"\"}}}],\"carpet\":[{\"aaxis\":{\"endlinecolor\":\"#2a3f5f\",\"gridcolor\":\"white\",\"linecolor\":\"white\",\"minorgridcolor\":\"white\",\"startlinecolor\":\"#2a3f5f\"},\"baxis\":{\"endlinecolor\":\"#2a3f5f\",\"gridcolor\":\"white\",\"linecolor\":\"white\",\"minorgridcolor\":\"white\",\"startlinecolor\":\"#2a3f5f\"},\"type\":\"carpet\"}],\"table\":[{\"cells\":{\"fill\":{\"color\":\"#EBF0F8\"},\"line\":{\"color\":\"white\"}},\"header\":{\"fill\":{\"color\":\"#C8D4E3\"},\"line\":{\"color\":\"white\"}},\"type\":\"table\"}],\"barpolar\":[{\"marker\":{\"line\":{\"color\":\"#E5ECF6\",\"width\":0.5},\"pattern\":{\"fillmode\":\"overlay\",\"size\":10,\"solidity\":0.2}},\"type\":\"barpolar\"}],\"pie\":[{\"automargin\":true,\"type\":\"pie\"}]},\"layout\":{\"autotypenumbers\":\"strict\",\"colorway\":[\"#636efa\",\"#EF553B\",\"#00cc96\",\"#ab63fa\",\"#FFA15A\",\"#19d3f3\",\"#FF6692\",\"#B6E880\",\"#FF97FF\",\"#FECB52\"],\"font\":{\"color\":\"#2a3f5f\"},\"hovermode\":\"closest\",\"hoverlabel\":{\"align\":\"left\"},\"paper_bgcolor\":\"white\",\"plot_bgcolor\":\"#E5ECF6\",\"polar\":{\"bgcolor\":\"#E5ECF6\",\"angularaxis\":{\"gridcolor\":\"white\",\"linecolor\":\"white\",\"ticks\":\"\"},\"radialaxis\":{\"gridcolor\":\"white\",\"linecolor\":\"white\",\"ticks\":\"\"}},\"ternary\":{\"bgcolor\":\"#E5ECF6\",\"aaxis\":{\"gridcolor\":\"white\",\"linecolor\":\"white\",\"ticks\":\"\"},\"baxis\":{\"gridcolor\":\"white\",\"linecolor\":\"white\",\"ticks\":\"\"},\"caxis\":{\"gridcolor\":\"white\",\"linecolor\":\"white\",\"ticks\":\"\"}},\"coloraxis\":{\"colorbar\":{\"outlinewidth\":0,\"ticks\":\"\"}},\"colorscale\":{\"sequential\":[[0.0,\"#0d0887\"],[0.1111111111111111,\"#46039f\"],[0.2222222222222222,\"#7201a8\"],[0.3333333333333333,\"#9c179e\"],[0.4444444444444444,\"#bd3786\"],[0.5555555555555556,\"#d8576b\"],[0.6666666666666666,\"#ed7953\"],[0.7777777777777778,\"#fb9f3a\"],[0.8888888888888888,\"#fdca26\"],[1.0,\"#f0f921\"]],\"sequentialminus\":[[0.0,\"#0d0887\"],[0.1111111111111111,\"#46039f\"],[0.2222222222222222,\"#7201a8\"],[0.3333333333333333,\"#9c179e\"],[0.4444444444444444,\"#bd3786\"],[0.5555555555555556,\"#d8576b\"],[0.6666666666666666,\"#ed7953\"],[0.7777777777777778,\"#fb9f3a\"],[0.8888888888888888,\"#fdca26\"],[1.0,\"#f0f921\"]],\"diverging\":[[0,\"#8e0152\"],[0.1,\"#c51b7d\"],[0.2,\"#de77ae\"],[0.3,\"#f1b6da\"],[0.4,\"#fde0ef\"],[0.5,\"#f7f7f7\"],[0.6,\"#e6f5d0\"],[0.7,\"#b8e186\"],[0.8,\"#7fbc41\"],[0.9,\"#4d9221\"],[1,\"#276419\"]]},\"xaxis\":{\"gridcolor\":\"white\",\"linecolor\":\"white\",\"ticks\":\"\",\"title\":{\"standoff\":15},\"zerolinecolor\":\"white\",\"automargin\":true,\"zerolinewidth\":2},\"yaxis\":{\"gridcolor\":\"white\",\"linecolor\":\"white\",\"ticks\":\"\",\"title\":{\"standoff\":15},\"zerolinecolor\":\"white\",\"automargin\":true,\"zerolinewidth\":2},\"scene\":{\"xaxis\":{\"backgroundcolor\":\"#E5ECF6\",\"gridcolor\":\"white\",\"linecolor\":\"white\",\"showbackground\":true,\"ticks\":\"\",\"zerolinecolor\":\"white\",\"gridwidth\":2},\"yaxis\":{\"backgroundcolor\":\"#E5ECF6\",\"gridcolor\":\"white\",\"linecolor\":\"white\",\"showbackground\":true,\"ticks\":\"\",\"zerolinecolor\":\"white\",\"gridwidth\":2},\"zaxis\":{\"backgroundcolor\":\"#E5ECF6\",\"gridcolor\":\"white\",\"linecolor\":\"white\",\"showbackground\":true,\"ticks\":\"\",\"zerolinecolor\":\"white\",\"gridwidth\":2}},\"shapedefaults\":{\"line\":{\"color\":\"#2a3f5f\"}},\"annotationdefaults\":{\"arrowcolor\":\"#2a3f5f\",\"arrowhead\":0,\"arrowwidth\":1},\"geo\":{\"bgcolor\":\"white\",\"landcolor\":\"#E5ECF6\",\"subunitcolor\":\"white\",\"showland\":true,\"showlakes\":true,\"lakecolor\":\"white\"},\"title\":{\"x\":0.05},\"mapbox\":{\"style\":\"light\"}}},\"xaxis\":{\"anchor\":\"y\",\"domain\":[0.0,1.0],\"title\":{\"text\":\"Year\"}},\"yaxis\":{\"anchor\":\"x\",\"domain\":[0.0,1.0],\"title\":{\"text\":\"Total Award Amount ($)\"}},\"coloraxis\":{\"colorbar\":{\"title\":{\"text\":\"Year\"}},\"colorscale\":[[0.0,\"#0d0887\"],[0.1111111111111111,\"#46039f\"],[0.2222222222222222,\"#7201a8\"],[0.3333333333333333,\"#9c179e\"],[0.4444444444444444,\"#bd3786\"],[0.5555555555555556,\"#d8576b\"],[0.6666666666666666,\"#ed7953\"],[0.7777777777777778,\"#fb9f3a\"],[0.8888888888888888,\"#fdca26\"],[1.0,\"#f0f921\"]]},\"legend\":{\"tracegroupgap\":0},\"title\":{\"text\":\"Total Award Amount for Federal Agencies per Year (Non-Zero Values)\"},\"barmode\":\"relative\",\"height\":500},                        {\"responsive\": true}                    ).then(function(){\n",
       "                            \n",
       "var gd = document.getElementById('bc778840-39cb-4309-9342-c0d381aac6fa');\n",
       "var x = new MutationObserver(function (mutations, observer) {{\n",
       "        var display = window.getComputedStyle(gd).display;\n",
       "        if (!display || display === 'none') {{\n",
       "            console.log([gd, 'removed!']);\n",
       "            Plotly.purge(gd);\n",
       "            observer.disconnect();\n",
       "        }}\n",
       "}});\n",
       "\n",
       "// Listen for the removal of the full notebook cells\n",
       "var notebookContainer = gd.closest('#notebook-container');\n",
       "if (notebookContainer) {{\n",
       "    x.observe(notebookContainer, {childList: true});\n",
       "}}\n",
       "\n",
       "// Listen for the clearing of the current output cell\n",
       "var outputEl = gd.closest('.output');\n",
       "if (outputEl) {{\n",
       "    x.observe(outputEl, {childList: true});\n",
       "}}\n",
       "\n",
       "                        })                };                });            </script>        </div>"
      ]
     },
     "metadata": {},
     "output_type": "display_data"
    }
   ],
   "source": [
    "# Assuming 'filtered_df' is your DataFrame\n",
    "filtered_df['Year'] = filtered_df['AwardDate'].dt.year\n",
    "filtered_df = filtered_df.dropna(subset=['Department/Ind.Agency'])\n",
    "\n",
    "# Filter rows where the agency name contains 'FEDERAL' and calculate total award amount per year\n",
    "total_award_per_year = filtered_df[filtered_df['Department/Ind.Agency'].str.contains('FEDERAL')].groupby('Year')['Award$'].sum()\n",
    "\n",
    "# Remove years with zero values\n",
    "total_award_per_year = total_award_per_year[total_award_per_year != 0].reset_index()\n",
    "\n",
    "# Plotting the data interactively using Plotly Express\n",
    "fig = px.bar(total_award_per_year, x='Year', y='Award$', color='Year',\n",
    "             labels={'Award$': 'Total Award Amount ($)'},\n",
    "             title='Total Award Amount for Federal Agencies per Year (Non-Zero Values)',\n",
    "             template='plotly', height=500)\n",
    "\n",
    "# Show the plot interactively\n",
    "fig.show()"
   ]
  },
  {
   "cell_type": "markdown",
   "id": "70313c3d",
   "metadata": {},
   "source": [
    "# 2 There are more dollar contract awarded by Department of Defense in any given year."
   ]
  },
  {
   "cell_type": "code",
   "execution_count": 105,
   "id": "bd0bf2e7",
   "metadata": {},
   "outputs": [],
   "source": [
    "import pandas as pd\n",
    "\n",
    "# Assuming you already have the 'filtered_df' DataFrame with the necessary columns\n",
    "\n",
    "# Year Extraction\n",
    "filtered_df['Year'] = filtered_df['AwardDate'].dt.year\n",
    "\n",
    "# Remove Missing Values\n",
    "filtered_df = filtered_df.dropna(subset=['Department/Ind.Agency'])\n",
    "\n",
    "# Identification of Department of Defense\n",
    "filtered_df['Is_DoD'] = filtered_df['Department/Ind.Agency'].str.contains('DEPT OF DEFENSE', case=False)\n",
    "\n",
    "# Group by year and department, then calculate total award amount\n",
    "total_award_per_year_all_departments = filtered_df.groupby(['Year', 'Department/Ind.Agency'])['Award$'].sum()\n",
    "\n",
    "# Resetting index to make it more readable\n",
    "total_award_per_year_all_departments = total_award_per_year_all_departments.reset_index()\n",
    "\n",
    "# Find the top 7 departments per year\n",
    "top_departments_per_year = total_award_per_year_all_departments.groupby('Year').apply(lambda x: x.nlargest(7, 'Award$'))\n",
    "\n",
    "# Extract only the necessary columns\n",
    "result_df = top_departments_per_year[['Year', 'Department/Ind.Agency', 'Award$']]\n",
    "\n",
    "# Set the display format for float values\n",
    "pd.options.display.float_format = '${:,.2f}'.format\n",
    "\n",
    "\n"
   ]
  },
  {
   "cell_type": "code",
   "execution_count": 106,
   "id": "44f7286f",
   "metadata": {},
   "outputs": [
    {
     "data": {
      "text/html": [
       "<div>\n",
       "<style scoped>\n",
       "    .dataframe tbody tr th:only-of-type {\n",
       "        vertical-align: middle;\n",
       "    }\n",
       "\n",
       "    .dataframe tbody tr th {\n",
       "        vertical-align: top;\n",
       "    }\n",
       "\n",
       "    .dataframe thead th {\n",
       "        text-align: right;\n",
       "    }\n",
       "</style>\n",
       "<table border=\"1\" class=\"dataframe\">\n",
       "  <thead>\n",
       "    <tr style=\"text-align: right;\">\n",
       "      <th></th>\n",
       "      <th></th>\n",
       "      <th>Year</th>\n",
       "      <th>Department/Ind.Agency</th>\n",
       "      <th>Award$</th>\n",
       "    </tr>\n",
       "    <tr>\n",
       "      <th>Year</th>\n",
       "      <th></th>\n",
       "      <th></th>\n",
       "      <th></th>\n",
       "      <th></th>\n",
       "    </tr>\n",
       "  </thead>\n",
       "  <tbody>\n",
       "    <tr>\n",
       "      <th rowspan=\"7\" valign=\"top\">2020</th>\n",
       "      <th>13</th>\n",
       "      <td>2020</td>\n",
       "      <td>DEPT OF DEFENSE</td>\n",
       "      <td>$675,268,518,544.54</td>\n",
       "    </tr>\n",
       "    <tr>\n",
       "      <th>79</th>\n",
       "      <td>2020</td>\n",
       "      <td>VETERANS AFFAIRS, DEPARTMENT OF</td>\n",
       "      <td>$40,316,666,774.32</td>\n",
       "    </tr>\n",
       "    <tr>\n",
       "      <th>16</th>\n",
       "      <td>2020</td>\n",
       "      <td>ENERGY, DEPARTMENT OF</td>\n",
       "      <td>$30,736,576,896.53</td>\n",
       "    </tr>\n",
       "    <tr>\n",
       "      <th>32</th>\n",
       "      <td>2020</td>\n",
       "      <td>HEALTH AND HUMAN SERVICES, DEPARTMENT OF</td>\n",
       "      <td>$27,551,869,158.25</td>\n",
       "    </tr>\n",
       "    <tr>\n",
       "      <th>30</th>\n",
       "      <td>2020</td>\n",
       "      <td>GENERAL SERVICES ADMINISTRATION</td>\n",
       "      <td>$26,171,186,276.37</td>\n",
       "    </tr>\n",
       "    <tr>\n",
       "      <th>33</th>\n",
       "      <td>2020</td>\n",
       "      <td>HOMELAND SECURITY, DEPARTMENT OF</td>\n",
       "      <td>$25,327,380,974.10</td>\n",
       "    </tr>\n",
       "    <tr>\n",
       "      <th>47</th>\n",
       "      <td>2020</td>\n",
       "      <td>NATIONAL AERONAUTICS AND SPACE ADMINISTRATION</td>\n",
       "      <td>$19,811,067,535.38</td>\n",
       "    </tr>\n",
       "    <tr>\n",
       "      <th rowspan=\"7\" valign=\"top\">2021</th>\n",
       "      <th>92</th>\n",
       "      <td>2021</td>\n",
       "      <td>DEPT OF DEFENSE</td>\n",
       "      <td>$673,154,335,579.76</td>\n",
       "    </tr>\n",
       "    <tr>\n",
       "      <th>105</th>\n",
       "      <td>2021</td>\n",
       "      <td>GENERAL SERVICES ADMINISTRATION</td>\n",
       "      <td>$165,503,278,847.95</td>\n",
       "    </tr>\n",
       "    <tr>\n",
       "      <th>107</th>\n",
       "      <td>2021</td>\n",
       "      <td>HEALTH AND HUMAN SERVICES, DEPARTMENT OF</td>\n",
       "      <td>$84,349,830,972.57</td>\n",
       "    </tr>\n",
       "    <tr>\n",
       "      <th>122</th>\n",
       "      <td>2021</td>\n",
       "      <td>NATIONAL AERONAUTICS AND SPACE ADMINISTRATION</td>\n",
       "      <td>$16,318,686,519.64</td>\n",
       "    </tr>\n",
       "    <tr>\n",
       "      <th>152</th>\n",
       "      <td>2021</td>\n",
       "      <td>VETERANS AFFAIRS, DEPARTMENT OF</td>\n",
       "      <td>$14,410,126,874.66</td>\n",
       "    </tr>\n",
       "    <tr>\n",
       "      <th>108</th>\n",
       "      <td>2021</td>\n",
       "      <td>HOMELAND SECURITY, DEPARTMENT OF</td>\n",
       "      <td>$14,135,942,942.25</td>\n",
       "    </tr>\n",
       "    <tr>\n",
       "      <th>85</th>\n",
       "      <td>2021</td>\n",
       "      <td>COMMERCE, DEPARTMENT OF</td>\n",
       "      <td>$8,311,869,088.07</td>\n",
       "    </tr>\n",
       "    <tr>\n",
       "      <th rowspan=\"7\" valign=\"top\">2022</th>\n",
       "      <th>191</th>\n",
       "      <td>2022</td>\n",
       "      <td>JUSTICE, DEPARTMENT OF</td>\n",
       "      <td>$153,063,903,616,924.75</td>\n",
       "    </tr>\n",
       "    <tr>\n",
       "      <th>184</th>\n",
       "      <td>2022</td>\n",
       "      <td>HOMELAND SECURITY, DEPARTMENT OF</td>\n",
       "      <td>$1,039,568,259,022.08</td>\n",
       "    </tr>\n",
       "    <tr>\n",
       "      <th>167</th>\n",
       "      <td>2022</td>\n",
       "      <td>DEPT OF DEFENSE</td>\n",
       "      <td>$649,444,159,503.03</td>\n",
       "    </tr>\n",
       "    <tr>\n",
       "      <th>181</th>\n",
       "      <td>2022</td>\n",
       "      <td>GENERAL SERVICES ADMINISTRATION</td>\n",
       "      <td>$167,367,583,930.74</td>\n",
       "    </tr>\n",
       "    <tr>\n",
       "      <th>183</th>\n",
       "      <td>2022</td>\n",
       "      <td>HEALTH AND HUMAN SERVICES, DEPARTMENT OF</td>\n",
       "      <td>$53,208,684,126.03</td>\n",
       "    </tr>\n",
       "    <tr>\n",
       "      <th>197</th>\n",
       "      <td>2022</td>\n",
       "      <td>NATIONAL AERONAUTICS AND SPACE ADMINISTRATION</td>\n",
       "      <td>$40,889,504,425.67</td>\n",
       "    </tr>\n",
       "    <tr>\n",
       "      <th>228</th>\n",
       "      <td>2022</td>\n",
       "      <td>VETERANS AFFAIRS, DEPARTMENT OF</td>\n",
       "      <td>$28,748,892,512.38</td>\n",
       "    </tr>\n",
       "    <tr>\n",
       "      <th rowspan=\"7\" valign=\"top\">2023</th>\n",
       "      <th>243</th>\n",
       "      <td>2023</td>\n",
       "      <td>DEPT OF DEFENSE</td>\n",
       "      <td>$307,831,678,081.19</td>\n",
       "    </tr>\n",
       "    <tr>\n",
       "      <th>303</th>\n",
       "      <td>2023</td>\n",
       "      <td>VETERANS AFFAIRS, DEPARTMENT OF</td>\n",
       "      <td>$105,992,006,195.54</td>\n",
       "    </tr>\n",
       "    <tr>\n",
       "      <th>261</th>\n",
       "      <td>2023</td>\n",
       "      <td>HEALTH AND HUMAN SERVICES, DEPARTMENT OF</td>\n",
       "      <td>$25,551,240,287.88</td>\n",
       "    </tr>\n",
       "    <tr>\n",
       "      <th>273</th>\n",
       "      <td>2023</td>\n",
       "      <td>NATIONAL AERONAUTICS AND SPACE ADMINISTRATION</td>\n",
       "      <td>$20,322,792,895.03</td>\n",
       "    </tr>\n",
       "    <tr>\n",
       "      <th>231</th>\n",
       "      <td>2023</td>\n",
       "      <td>AGRICULTURE, DEPARTMENT OF</td>\n",
       "      <td>$16,245,322,536.38</td>\n",
       "    </tr>\n",
       "    <tr>\n",
       "      <th>235</th>\n",
       "      <td>2023</td>\n",
       "      <td>COMMERCE, DEPARTMENT OF</td>\n",
       "      <td>$10,993,214,376.08</td>\n",
       "    </tr>\n",
       "    <tr>\n",
       "      <th>230</th>\n",
       "      <td>2023</td>\n",
       "      <td>AGENCY FOR INTERNATIONAL DEVELOPMENT</td>\n",
       "      <td>$9,826,119,865.30</td>\n",
       "    </tr>\n",
       "  </tbody>\n",
       "</table>\n",
       "</div>"
      ],
      "text/plain": [
       "          Year                          Department/Ind.Agency  \\\n",
       "Year                                                            \n",
       "2020 13   2020                                DEPT OF DEFENSE   \n",
       "     79   2020                VETERANS AFFAIRS, DEPARTMENT OF   \n",
       "     16   2020                          ENERGY, DEPARTMENT OF   \n",
       "     32   2020       HEALTH AND HUMAN SERVICES, DEPARTMENT OF   \n",
       "     30   2020                GENERAL SERVICES ADMINISTRATION   \n",
       "     33   2020               HOMELAND SECURITY, DEPARTMENT OF   \n",
       "     47   2020  NATIONAL AERONAUTICS AND SPACE ADMINISTRATION   \n",
       "2021 92   2021                                DEPT OF DEFENSE   \n",
       "     105  2021                GENERAL SERVICES ADMINISTRATION   \n",
       "     107  2021       HEALTH AND HUMAN SERVICES, DEPARTMENT OF   \n",
       "     122  2021  NATIONAL AERONAUTICS AND SPACE ADMINISTRATION   \n",
       "     152  2021                VETERANS AFFAIRS, DEPARTMENT OF   \n",
       "     108  2021               HOMELAND SECURITY, DEPARTMENT OF   \n",
       "     85   2021                        COMMERCE, DEPARTMENT OF   \n",
       "2022 191  2022                         JUSTICE, DEPARTMENT OF   \n",
       "     184  2022               HOMELAND SECURITY, DEPARTMENT OF   \n",
       "     167  2022                                DEPT OF DEFENSE   \n",
       "     181  2022                GENERAL SERVICES ADMINISTRATION   \n",
       "     183  2022       HEALTH AND HUMAN SERVICES, DEPARTMENT OF   \n",
       "     197  2022  NATIONAL AERONAUTICS AND SPACE ADMINISTRATION   \n",
       "     228  2022                VETERANS AFFAIRS, DEPARTMENT OF   \n",
       "2023 243  2023                                DEPT OF DEFENSE   \n",
       "     303  2023                VETERANS AFFAIRS, DEPARTMENT OF   \n",
       "     261  2023       HEALTH AND HUMAN SERVICES, DEPARTMENT OF   \n",
       "     273  2023  NATIONAL AERONAUTICS AND SPACE ADMINISTRATION   \n",
       "     231  2023                     AGRICULTURE, DEPARTMENT OF   \n",
       "     235  2023                        COMMERCE, DEPARTMENT OF   \n",
       "     230  2023           AGENCY FOR INTERNATIONAL DEVELOPMENT   \n",
       "\n",
       "                          Award$  \n",
       "Year                              \n",
       "2020 13      $675,268,518,544.54  \n",
       "     79       $40,316,666,774.32  \n",
       "     16       $30,736,576,896.53  \n",
       "     32       $27,551,869,158.25  \n",
       "     30       $26,171,186,276.37  \n",
       "     33       $25,327,380,974.10  \n",
       "     47       $19,811,067,535.38  \n",
       "2021 92      $673,154,335,579.76  \n",
       "     105     $165,503,278,847.95  \n",
       "     107      $84,349,830,972.57  \n",
       "     122      $16,318,686,519.64  \n",
       "     152      $14,410,126,874.66  \n",
       "     108      $14,135,942,942.25  \n",
       "     85        $8,311,869,088.07  \n",
       "2022 191 $153,063,903,616,924.75  \n",
       "     184   $1,039,568,259,022.08  \n",
       "     167     $649,444,159,503.03  \n",
       "     181     $167,367,583,930.74  \n",
       "     183      $53,208,684,126.03  \n",
       "     197      $40,889,504,425.67  \n",
       "     228      $28,748,892,512.38  \n",
       "2023 243     $307,831,678,081.19  \n",
       "     303     $105,992,006,195.54  \n",
       "     261      $25,551,240,287.88  \n",
       "     273      $20,322,792,895.03  \n",
       "     231      $16,245,322,536.38  \n",
       "     235      $10,993,214,376.08  \n",
       "     230       $9,826,119,865.30  "
      ]
     },
     "execution_count": 106,
     "metadata": {},
     "output_type": "execute_result"
    }
   ],
   "source": [
    "result_df"
   ]
  },
  {
   "cell_type": "markdown",
   "id": "372ddb47",
   "metadata": {},
   "source": [
    "# 3 Department of Defense posted the highest number of contracts over the last several years comparing with other departments."
   ]
  },
  {
   "cell_type": "code",
   "execution_count": 121,
   "id": "2beca7fe",
   "metadata": {},
   "outputs": [],
   "source": [
    "import matplotlib.pyplot as plt\n",
    "import pandas as pd\n",
    "\n",
    "# Assuming 'new_df' is your DataFrame with the processed data\n",
    "\n",
    "# Create a 'Year' column\n",
    "filtered_df['Year'] = filtered_df['AwardDate'].dt.year\n",
    "\n",
    "# Drop rows with missing values in the 'Department/Ind.Agency' column\n",
    "filtered_df = filtered_df.dropna(subset=['Department/Ind.Agency'])\n",
    "\n",
    "# Count the number of contracts awarded by each department for each year\n",
    "contract_counts_by_department = filtered_df.groupby(['Year', 'Department/Ind.Agency']).size().unstack(fill_value=0)\n",
    "\n",
    "# Filter out the Department of Defense for all years\n",
    "non_dod_departments = contract_counts_by_department.columns.difference(['DEPARTMENT OF DEFENSE'], sort=False)\n",
    "contract_counts_non_dod = contract_counts_by_department[non_dod_departments]\n",
    "\n",
    "# Get the top 7 departments\n",
    "top_departments = contract_counts_non_dod.sum().nlargest(7).index\n",
    "contract_counts_top7 = contract_counts_non_dod[top_departments]\n"
   ]
  },
  {
   "cell_type": "code",
   "execution_count": 111,
   "id": "0c0226f4",
   "metadata": {},
   "outputs": [
    {
     "data": {
      "text/html": [
       "<div>\n",
       "<style scoped>\n",
       "    .dataframe tbody tr th:only-of-type {\n",
       "        vertical-align: middle;\n",
       "    }\n",
       "\n",
       "    .dataframe tbody tr th {\n",
       "        vertical-align: top;\n",
       "    }\n",
       "\n",
       "    .dataframe thead th {\n",
       "        text-align: right;\n",
       "    }\n",
       "</style>\n",
       "<table border=\"1\" class=\"dataframe\">\n",
       "  <thead>\n",
       "    <tr style=\"text-align: right;\">\n",
       "      <th>Department/Ind.Agency</th>\n",
       "      <th>DEPT OF DEFENSE</th>\n",
       "      <th>VETERANS AFFAIRS, DEPARTMENT OF</th>\n",
       "      <th>INTERIOR, DEPARTMENT OF THE</th>\n",
       "      <th>AGRICULTURE, DEPARTMENT OF</th>\n",
       "      <th>HOMELAND SECURITY, DEPARTMENT OF</th>\n",
       "      <th>HEALTH AND HUMAN SERVICES, DEPARTMENT OF</th>\n",
       "      <th>JUSTICE, DEPARTMENT OF</th>\n",
       "    </tr>\n",
       "    <tr>\n",
       "      <th>Year</th>\n",
       "      <th></th>\n",
       "      <th></th>\n",
       "      <th></th>\n",
       "      <th></th>\n",
       "      <th></th>\n",
       "      <th></th>\n",
       "      <th></th>\n",
       "    </tr>\n",
       "  </thead>\n",
       "  <tbody>\n",
       "    <tr>\n",
       "      <th>2020</th>\n",
       "      <td>267974</td>\n",
       "      <td>31060</td>\n",
       "      <td>15799</td>\n",
       "      <td>8613</td>\n",
       "      <td>10281</td>\n",
       "      <td>8052</td>\n",
       "      <td>8066</td>\n",
       "    </tr>\n",
       "    <tr>\n",
       "      <th>2021</th>\n",
       "      <td>222575</td>\n",
       "      <td>32014</td>\n",
       "      <td>15875</td>\n",
       "      <td>9737</td>\n",
       "      <td>10079</td>\n",
       "      <td>7938</td>\n",
       "      <td>9622</td>\n",
       "    </tr>\n",
       "    <tr>\n",
       "      <th>2022</th>\n",
       "      <td>227463</td>\n",
       "      <td>33767</td>\n",
       "      <td>15839</td>\n",
       "      <td>11374</td>\n",
       "      <td>10012</td>\n",
       "      <td>10057</td>\n",
       "      <td>9388</td>\n",
       "    </tr>\n",
       "    <tr>\n",
       "      <th>2023</th>\n",
       "      <td>181780</td>\n",
       "      <td>28516</td>\n",
       "      <td>17053</td>\n",
       "      <td>11512</td>\n",
       "      <td>8684</td>\n",
       "      <td>9127</td>\n",
       "      <td>6569</td>\n",
       "    </tr>\n",
       "  </tbody>\n",
       "</table>\n",
       "</div>"
      ],
      "text/plain": [
       "Department/Ind.Agency  DEPT OF DEFENSE  VETERANS AFFAIRS, DEPARTMENT OF  \\\n",
       "Year                                                                      \n",
       "2020                            267974                            31060   \n",
       "2021                            222575                            32014   \n",
       "2022                            227463                            33767   \n",
       "2023                            181780                            28516   \n",
       "\n",
       "Department/Ind.Agency  INTERIOR, DEPARTMENT OF THE  \\\n",
       "Year                                                 \n",
       "2020                                         15799   \n",
       "2021                                         15875   \n",
       "2022                                         15839   \n",
       "2023                                         17053   \n",
       "\n",
       "Department/Ind.Agency  AGRICULTURE, DEPARTMENT OF  \\\n",
       "Year                                                \n",
       "2020                                         8613   \n",
       "2021                                         9737   \n",
       "2022                                        11374   \n",
       "2023                                        11512   \n",
       "\n",
       "Department/Ind.Agency  HOMELAND SECURITY, DEPARTMENT OF  \\\n",
       "Year                                                      \n",
       "2020                                              10281   \n",
       "2021                                              10079   \n",
       "2022                                              10012   \n",
       "2023                                               8684   \n",
       "\n",
       "Department/Ind.Agency  HEALTH AND HUMAN SERVICES, DEPARTMENT OF  \\\n",
       "Year                                                              \n",
       "2020                                                       8052   \n",
       "2021                                                       7938   \n",
       "2022                                                      10057   \n",
       "2023                                                       9127   \n",
       "\n",
       "Department/Ind.Agency  JUSTICE, DEPARTMENT OF  \n",
       "Year                                           \n",
       "2020                                     8066  \n",
       "2021                                     9622  \n",
       "2022                                     9388  \n",
       "2023                                     6569  "
      ]
     },
     "execution_count": 111,
     "metadata": {},
     "output_type": "execute_result"
    }
   ],
   "source": [
    "contract_counts_top7"
   ]
  },
  {
   "cell_type": "code",
   "execution_count": 108,
   "id": "a5e17b03",
   "metadata": {},
   "outputs": [
    {
     "data": {
      "image/png": "[encoded data removed]",
      "text/plain": [
       "<Figure size 1200x600 with 1 Axes>"
      ]
     },
     "metadata": {},
     "output_type": "display_data"
    }
   ],
   "source": [
    "import matplotlib.pyplot as plt\n",
    "import pandas as pd\n",
    "\n",
    "# Assuming 'new_df' is your DataFrame with the processed data\n",
    "\n",
    "# Create a 'Year' column\n",
    "filtered_df['Year'] = filtered_df['AwardDate'].dt.year\n",
    "\n",
    "# Drop rows with missing values in the 'Department/Ind.Agency' column\n",
    "filtered_df = filtered_df.dropna(subset=['Department/Ind.Agency'])\n",
    "\n",
    "# Count the number of contracts awarded by each department for each year\n",
    "contract_counts_by_department = filtered_df.groupby(['Year', 'Department/Ind.Agency']).size().unstack(fill_value=0)\n",
    "\n",
    "# Filter out the Department of Defense for all years\n",
    "non_dod_departments = contract_counts_by_department.columns.difference(['DEPARTMENT OF DEFENSE'], sort=False)\n",
    "contract_counts_non_dod = contract_counts_by_department[non_dod_departments]\n",
    "\n",
    "# Sum the contracts across all years for each department\n",
    "contracts_by_department_sum = contract_counts_non_dod.sum(axis=0)\n",
    "\n",
    "# Get the top 7 departments\n",
    "top_departments = contracts_by_department_sum.nlargest(7)\n",
    "\n",
    "# Plotting the data as a line chart for the top 7 departments\n",
    "plt.figure(figsize=(12, 6))\n",
    "for department in top_departments.index:\n",
    "    plt.plot(contract_counts_non_dod.index, contract_counts_non_dod[department], label=department, marker='o')\n",
    "\n",
    "plt.xlabel('Year')\n",
    "plt.ylabel('Number of Contracts')\n",
    "plt.title(\"Number of Contracts Awarded by Top 7 Departments (All Years)\")\n",
    "plt.legend()\n",
    "plt.show()\n"
   ]
  },
  {
   "cell_type": "code",
   "execution_count": 109,
   "id": "08045f17",
   "metadata": {},
   "outputs": [
    {
     "data": {
      "application/vnd.plotly.v1+json": {
       "config": {
        "plotlyServerURL": "https://plot.ly"
       },
       "data": [
        {
         "hovertemplate": "Department=AGRICULTURE, DEPARTMENT OF<br>Year=%{x}<br>Number of Contracts Awarded=%{y}<extra></extra>",
         "legendgroup": "AGRICULTURE, DEPARTMENT OF",
         "line": {
          "color": "#636efa",
          "dash": "solid"
         },
         "marker": {
          "symbol": "circle"
         },
         "mode": "markers+lines",
         "name": "AGRICULTURE, DEPARTMENT OF",
         "orientation": "v",
         "showlegend": true,
         "type": "scatter",
         "x": [
          2020,
          2021,
          2022,
          2023
         ],
         "xaxis": "x",
         "y": [
          8613,
          9737,
          11374,
          11512
         ],
         "yaxis": "y"
        },
        {
         "hovertemplate": "Department=DEPT OF DEFENSE<br>Year=%{x}<br>Number of Contracts Awarded=%{y}<extra></extra>",
         "legendgroup": "DEPT OF DEFENSE",
         "line": {
          "color": "#EF553B",
          "dash": "solid"
         },
         "marker": {
          "symbol": "circle"
         },
         "mode": "markers+lines",
         "name": "DEPT OF DEFENSE",
         "orientation": "v",
         "showlegend": true,
         "type": "scatter",
         "x": [
          2020,
          2021,
          2022,
          2023
         ],
         "xaxis": "x",
         "y": [
          267974,
          222575,
          227463,
          181780
         ],
         "yaxis": "y"
        },
        {
         "hovertemplate": "Department=HEALTH AND HUMAN SERVICES, DEPARTMENT OF<br>Year=%{x}<br>Number of Contracts Awarded=%{y}<extra></extra>",
         "legendgroup": "HEALTH AND HUMAN SERVICES, DEPARTMENT OF",
         "line": {
          "color": "#00cc96",
          "dash": "solid"
         },
         "marker": {
          "symbol": "circle"
         },
         "mode": "markers+lines",
         "name": "HEALTH AND HUMAN SERVICES, DEPARTMENT OF",
         "orientation": "v",
         "showlegend": true,
         "type": "scatter",
         "x": [
          2020,
          2021,
          2022,
          2023
         ],
         "xaxis": "x",
         "y": [
          8052,
          7938,
          10057,
          9127
         ],
         "yaxis": "y"
        },
        {
         "hovertemplate": "Department=HOMELAND SECURITY, DEPARTMENT OF<br>Year=%{x}<br>Number of Contracts Awarded=%{y}<extra></extra>",
         "legendgroup": "HOMELAND SECURITY, DEPARTMENT OF",
         "line": {
          "color": "#ab63fa",
          "dash": "solid"
         },
         "marker": {
          "symbol": "circle"
         },
         "mode": "markers+lines",
         "name": "HOMELAND SECURITY, DEPARTMENT OF",
         "orientation": "v",
         "showlegend": true,
         "type": "scatter",
         "x": [
          2020,
          2021,
          2022,
          2023
         ],
         "xaxis": "x",
         "y": [
          10281,
          10079,
          10012,
          8684
         ],
         "yaxis": "y"
        },
        {
         "hovertemplate": "Department=INTERIOR, DEPARTMENT OF THE<br>Year=%{x}<br>Number of Contracts Awarded=%{y}<extra></extra>",
         "legendgroup": "INTERIOR, DEPARTMENT OF THE",
         "line": {
          "color": "#FFA15A",
          "dash": "solid"
         },
         "marker": {
          "symbol": "circle"
         },
         "mode": "markers+lines",
         "name": "INTERIOR, DEPARTMENT OF THE",
         "orientation": "v",
         "showlegend": true,
         "type": "scatter",
         "x": [
          2020,
          2021,
          2022,
          2023
         ],
         "xaxis": "x",
         "y": [
          15799,
          15875,
          15839,
          17053
         ],
         "yaxis": "y"
        },
        {
         "hovertemplate": "Department=JUSTICE, DEPARTMENT OF<br>Year=%{x}<br>Number of Contracts Awarded=%{y}<extra></extra>",
         "legendgroup": "JUSTICE, DEPARTMENT OF",
         "line": {
          "color": "#19d3f3",
          "dash": "solid"
         },
         "marker": {
          "symbol": "circle"
         },
         "mode": "markers+lines",
         "name": "JUSTICE, DEPARTMENT OF",
         "orientation": "v",
         "showlegend": true,
         "type": "scatter",
         "x": [
          2020,
          2021,
          2022,
          2023
         ],
         "xaxis": "x",
         "y": [
          8066,
          9622,
          9388,
          6569
         ],
         "yaxis": "y"
        },
        {
         "hovertemplate": "Department=VETERANS AFFAIRS, DEPARTMENT OF<br>Year=%{x}<br>Number of Contracts Awarded=%{y}<extra></extra>",
         "legendgroup": "VETERANS AFFAIRS, DEPARTMENT OF",
         "line": {
          "color": "#FF6692",
          "dash": "solid"
         },
         "marker": {
          "symbol": "circle"
         },
         "mode": "markers+lines",
         "name": "VETERANS AFFAIRS, DEPARTMENT OF",
         "orientation": "v",
         "showlegend": true,
         "type": "scatter",
         "x": [
          2020,
          2021,
          2022,
          2023
         ],
         "xaxis": "x",
         "y": [
          31060,
          32014,
          33767,
          28516
         ],
         "yaxis": "y"
        }
       ],
       "layout": {
        "legend": {
         "title": {
          "text": "Department"
         },
         "tracegroupgap": 0
        },
        "template": {
         "data": {
          "bar": [
           {
            "error_x": {
             "color": "#2a3f5f"
            },
            "error_y": {
             "color": "#2a3f5f"
            },
            "marker": {
             "line": {
              "color": "#E5ECF6",
              "width": 0.5
             },
             "pattern": {
              "fillmode": "overlay",
              "size": 10,
              "solidity": 0.2
             }
            },
            "type": "bar"
           }
          ],
          "barpolar": [
           {
            "marker": {
             "line": {
              "color": "#E5ECF6",
              "width": 0.5
             },
             "pattern": {
              "fillmode": "overlay",
              "size": 10,
              "solidity": 0.2
             }
            },
            "type": "barpolar"
           }
          ],
          "carpet": [
           {
            "aaxis": {
             "endlinecolor": "#2a3f5f",
             "gridcolor": "white",
             "linecolor": "white",
             "minorgridcolor": "white",
             "startlinecolor": "#2a3f5f"
            },
            "baxis": {
             "endlinecolor": "#2a3f5f",
             "gridcolor": "white",
             "linecolor": "white",
             "minorgridcolor": "white",
             "startlinecolor": "#2a3f5f"
            },
            "type": "carpet"
           }
          ],
          "choropleth": [
           {
            "colorbar": {
             "outlinewidth": 0,
             "ticks": ""
            },
            "type": "choropleth"
           }
          ],
          "contour": [
           {
            "colorbar": {
             "outlinewidth": 0,
             "ticks": ""
            },
            "colorscale": [
             [
              0,
              "#0d0887"
             ],
             [
              0.1111111111111111,
              "#46039f"
             ],
             [
              0.2222222222222222,
              "#7201a8"
             ],
             [
              0.3333333333333333,
              "#9c179e"
             ],
             [
              0.4444444444444444,
              "#bd3786"
             ],
             [
              0.5555555555555556,
              "#d8576b"
             ],
             [
              0.6666666666666666,
              "#ed7953"
             ],
             [
              0.7777777777777778,
              "#fb9f3a"
             ],
             [
              0.8888888888888888,
              "#fdca26"
             ],
             [
              1,
              "#f0f921"
             ]
            ],
            "type": "contour"
           }
          ],
          "contourcarpet": [
           {
            "colorbar": {
             "outlinewidth": 0,
             "ticks": ""
            },
            "type": "contourcarpet"
           }
          ],
          "heatmap": [
           {
            "colorbar": {
             "outlinewidth": 0,
             "ticks": ""
            },
            "colorscale": [
             [
              0,
              "#0d0887"
             ],
             [
              0.1111111111111111,
              "#46039f"
             ],
             [
              0.2222222222222222,
              "#7201a8"
             ],
             [
              0.3333333333333333,
              "#9c179e"
             ],
             [
              0.4444444444444444,
              "#bd3786"
             ],
             [
              0.5555555555555556,
              "#d8576b"
             ],
             [
              0.6666666666666666,
              "#ed7953"
             ],
             [
              0.7777777777777778,
              "#fb9f3a"
             ],
             [
              0.8888888888888888,
              "#fdca26"
             ],
             [
              1,
              "#f0f921"
             ]
            ],
            "type": "heatmap"
           }
          ],
          "heatmapgl": [
           {
            "colorbar": {
             "outlinewidth": 0,
             "ticks": ""
            },
            "colorscale": [
             [
              0,
              "#0d0887"
             ],
             [
              0.1111111111111111,
              "#46039f"
             ],
             [
              0.2222222222222222,
              "#7201a8"
             ],
             [
              0.3333333333333333,
              "#9c179e"
             ],
             [
              0.4444444444444444,
              "#bd3786"
             ],
             [
              0.5555555555555556,
              "#d8576b"
             ],
             [
              0.6666666666666666,
              "#ed7953"
             ],
             [
              0.7777777777777778,
              "#fb9f3a"
             ],
             [
              0.8888888888888888,
              "#fdca26"
             ],
             [
              1,
              "#f0f921"
             ]
            ],
            "type": "heatmapgl"
           }
          ],
          "histogram": [
           {
            "marker": {
             "pattern": {
              "fillmode": "overlay",
              "size": 10,
              "solidity": 0.2
             }
            },
            "type": "histogram"
           }
          ],
          "histogram2d": [
           {
            "colorbar": {
             "outlinewidth": 0,
             "ticks": ""
            },
            "colorscale": [
             [
              0,
              "#0d0887"
             ],
             [
              0.1111111111111111,
              "#46039f"
             ],
             [
              0.2222222222222222,
              "#7201a8"
             ],
             [
              0.3333333333333333,
              "#9c179e"
             ],
             [
              0.4444444444444444,
              "#bd3786"
             ],
             [
              0.5555555555555556,
              "#d8576b"
             ],
             [
              0.6666666666666666,
              "#ed7953"
             ],
             [
              0.7777777777777778,
              "#fb9f3a"
             ],
             [
              0.8888888888888888,
              "#fdca26"
             ],
             [
              1,
              "#f0f921"
             ]
            ],
            "type": "histogram2d"
           }
          ],
          "histogram2dcontour": [
           {
            "colorbar": {
             "outlinewidth": 0,
             "ticks": ""
            },
            "colorscale": [
             [
              0,
              "#0d0887"
             ],
             [
              0.1111111111111111,
              "#46039f"
             ],
             [
              0.2222222222222222,
              "#7201a8"
             ],
             [
              0.3333333333333333,
              "#9c179e"
             ],
             [
              0.4444444444444444,
              "#bd3786"
             ],
             [
              0.5555555555555556,
              "#d8576b"
             ],
             [
              0.6666666666666666,
              "#ed7953"
             ],
             [
              0.7777777777777778,
              "#fb9f3a"
             ],
             [
              0.8888888888888888,
              "#fdca26"
             ],
             [
              1,
              "#f0f921"
             ]
            ],
            "type": "histogram2dcontour"
           }
          ],
          "mesh3d": [
           {
            "colorbar": {
             "outlinewidth": 0,
             "ticks": ""
            },
            "type": "mesh3d"
           }
          ],
          "parcoords": [
           {
            "line": {
             "colorbar": {
              "outlinewidth": 0,
              "ticks": ""
             }
            },
            "type": "parcoords"
           }
          ],
          "pie": [
           {
            "automargin": true,
            "type": "pie"
           }
          ],
          "scatter": [
           {
            "fillpattern": {
             "fillmode": "overlay",
             "size": 10,
             "solidity": 0.2
            },
            "type": "scatter"
           }
          ],
          "scatter3d": [
           {
            "line": {
             "colorbar": {
              "outlinewidth": 0,
              "ticks": ""
             }
            },
            "marker": {
             "colorbar": {
              "outlinewidth": 0,
              "ticks": ""
             }
            },
            "type": "scatter3d"
           }
          ],
          "scattercarpet": [
           {
            "marker": {
             "colorbar": {
              "outlinewidth": 0,
              "ticks": ""
             }
            },
            "type": "scattercarpet"
           }
          ],
          "scattergeo": [
           {
            "marker": {
             "colorbar": {
              "outlinewidth": 0,
              "ticks": ""
             }
            },
            "type": "scattergeo"
           }
          ],
          "scattergl": [
           {
            "marker": {
             "colorbar": {
              "outlinewidth": 0,
              "ticks": ""
             }
            },
            "type": "scattergl"
           }
          ],
          "scattermapbox": [
           {
            "marker": {
             "colorbar": {
              "outlinewidth": 0,
              "ticks": ""
             }
            },
            "type": "scattermapbox"
           }
          ],
          "scatterpolar": [
           {
            "marker": {
             "colorbar": {
              "outlinewidth": 0,
              "ticks": ""
             }
            },
            "type": "scatterpolar"
           }
          ],
          "scatterpolargl": [
           {
            "marker": {
             "colorbar": {
              "outlinewidth": 0,
              "ticks": ""
             }
            },
            "type": "scatterpolargl"
           }
          ],
          "scatterternary": [
           {
            "marker": {
             "colorbar": {
              "outlinewidth": 0,
              "ticks": ""
             }
            },
            "type": "scatterternary"
           }
          ],
          "surface": [
           {
            "colorbar": {
             "outlinewidth": 0,
             "ticks": ""
            },
            "colorscale": [
             [
              0,
              "#0d0887"
             ],
             [
              0.1111111111111111,
              "#46039f"
             ],
             [
              0.2222222222222222,
              "#7201a8"
             ],
             [
              0.3333333333333333,
              "#9c179e"
             ],
             [
              0.4444444444444444,
              "#bd3786"
             ],
             [
              0.5555555555555556,
              "#d8576b"
             ],
             [
              0.6666666666666666,
              "#ed7953"
             ],
             [
              0.7777777777777778,
              "#fb9f3a"
             ],
             [
              0.8888888888888888,
              "#fdca26"
             ],
             [
              1,
              "#f0f921"
             ]
            ],
            "type": "surface"
           }
          ],
          "table": [
           {
            "cells": {
             "fill": {
              "color": "#EBF0F8"
             },
             "line": {
              "color": "white"
             }
            },
            "header": {
             "fill": {
              "color": "#C8D4E3"
             },
             "line": {
              "color": "white"
             }
            },
            "type": "table"
           }
          ]
         },
         "layout": {
          "annotationdefaults": {
           "arrowcolor": "#2a3f5f",
           "arrowhead": 0,
           "arrowwidth": 1
          },
          "autotypenumbers": "strict",
          "coloraxis": {
           "colorbar": {
            "outlinewidth": 0,
            "ticks": ""
           }
          },
          "colorscale": {
           "diverging": [
            [
             0,
             "#8e0152"
            ],
            [
             0.1,
             "#c51b7d"
            ],
            [
             0.2,
             "#de77ae"
            ],
            [
             0.3,
             "#f1b6da"
            ],
            [
             0.4,
             "#fde0ef"
            ],
            [
             0.5,
             "#f7f7f7"
            ],
            [
             0.6,
             "#e6f5d0"
            ],
            [
             0.7,
             "#b8e186"
            ],
            [
             0.8,
             "#7fbc41"
            ],
            [
             0.9,
             "#4d9221"
            ],
            [
             1,
             "#276419"
            ]
           ],
           "sequential": [
            [
             0,
             "#0d0887"
            ],
            [
             0.1111111111111111,
             "#46039f"
            ],
            [
             0.2222222222222222,
             "#7201a8"
            ],
            [
             0.3333333333333333,
             "#9c179e"
            ],
            [
             0.4444444444444444,
             "#bd3786"
            ],
            [
             0.5555555555555556,
             "#d8576b"
            ],
            [
             0.6666666666666666,
             "#ed7953"
            ],
            [
             0.7777777777777778,
             "#fb9f3a"
            ],
            [
             0.8888888888888888,
             "#fdca26"
            ],
            [
             1,
             "#f0f921"
            ]
           ],
           "sequentialminus": [
            [
             0,
             "#0d0887"
            ],
            [
             0.1111111111111111,
             "#46039f"
            ],
            [
             0.2222222222222222,
             "#7201a8"
            ],
            [
             0.3333333333333333,
             "#9c179e"
            ],
            [
             0.4444444444444444,
             "#bd3786"
            ],
            [
             0.5555555555555556,
             "#d8576b"
            ],
            [
             0.6666666666666666,
             "#ed7953"
            ],
            [
             0.7777777777777778,
             "#fb9f3a"
            ],
            [
             0.8888888888888888,
             "#fdca26"
            ],
            [
             1,
             "#f0f921"
            ]
           ]
          },
          "colorway": [
           "#636efa",
           "#EF553B",
           "#00cc96",
           "#ab63fa",
           "#FFA15A",
           "#19d3f3",
           "#FF6692",
           "#B6E880",
           "#FF97FF",
           "#FECB52"
          ],
          "font": {
           "color": "#2a3f5f"
          },
          "geo": {
           "bgcolor": "white",
           "lakecolor": "white",
           "landcolor": "#E5ECF6",
           "showlakes": true,
           "showland": true,
           "subunitcolor": "white"
          },
          "hoverlabel": {
           "align": "left"
          },
          "hovermode": "closest",
          "mapbox": {
           "style": "light"
          },
          "paper_bgcolor": "white",
          "plot_bgcolor": "#E5ECF6",
          "polar": {
           "angularaxis": {
            "gridcolor": "white",
            "linecolor": "white",
            "ticks": ""
           },
           "bgcolor": "#E5ECF6",
           "radialaxis": {
            "gridcolor": "white",
            "linecolor": "white",
            "ticks": ""
           }
          },
          "scene": {
           "xaxis": {
            "backgroundcolor": "#E5ECF6",
            "gridcolor": "white",
            "gridwidth": 2,
            "linecolor": "white",
            "showbackground": true,
            "ticks": "",
            "zerolinecolor": "white"
           },
           "yaxis": {
            "backgroundcolor": "#E5ECF6",
            "gridcolor": "white",
            "gridwidth": 2,
            "linecolor": "white",
            "showbackground": true,
            "ticks": "",
            "zerolinecolor": "white"
           },
           "zaxis": {
            "backgroundcolor": "#E5ECF6",
            "gridcolor": "white",
            "gridwidth": 2,
            "linecolor": "white",
            "showbackground": true,
            "ticks": "",
            "zerolinecolor": "white"
           }
          },
          "shapedefaults": {
           "line": {
            "color": "#2a3f5f"
           }
          },
          "ternary": {
           "aaxis": {
            "gridcolor": "white",
            "linecolor": "white",
            "ticks": ""
           },
           "baxis": {
            "gridcolor": "white",
            "linecolor": "white",
            "ticks": ""
           },
           "bgcolor": "#E5ECF6",
           "caxis": {
            "gridcolor": "white",
            "linecolor": "white",
            "ticks": ""
           }
          },
          "title": {
           "x": 0.05
          },
          "xaxis": {
           "automargin": true,
           "gridcolor": "white",
           "linecolor": "white",
           "ticks": "",
           "title": {
            "standoff": 15
           },
           "zerolinecolor": "white",
           "zerolinewidth": 2
          },
          "yaxis": {
           "automargin": true,
           "gridcolor": "white",
           "linecolor": "white",
           "ticks": "",
           "title": {
            "standoff": 15
           },
           "zerolinecolor": "white",
           "zerolinewidth": 2
          }
         }
        },
        "title": {
         "text": "Number of Contracts Awarded by Top 7 Departments (All Years)"
        },
        "xaxis": {
         "anchor": "y",
         "domain": [
          0,
          1
         ],
         "title": {
          "text": "Year"
         }
        },
        "yaxis": {
         "anchor": "x",
         "domain": [
          0,
          1
         ],
         "title": {
          "text": "Number of Contracts Awarded"
         }
        }
       }
      },
      "text/html": [
       "<div>                            <div id=\"d33d1617-6f60-4884-a75e-7d8158a37862\" class=\"plotly-graph-div\" style=\"height:525px; width:100%;\"></div>            <script type=\"text/javascript\">                require([\"plotly\"], function(Plotly) {                    window.PLOTLYENV=window.PLOTLYENV || {};                                    if (document.getElementById(\"d33d1617-6f60-4884-a75e-7d8158a37862\")) {                    Plotly.newPlot(                        \"d33d1617-6f60-4884-a75e-7d8158a37862\",                        [{\"hovertemplate\":\"Department=AGRICULTURE, DEPARTMENT OF<br>Year=%{x}<br>Number of Contracts Awarded=%{y}<extra></extra>\",\"legendgroup\":\"AGRICULTURE, DEPARTMENT OF\",\"line\":{\"color\":\"#636efa\",\"dash\":\"solid\"},\"marker\":{\"symbol\":\"circle\"},\"mode\":\"markers+lines\",\"name\":\"AGRICULTURE, DEPARTMENT OF\",\"orientation\":\"v\",\"showlegend\":true,\"x\":[2020,2021,2022,2023],\"xaxis\":\"x\",\"y\":[8613,9737,11374,11512],\"yaxis\":\"y\",\"type\":\"scatter\"},{\"hovertemplate\":\"Department=DEPT OF DEFENSE<br>Year=%{x}<br>Number of Contracts Awarded=%{y}<extra></extra>\",\"legendgroup\":\"DEPT OF DEFENSE\",\"line\":{\"color\":\"#EF553B\",\"dash\":\"solid\"},\"marker\":{\"symbol\":\"circle\"},\"mode\":\"markers+lines\",\"name\":\"DEPT OF DEFENSE\",\"orientation\":\"v\",\"showlegend\":true,\"x\":[2020,2021,2022,2023],\"xaxis\":\"x\",\"y\":[267974,222575,227463,181780],\"yaxis\":\"y\",\"type\":\"scatter\"},{\"hovertemplate\":\"Department=HEALTH AND HUMAN SERVICES, DEPARTMENT OF<br>Year=%{x}<br>Number of Contracts Awarded=%{y}<extra></extra>\",\"legendgroup\":\"HEALTH AND HUMAN SERVICES, DEPARTMENT OF\",\"line\":{\"color\":\"#00cc96\",\"dash\":\"solid\"},\"marker\":{\"symbol\":\"circle\"},\"mode\":\"markers+lines\",\"name\":\"HEALTH AND HUMAN SERVICES, DEPARTMENT OF\",\"orientation\":\"v\",\"showlegend\":true,\"x\":[2020,2021,2022,2023],\"xaxis\":\"x\",\"y\":[8052,7938,10057,9127],\"yaxis\":\"y\",\"type\":\"scatter\"},{\"hovertemplate\":\"Department=HOMELAND SECURITY, DEPARTMENT OF<br>Year=%{x}<br>Number of Contracts Awarded=%{y}<extra></extra>\",\"legendgroup\":\"HOMELAND SECURITY, DEPARTMENT OF\",\"line\":{\"color\":\"#ab63fa\",\"dash\":\"solid\"},\"marker\":{\"symbol\":\"circle\"},\"mode\":\"markers+lines\",\"name\":\"HOMELAND SECURITY, DEPARTMENT OF\",\"orientation\":\"v\",\"showlegend\":true,\"x\":[2020,2021,2022,2023],\"xaxis\":\"x\",\"y\":[10281,10079,10012,8684],\"yaxis\":\"y\",\"type\":\"scatter\"},{\"hovertemplate\":\"Department=INTERIOR, DEPARTMENT OF THE<br>Year=%{x}<br>Number of Contracts Awarded=%{y}<extra></extra>\",\"legendgroup\":\"INTERIOR, DEPARTMENT OF THE\",\"line\":{\"color\":\"#FFA15A\",\"dash\":\"solid\"},\"marker\":{\"symbol\":\"circle\"},\"mode\":\"markers+lines\",\"name\":\"INTERIOR, DEPARTMENT OF THE\",\"orientation\":\"v\",\"showlegend\":true,\"x\":[2020,2021,2022,2023],\"xaxis\":\"x\",\"y\":[15799,15875,15839,17053],\"yaxis\":\"y\",\"type\":\"scatter\"},{\"hovertemplate\":\"Department=JUSTICE, DEPARTMENT OF<br>Year=%{x}<br>Number of Contracts Awarded=%{y}<extra></extra>\",\"legendgroup\":\"JUSTICE, DEPARTMENT OF\",\"line\":{\"color\":\"#19d3f3\",\"dash\":\"solid\"},\"marker\":{\"symbol\":\"circle\"},\"mode\":\"markers+lines\",\"name\":\"JUSTICE, DEPARTMENT OF\",\"orientation\":\"v\",\"showlegend\":true,\"x\":[2020,2021,2022,2023],\"xaxis\":\"x\",\"y\":[8066,9622,9388,6569],\"yaxis\":\"y\",\"type\":\"scatter\"},{\"hovertemplate\":\"Department=VETERANS AFFAIRS, DEPARTMENT OF<br>Year=%{x}<br>Number of Contracts Awarded=%{y}<extra></extra>\",\"legendgroup\":\"VETERANS AFFAIRS, DEPARTMENT OF\",\"line\":{\"color\":\"#FF6692\",\"dash\":\"solid\"},\"marker\":{\"symbol\":\"circle\"},\"mode\":\"markers+lines\",\"name\":\"VETERANS AFFAIRS, DEPARTMENT OF\",\"orientation\":\"v\",\"showlegend\":true,\"x\":[2020,2021,2022,2023],\"xaxis\":\"x\",\"y\":[31060,32014,33767,28516],\"yaxis\":\"y\",\"type\":\"scatter\"}],                        {\"template\":{\"data\":{\"histogram2dcontour\":[{\"type\":\"histogram2dcontour\",\"colorbar\":{\"outlinewidth\":0,\"ticks\":\"\"},\"colorscale\":[[0.0,\"#0d0887\"],[0.1111111111111111,\"#46039f\"],[0.2222222222222222,\"#7201a8\"],[0.3333333333333333,\"#9c179e\"],[0.4444444444444444,\"#bd3786\"],[0.5555555555555556,\"#d8576b\"],[0.6666666666666666,\"#ed7953\"],[0.7777777777777778,\"#fb9f3a\"],[0.8888888888888888,\"#fdca26\"],[1.0,\"#f0f921\"]]}],\"choropleth\":[{\"type\":\"choropleth\",\"colorbar\":{\"outlinewidth\":0,\"ticks\":\"\"}}],\"histogram2d\":[{\"type\":\"histogram2d\",\"colorbar\":{\"outlinewidth\":0,\"ticks\":\"\"},\"colorscale\":[[0.0,\"#0d0887\"],[0.1111111111111111,\"#46039f\"],[0.2222222222222222,\"#7201a8\"],[0.3333333333333333,\"#9c179e\"],[0.4444444444444444,\"#bd3786\"],[0.5555555555555556,\"#d8576b\"],[0.6666666666666666,\"#ed7953\"],[0.7777777777777778,\"#fb9f3a\"],[0.8888888888888888,\"#fdca26\"],[1.0,\"#f0f921\"]]}],\"heatmap\":[{\"type\":\"heatmap\",\"colorbar\":{\"outlinewidth\":0,\"ticks\":\"\"},\"colorscale\":[[0.0,\"#0d0887\"],[0.1111111111111111,\"#46039f\"],[0.2222222222222222,\"#7201a8\"],[0.3333333333333333,\"#9c179e\"],[0.4444444444444444,\"#bd3786\"],[0.5555555555555556,\"#d8576b\"],[0.6666666666666666,\"#ed7953\"],[0.7777777777777778,\"#fb9f3a\"],[0.8888888888888888,\"#fdca26\"],[1.0,\"#f0f921\"]]}],\"heatmapgl\":[{\"type\":\"heatmapgl\",\"colorbar\":{\"outlinewidth\":0,\"ticks\":\"\"},\"colorscale\":[[0.0,\"#0d0887\"],[0.1111111111111111,\"#46039f\"],[0.2222222222222222,\"#7201a8\"],[0.3333333333333333,\"#9c179e\"],[0.4444444444444444,\"#bd3786\"],[0.5555555555555556,\"#d8576b\"],[0.6666666666666666,\"#ed7953\"],[0.7777777777777778,\"#fb9f3a\"],[0.8888888888888888,\"#fdca26\"],[1.0,\"#f0f921\"]]}],\"contourcarpet\":[{\"type\":\"contourcarpet\",\"colorbar\":{\"outlinewidth\":0,\"ticks\":\"\"}}],\"contour\":[{\"type\":\"contour\",\"colorbar\":{\"outlinewidth\":0,\"ticks\":\"\"},\"colorscale\":[[0.0,\"#0d0887\"],[0.1111111111111111,\"#46039f\"],[0.2222222222222222,\"#7201a8\"],[0.3333333333333333,\"#9c179e\"],[0.4444444444444444,\"#bd3786\"],[0.5555555555555556,\"#d8576b\"],[0.6666666666666666,\"#ed7953\"],[0.7777777777777778,\"#fb9f3a\"],[0.8888888888888888,\"#fdca26\"],[1.0,\"#f0f921\"]]}],\"surface\":[{\"type\":\"surface\",\"colorbar\":{\"outlinewidth\":0,\"ticks\":\"\"},\"colorscale\":[[0.0,\"#0d0887\"],[0.1111111111111111,\"#46039f\"],[0.2222222222222222,\"#7201a8\"],[0.3333333333333333,\"#9c179e\"],[0.4444444444444444,\"#bd3786\"],[0.5555555555555556,\"#d8576b\"],[0.6666666666666666,\"#ed7953\"],[0.7777777777777778,\"#fb9f3a\"],[0.8888888888888888,\"#fdca26\"],[1.0,\"#f0f921\"]]}],\"mesh3d\":[{\"type\":\"mesh3d\",\"colorbar\":{\"outlinewidth\":0,\"ticks\":\"\"}}],\"scatter\":[{\"fillpattern\":{\"fillmode\":\"overlay\",\"size\":10,\"solidity\":0.2},\"type\":\"scatter\"}],\"parcoords\":[{\"type\":\"parcoords\",\"line\":{\"colorbar\":{\"outlinewidth\":0,\"ticks\":\"\"}}}],\"scatterpolargl\":[{\"type\":\"scatterpolargl\",\"marker\":{\"colorbar\":{\"outlinewidth\":0,\"ticks\":\"\"}}}],\"bar\":[{\"error_x\":{\"color\":\"#2a3f5f\"},\"error_y\":{\"color\":\"#2a3f5f\"},\"marker\":{\"line\":{\"color\":\"#E5ECF6\",\"width\":0.5},\"pattern\":{\"fillmode\":\"overlay\",\"size\":10,\"solidity\":0.2}},\"type\":\"bar\"}],\"scattergeo\":[{\"type\":\"scattergeo\",\"marker\":{\"colorbar\":{\"outlinewidth\":0,\"ticks\":\"\"}}}],\"scatterpolar\":[{\"type\":\"scatterpolar\",\"marker\":{\"colorbar\":{\"outlinewidth\":0,\"ticks\":\"\"}}}],\"histogram\":[{\"marker\":{\"pattern\":{\"fillmode\":\"overlay\",\"size\":10,\"solidity\":0.2}},\"type\":\"histogram\"}],\"scattergl\":[{\"type\":\"scattergl\",\"marker\":{\"colorbar\":{\"outlinewidth\":0,\"ticks\":\"\"}}}],\"scatter3d\":[{\"type\":\"scatter3d\",\"line\":{\"colorbar\":{\"outlinewidth\":0,\"ticks\":\"\"}},\"marker\":{\"colorbar\":{\"outlinewidth\":0,\"ticks\":\"\"}}}],\"scattermapbox\":[{\"type\":\"scattermapbox\",\"marker\":{\"colorbar\":{\"outlinewidth\":0,\"ticks\":\"\"}}}],\"scatterternary\":[{\"type\":\"scatterternary\",\"marker\":{\"colorbar\":{\"outlinewidth\":0,\"ticks\":\"\"}}}],\"scattercarpet\":[{\"type\":\"scattercarpet\",\"marker\":{\"colorbar\":{\"outlinewidth\":0,\"ticks\":\"\"}}}],\"carpet\":[{\"aaxis\":{\"endlinecolor\":\"#2a3f5f\",\"gridcolor\":\"white\",\"linecolor\":\"white\",\"minorgridcolor\":\"white\",\"startlinecolor\":\"#2a3f5f\"},\"baxis\":{\"endlinecolor\":\"#2a3f5f\",\"gridcolor\":\"white\",\"linecolor\":\"white\",\"minorgridcolor\":\"white\",\"startlinecolor\":\"#2a3f5f\"},\"type\":\"carpet\"}],\"table\":[{\"cells\":{\"fill\":{\"color\":\"#EBF0F8\"},\"line\":{\"color\":\"white\"}},\"header\":{\"fill\":{\"color\":\"#C8D4E3\"},\"line\":{\"color\":\"white\"}},\"type\":\"table\"}],\"barpolar\":[{\"marker\":{\"line\":{\"color\":\"#E5ECF6\",\"width\":0.5},\"pattern\":{\"fillmode\":\"overlay\",\"size\":10,\"solidity\":0.2}},\"type\":\"barpolar\"}],\"pie\":[{\"automargin\":true,\"type\":\"pie\"}]},\"layout\":{\"autotypenumbers\":\"strict\",\"colorway\":[\"#636efa\",\"#EF553B\",\"#00cc96\",\"#ab63fa\",\"#FFA15A\",\"#19d3f3\",\"#FF6692\",\"#B6E880\",\"#FF97FF\",\"#FECB52\"],\"font\":{\"color\":\"#2a3f5f\"},\"hovermode\":\"closest\",\"hoverlabel\":{\"align\":\"left\"},\"paper_bgcolor\":\"white\",\"plot_bgcolor\":\"#E5ECF6\",\"polar\":{\"bgcolor\":\"#E5ECF6\",\"angularaxis\":{\"gridcolor\":\"white\",\"linecolor\":\"white\",\"ticks\":\"\"},\"radialaxis\":{\"gridcolor\":\"white\",\"linecolor\":\"white\",\"ticks\":\"\"}},\"ternary\":{\"bgcolor\":\"#E5ECF6\",\"aaxis\":{\"gridcolor\":\"white\",\"linecolor\":\"white\",\"ticks\":\"\"},\"baxis\":{\"gridcolor\":\"white\",\"linecolor\":\"white\",\"ticks\":\"\"},\"caxis\":{\"gridcolor\":\"white\",\"linecolor\":\"white\",\"ticks\":\"\"}},\"coloraxis\":{\"colorbar\":{\"outlinewidth\":0,\"ticks\":\"\"}},\"colorscale\":{\"sequential\":[[0.0,\"#0d0887\"],[0.1111111111111111,\"#46039f\"],[0.2222222222222222,\"#7201a8\"],[0.3333333333333333,\"#9c179e\"],[0.4444444444444444,\"#bd3786\"],[0.5555555555555556,\"#d8576b\"],[0.6666666666666666,\"#ed7953\"],[0.7777777777777778,\"#fb9f3a\"],[0.8888888888888888,\"#fdca26\"],[1.0,\"#f0f921\"]],\"sequentialminus\":[[0.0,\"#0d0887\"],[0.1111111111111111,\"#46039f\"],[0.2222222222222222,\"#7201a8\"],[0.3333333333333333,\"#9c179e\"],[0.4444444444444444,\"#bd3786\"],[0.5555555555555556,\"#d8576b\"],[0.6666666666666666,\"#ed7953\"],[0.7777777777777778,\"#fb9f3a\"],[0.8888888888888888,\"#fdca26\"],[1.0,\"#f0f921\"]],\"diverging\":[[0,\"#8e0152\"],[0.1,\"#c51b7d\"],[0.2,\"#de77ae\"],[0.3,\"#f1b6da\"],[0.4,\"#fde0ef\"],[0.5,\"#f7f7f7\"],[0.6,\"#e6f5d0\"],[0.7,\"#b8e186\"],[0.8,\"#7fbc41\"],[0.9,\"#4d9221\"],[1,\"#276419\"]]},\"xaxis\":{\"gridcolor\":\"white\",\"linecolor\":\"white\",\"ticks\":\"\",\"title\":{\"standoff\":15},\"zerolinecolor\":\"white\",\"automargin\":true,\"zerolinewidth\":2},\"yaxis\":{\"gridcolor\":\"white\",\"linecolor\":\"white\",\"ticks\":\"\",\"title\":{\"standoff\":15},\"zerolinecolor\":\"white\",\"automargin\":true,\"zerolinewidth\":2},\"scene\":{\"xaxis\":{\"backgroundcolor\":\"#E5ECF6\",\"gridcolor\":\"white\",\"linecolor\":\"white\",\"showbackground\":true,\"ticks\":\"\",\"zerolinecolor\":\"white\",\"gridwidth\":2},\"yaxis\":{\"backgroundcolor\":\"#E5ECF6\",\"gridcolor\":\"white\",\"linecolor\":\"white\",\"showbackground\":true,\"ticks\":\"\",\"zerolinecolor\":\"white\",\"gridwidth\":2},\"zaxis\":{\"backgroundcolor\":\"#E5ECF6\",\"gridcolor\":\"white\",\"linecolor\":\"white\",\"showbackground\":true,\"ticks\":\"\",\"zerolinecolor\":\"white\",\"gridwidth\":2}},\"shapedefaults\":{\"line\":{\"color\":\"#2a3f5f\"}},\"annotationdefaults\":{\"arrowcolor\":\"#2a3f5f\",\"arrowhead\":0,\"arrowwidth\":1},\"geo\":{\"bgcolor\":\"white\",\"landcolor\":\"#E5ECF6\",\"subunitcolor\":\"white\",\"showland\":true,\"showlakes\":true,\"lakecolor\":\"white\"},\"title\":{\"x\":0.05},\"mapbox\":{\"style\":\"light\"}}},\"xaxis\":{\"anchor\":\"y\",\"domain\":[0.0,1.0],\"title\":{\"text\":\"Year\"}},\"yaxis\":{\"anchor\":\"x\",\"domain\":[0.0,1.0],\"title\":{\"text\":\"Number of Contracts Awarded\"}},\"legend\":{\"title\":{\"text\":\"Department\"},\"tracegroupgap\":0},\"title\":{\"text\":\"Number of Contracts Awarded by Top 7 Departments (All Years)\"}},                        {\"responsive\": true}                    ).then(function(){\n",
       "                            \n",
       "var gd = document.getElementById('d33d1617-6f60-4884-a75e-7d8158a37862');\n",
       "var x = new MutationObserver(function (mutations, observer) {{\n",
       "        var display = window.getComputedStyle(gd).display;\n",
       "        if (!display || display === 'none') {{\n",
       "            console.log([gd, 'removed!']);\n",
       "            Plotly.purge(gd);\n",
       "            observer.disconnect();\n",
       "        }}\n",
       "}});\n",
       "\n",
       "// Listen for the removal of the full notebook cells\n",
       "var notebookContainer = gd.closest('#notebook-container');\n",
       "if (notebookContainer) {{\n",
       "    x.observe(notebookContainer, {childList: true});\n",
       "}}\n",
       "\n",
       "// Listen for the clearing of the current output cell\n",
       "var outputEl = gd.closest('.output');\n",
       "if (outputEl) {{\n",
       "    x.observe(outputEl, {childList: true});\n",
       "}}\n",
       "\n",
       "                        })                };                });            </script>        </div>"
      ]
     },
     "metadata": {},
     "output_type": "display_data"
    }
   ],
   "source": [
    "import pandas as pd\n",
    "import plotly.express as px\n",
    "\n",
    "# Assuming 'new_df' is your DataFrame with the processed data\n",
    "\n",
    "# Create a 'Year' column\n",
    "filtered_df['Year'] = filtered_df['AwardDate'].dt.year\n",
    "\n",
    "# Drop rows with missing values in the 'Department/Ind.Agency' column\n",
    "filtered_df = filtered_df.dropna(subset=['Department/Ind.Agency'])\n",
    "\n",
    "# Count the number of contracts awarded by each department for each year\n",
    "contract_counts_by_department = filtered_df.groupby(['Year', 'Department/Ind.Agency']).size().unstack(fill_value=0)\n",
    "\n",
    "# Filter out the Department of Defense for all years\n",
    "non_dod_departments = contract_counts_by_department.columns.difference(['DEPARTMENT OF DEFENSE'], sort=False)\n",
    "contract_counts_non_dod = contract_counts_by_department[non_dod_departments]\n",
    "\n",
    "# Sum the contracts across all years for each department\n",
    "contracts_by_department_sum = contract_counts_non_dod.sum(axis=0)\n",
    "\n",
    "# Get the top 7 departments\n",
    "top_departments = contracts_by_department_sum.nlargest(7)\n",
    "\n",
    "# Convert the DataFrame to long format for Plotly Express\n",
    "contract_counts_non_dod = contract_counts_non_dod.reset_index().melt(id_vars='Year', var_name='Department', value_name='Number of Contracts')\n",
    "\n",
    "# Filter for the top 7 departments\n",
    "contract_counts_non_dod_top7 = contract_counts_non_dod[contract_counts_non_dod['Department'].isin(top_departments.index)]\n",
    "\n",
    "# Create an interactive line chart using Plotly Express\n",
    "fig = px.line(contract_counts_non_dod_top7, x='Year', y='Number of Contracts', color='Department',\n",
    "              labels={'Number of Contracts': 'Number of Contracts Awarded'},\n",
    "              title=\"Number of Contracts Awarded by Top 7 Departments (All Years)\")\n",
    "\n",
    "# Add markers to the lines\n",
    "fig.update_traces(mode='markers+lines')\n",
    "\n",
    "# Show the interactive chart\n",
    "fig.show()\n"
   ]
  },
  {
   "cell_type": "markdown",
   "id": "81179ff7",
   "metadata": {},
   "source": [
    "# 4 Department of Defense has the highest dollar amount awarded over the last several years comparing with other departments."
   ]
  },
  {
   "cell_type": "code",
   "execution_count": 112,
   "id": "c4475aa5",
   "metadata": {},
   "outputs": [
    {
     "data": {
      "text/plain": [
       "0          $75,706.10\n",
       "1          $11,876.98\n",
       "2         $110,867.00\n",
       "3               $0.00\n",
       "4               $0.00\n",
       "              ...    \n",
       "1429965   $673,380.00\n",
       "1429966   $473,443.80\n",
       "1429967    $41,429.73\n",
       "1429968         $0.00\n",
       "1429969   $253,704.00\n",
       "Name: Award$, Length: 1352729, dtype: float64"
      ]
     },
     "execution_count": 112,
     "metadata": {},
     "output_type": "execute_result"
    }
   ],
   "source": [
    "filtered_df['Award$']"
   ]
  },
  {
   "cell_type": "code",
   "execution_count": 113,
   "id": "a14a793d",
   "metadata": {},
   "outputs": [],
   "source": [
    "# Drop rows with missing values in 'Award$' or 'Year'\n",
    "filtered_df = filtered_df.dropna(subset=['Award$', 'Year'])\n",
    "\n",
    "# Group by 'Year' and 'Department/Ind.Agency' and calculate the sum of 'Award$'\n",
    "sum_per_year_department = filtered_df.groupby(['Year', 'Department/Ind.Agency'])['Award$'].sum().reset_index()\n",
    "\n"
   ]
  },
  {
   "cell_type": "code",
   "execution_count": 114,
   "id": "485b8252",
   "metadata": {},
   "outputs": [
    {
     "data": {
      "text/html": [
       "<div>\n",
       "<style scoped>\n",
       "    .dataframe tbody tr th:only-of-type {\n",
       "        vertical-align: middle;\n",
       "    }\n",
       "\n",
       "    .dataframe tbody tr th {\n",
       "        vertical-align: top;\n",
       "    }\n",
       "\n",
       "    .dataframe thead th {\n",
       "        text-align: right;\n",
       "    }\n",
       "</style>\n",
       "<table border=\"1\" class=\"dataframe\">\n",
       "  <thead>\n",
       "    <tr style=\"text-align: right;\">\n",
       "      <th></th>\n",
       "      <th>Year</th>\n",
       "      <th>Department/Ind.Agency</th>\n",
       "      <th>Award$</th>\n",
       "    </tr>\n",
       "  </thead>\n",
       "  <tbody>\n",
       "    <tr>\n",
       "      <th>0</th>\n",
       "      <td>2020</td>\n",
       "      <td>ADMINISTRATIVE OFFICE OF THE US COURTS</td>\n",
       "      <td>$447,822.04</td>\n",
       "    </tr>\n",
       "    <tr>\n",
       "      <th>1</th>\n",
       "      <td>2020</td>\n",
       "      <td>AGENCY FOR INTERNATIONAL DEVELOPMENT</td>\n",
       "      <td>$1,817,789,353.33</td>\n",
       "    </tr>\n",
       "    <tr>\n",
       "      <th>2</th>\n",
       "      <td>2020</td>\n",
       "      <td>AGRICULTURE, DEPARTMENT OF</td>\n",
       "      <td>$2,705,857,298.04</td>\n",
       "    </tr>\n",
       "    <tr>\n",
       "      <th>3</th>\n",
       "      <td>2020</td>\n",
       "      <td>ARCHITECT OF THE CAPITOL</td>\n",
       "      <td>$15,365,774.00</td>\n",
       "    </tr>\n",
       "    <tr>\n",
       "      <th>4</th>\n",
       "      <td>2020</td>\n",
       "      <td>CHEMICAL SAFETY AND HAZARD INVESTIGATION BOARD</td>\n",
       "      <td>$0.00</td>\n",
       "    </tr>\n",
       "    <tr>\n",
       "      <th>...</th>\n",
       "      <td>...</td>\n",
       "      <td>...</td>\n",
       "      <td>...</td>\n",
       "    </tr>\n",
       "    <tr>\n",
       "      <th>299</th>\n",
       "      <td>2023</td>\n",
       "      <td>UNITED STATES HOLOCAUST MEMORIAL MUSEUM</td>\n",
       "      <td>$0.00</td>\n",
       "    </tr>\n",
       "    <tr>\n",
       "      <th>300</th>\n",
       "      <td>2023</td>\n",
       "      <td>UNITED STATES INTERNATIONAL DEVELOPMENT FINANC...</td>\n",
       "      <td>$900,000,000.00</td>\n",
       "    </tr>\n",
       "    <tr>\n",
       "      <th>301</th>\n",
       "      <td>2023</td>\n",
       "      <td>UNITED STATES TRADE AND DEVELOPMENT AGENCY</td>\n",
       "      <td>$338,320.00</td>\n",
       "    </tr>\n",
       "    <tr>\n",
       "      <th>302</th>\n",
       "      <td>2023</td>\n",
       "      <td>UNITED STATES-CHINA ECONOMIC AND SECURITY REVI...</td>\n",
       "      <td>$0.00</td>\n",
       "    </tr>\n",
       "    <tr>\n",
       "      <th>303</th>\n",
       "      <td>2023</td>\n",
       "      <td>VETERANS AFFAIRS, DEPARTMENT OF</td>\n",
       "      <td>$105,992,006,195.54</td>\n",
       "    </tr>\n",
       "  </tbody>\n",
       "</table>\n",
       "<p>304 rows × 3 columns</p>\n",
       "</div>"
      ],
      "text/plain": [
       "     Year                              Department/Ind.Agency  \\\n",
       "0    2020             ADMINISTRATIVE OFFICE OF THE US COURTS   \n",
       "1    2020               AGENCY FOR INTERNATIONAL DEVELOPMENT   \n",
       "2    2020                         AGRICULTURE, DEPARTMENT OF   \n",
       "3    2020                           ARCHITECT OF THE CAPITOL   \n",
       "4    2020     CHEMICAL SAFETY AND HAZARD INVESTIGATION BOARD   \n",
       "..    ...                                                ...   \n",
       "299  2023            UNITED STATES HOLOCAUST MEMORIAL MUSEUM   \n",
       "300  2023  UNITED STATES INTERNATIONAL DEVELOPMENT FINANC...   \n",
       "301  2023         UNITED STATES TRADE AND DEVELOPMENT AGENCY   \n",
       "302  2023  UNITED STATES-CHINA ECONOMIC AND SECURITY REVI...   \n",
       "303  2023                    VETERANS AFFAIRS, DEPARTMENT OF   \n",
       "\n",
       "                 Award$  \n",
       "0           $447,822.04  \n",
       "1     $1,817,789,353.33  \n",
       "2     $2,705,857,298.04  \n",
       "3        $15,365,774.00  \n",
       "4                 $0.00  \n",
       "..                  ...  \n",
       "299               $0.00  \n",
       "300     $900,000,000.00  \n",
       "301         $338,320.00  \n",
       "302               $0.00  \n",
       "303 $105,992,006,195.54  \n",
       "\n",
       "[304 rows x 3 columns]"
      ]
     },
     "execution_count": 114,
     "metadata": {},
     "output_type": "execute_result"
    }
   ],
   "source": [
    "# Display the result\n",
    "sum_per_year_department"
   ]
  },
  {
   "cell_type": "code",
   "execution_count": 115,
   "id": "9618143e",
   "metadata": {},
   "outputs": [
    {
     "name": "stdout",
     "output_type": "stream",
     "text": [
      "     Year   Department/Ind.Agency                  Award$\n",
      "13   2020         DEPT OF DEFENSE     $675,268,518,544.54\n",
      "92   2021         DEPT OF DEFENSE     $673,154,335,579.76\n",
      "191  2022  JUSTICE, DEPARTMENT OF $153,063,903,616,924.75\n",
      "243  2023         DEPT OF DEFENSE     $307,831,678,081.19\n"
     ]
    }
   ],
   "source": [
    "max_indices = sum_per_year_department.groupby('Year')['Award$'].idxmax()\n",
    "\n",
    "# Get the rows corresponding to the maximum 'Award$' for each year\n",
    "top_sum_per_year = sum_per_year_department.loc[max_indices]\n",
    "\n",
    "# Display the result\n",
    "print(top_sum_per_year)"
   ]
  },
  {
   "cell_type": "code",
   "execution_count": 116,
   "id": "73b1a381",
   "metadata": {},
   "outputs": [
    {
     "data": {
      "application/vnd.plotly.v1+json": {
       "config": {
        "plotlyServerURL": "https://plot.ly"
       },
       "data": [
        {
         "alignmentgroup": "True",
         "hovertemplate": "Department/Ind.Agency=DEPT OF DEFENSE<br>Year=%{x}<br>Total Award Amount=%{y}<extra></extra>",
         "legendgroup": "DEPT OF DEFENSE",
         "marker": {
          "color": "#636efa",
          "pattern": {
           "shape": ""
          }
         },
         "name": "DEPT OF DEFENSE",
         "offsetgroup": "DEPT OF DEFENSE",
         "orientation": "v",
         "showlegend": true,
         "textposition": "auto",
         "type": "bar",
         "x": [
          2020,
          2021,
          2023
         ],
         "xaxis": "x",
         "y": [
          675268518544.54,
          673154335579.76,
          307831678081.19
         ],
         "yaxis": "y"
        },
        {
         "alignmentgroup": "True",
         "hovertemplate": "Department/Ind.Agency=JUSTICE, DEPARTMENT OF<br>Year=%{x}<br>Total Award Amount=%{y}<extra></extra>",
         "legendgroup": "JUSTICE, DEPARTMENT OF",
         "marker": {
          "color": "#EF553B",
          "pattern": {
           "shape": ""
          }
         },
         "name": "JUSTICE, DEPARTMENT OF",
         "offsetgroup": "JUSTICE, DEPARTMENT OF",
         "orientation": "v",
         "showlegend": true,
         "textposition": "auto",
         "type": "bar",
         "x": [
          2022
         ],
         "xaxis": "x",
         "y": [
          153063903616924.75
         ],
         "yaxis": "y"
        }
       ],
       "layout": {
        "barmode": "relative",
        "legend": {
         "title": {
          "text": "Department/Ind.Agency"
         },
         "tracegroupgap": 0
        },
        "template": {
         "data": {
          "bar": [
           {
            "error_x": {
             "color": "#2a3f5f"
            },
            "error_y": {
             "color": "#2a3f5f"
            },
            "marker": {
             "line": {
              "color": "#E5ECF6",
              "width": 0.5
             },
             "pattern": {
              "fillmode": "overlay",
              "size": 10,
              "solidity": 0.2
             }
            },
            "type": "bar"
           }
          ],
          "barpolar": [
           {
            "marker": {
             "line": {
              "color": "#E5ECF6",
              "width": 0.5
             },
             "pattern": {
              "fillmode": "overlay",
              "size": 10,
              "solidity": 0.2
             }
            },
            "type": "barpolar"
           }
          ],
          "carpet": [
           {
            "aaxis": {
             "endlinecolor": "#2a3f5f",
             "gridcolor": "white",
             "linecolor": "white",
             "minorgridcolor": "white",
             "startlinecolor": "#2a3f5f"
            },
            "baxis": {
             "endlinecolor": "#2a3f5f",
             "gridcolor": "white",
             "linecolor": "white",
             "minorgridcolor": "white",
             "startlinecolor": "#2a3f5f"
            },
            "type": "carpet"
           }
          ],
          "choropleth": [
           {
            "colorbar": {
             "outlinewidth": 0,
             "ticks": ""
            },
            "type": "choropleth"
           }
          ],
          "contour": [
           {
            "colorbar": {
             "outlinewidth": 0,
             "ticks": ""
            },
            "colorscale": [
             [
              0,
              "#0d0887"
             ],
             [
              0.1111111111111111,
              "#46039f"
             ],
             [
              0.2222222222222222,
              "#7201a8"
             ],
             [
              0.3333333333333333,
              "#9c179e"
             ],
             [
              0.4444444444444444,
              "#bd3786"
             ],
             [
              0.5555555555555556,
              "#d8576b"
             ],
             [
              0.6666666666666666,
              "#ed7953"
             ],
             [
              0.7777777777777778,
              "#fb9f3a"
             ],
             [
              0.8888888888888888,
              "#fdca26"
             ],
             [
              1,
              "#f0f921"
             ]
            ],
            "type": "contour"
           }
          ],
          "contourcarpet": [
           {
            "colorbar": {
             "outlinewidth": 0,
             "ticks": ""
            },
            "type": "contourcarpet"
           }
          ],
          "heatmap": [
           {
            "colorbar": {
             "outlinewidth": 0,
             "ticks": ""
            },
            "colorscale": [
             [
              0,
              "#0d0887"
             ],
             [
              0.1111111111111111,
              "#46039f"
             ],
             [
              0.2222222222222222,
              "#7201a8"
             ],
             [
              0.3333333333333333,
              "#9c179e"
             ],
             [
              0.4444444444444444,
              "#bd3786"
             ],
             [
              0.5555555555555556,
              "#d8576b"
             ],
             [
              0.6666666666666666,
              "#ed7953"
             ],
             [
              0.7777777777777778,
              "#fb9f3a"
             ],
             [
              0.8888888888888888,
              "#fdca26"
             ],
             [
              1,
              "#f0f921"
             ]
            ],
            "type": "heatmap"
           }
          ],
          "heatmapgl": [
           {
            "colorbar": {
             "outlinewidth": 0,
             "ticks": ""
            },
            "colorscale": [
             [
              0,
              "#0d0887"
             ],
             [
              0.1111111111111111,
              "#46039f"
             ],
             [
              0.2222222222222222,
              "#7201a8"
             ],
             [
              0.3333333333333333,
              "#9c179e"
             ],
             [
              0.4444444444444444,
              "#bd3786"
             ],
             [
              0.5555555555555556,
              "#d8576b"
             ],
             [
              0.6666666666666666,
              "#ed7953"
             ],
             [
              0.7777777777777778,
              "#fb9f3a"
             ],
             [
              0.8888888888888888,
              "#fdca26"
             ],
             [
              1,
              "#f0f921"
             ]
            ],
            "type": "heatmapgl"
           }
          ],
          "histogram": [
           {
            "marker": {
             "pattern": {
              "fillmode": "overlay",
              "size": 10,
              "solidity": 0.2
             }
            },
            "type": "histogram"
           }
          ],
          "histogram2d": [
           {
            "colorbar": {
             "outlinewidth": 0,
             "ticks": ""
            },
            "colorscale": [
             [
              0,
              "#0d0887"
             ],
             [
              0.1111111111111111,
              "#46039f"
             ],
             [
              0.2222222222222222,
              "#7201a8"
             ],
             [
              0.3333333333333333,
              "#9c179e"
             ],
             [
              0.4444444444444444,
              "#bd3786"
             ],
             [
              0.5555555555555556,
              "#d8576b"
             ],
             [
              0.6666666666666666,
              "#ed7953"
             ],
             [
              0.7777777777777778,
              "#fb9f3a"
             ],
             [
              0.8888888888888888,
              "#fdca26"
             ],
             [
              1,
              "#f0f921"
             ]
            ],
            "type": "histogram2d"
           }
          ],
          "histogram2dcontour": [
           {
            "colorbar": {
             "outlinewidth": 0,
             "ticks": ""
            },
            "colorscale": [
             [
              0,
              "#0d0887"
             ],
             [
              0.1111111111111111,
              "#46039f"
             ],
             [
              0.2222222222222222,
              "#7201a8"
             ],
             [
              0.3333333333333333,
              "#9c179e"
             ],
             [
              0.4444444444444444,
              "#bd3786"
             ],
             [
              0.5555555555555556,
              "#d8576b"
             ],
             [
              0.6666666666666666,
              "#ed7953"
             ],
             [
              0.7777777777777778,
              "#fb9f3a"
             ],
             [
              0.8888888888888888,
              "#fdca26"
             ],
             [
              1,
              "#f0f921"
             ]
            ],
            "type": "histogram2dcontour"
           }
          ],
          "mesh3d": [
           {
            "colorbar": {
             "outlinewidth": 0,
             "ticks": ""
            },
            "type": "mesh3d"
           }
          ],
          "parcoords": [
           {
            "line": {
             "colorbar": {
              "outlinewidth": 0,
              "ticks": ""
             }
            },
            "type": "parcoords"
           }
          ],
          "pie": [
           {
            "automargin": true,
            "type": "pie"
           }
          ],
          "scatter": [
           {
            "fillpattern": {
             "fillmode": "overlay",
             "size": 10,
             "solidity": 0.2
            },
            "type": "scatter"
           }
          ],
          "scatter3d": [
           {
            "line": {
             "colorbar": {
              "outlinewidth": 0,
              "ticks": ""
             }
            },
            "marker": {
             "colorbar": {
              "outlinewidth": 0,
              "ticks": ""
             }
            },
            "type": "scatter3d"
           }
          ],
          "scattercarpet": [
           {
            "marker": {
             "colorbar": {
              "outlinewidth": 0,
              "ticks": ""
             }
            },
            "type": "scattercarpet"
           }
          ],
          "scattergeo": [
           {
            "marker": {
             "colorbar": {
              "outlinewidth": 0,
              "ticks": ""
             }
            },
            "type": "scattergeo"
           }
          ],
          "scattergl": [
           {
            "marker": {
             "colorbar": {
              "outlinewidth": 0,
              "ticks": ""
             }
            },
            "type": "scattergl"
           }
          ],
          "scattermapbox": [
           {
            "marker": {
             "colorbar": {
              "outlinewidth": 0,
              "ticks": ""
             }
            },
            "type": "scattermapbox"
           }
          ],
          "scatterpolar": [
           {
            "marker": {
             "colorbar": {
              "outlinewidth": 0,
              "ticks": ""
             }
            },
            "type": "scatterpolar"
           }
          ],
          "scatterpolargl": [
           {
            "marker": {
             "colorbar": {
              "outlinewidth": 0,
              "ticks": ""
             }
            },
            "type": "scatterpolargl"
           }
          ],
          "scatterternary": [
           {
            "marker": {
             "colorbar": {
              "outlinewidth": 0,
              "ticks": ""
             }
            },
            "type": "scatterternary"
           }
          ],
          "surface": [
           {
            "colorbar": {
             "outlinewidth": 0,
             "ticks": ""
            },
            "colorscale": [
             [
              0,
              "#0d0887"
             ],
             [
              0.1111111111111111,
              "#46039f"
             ],
             [
              0.2222222222222222,
              "#7201a8"
             ],
             [
              0.3333333333333333,
              "#9c179e"
             ],
             [
              0.4444444444444444,
              "#bd3786"
             ],
             [
              0.5555555555555556,
              "#d8576b"
             ],
             [
              0.6666666666666666,
              "#ed7953"
             ],
             [
              0.7777777777777778,
              "#fb9f3a"
             ],
             [
              0.8888888888888888,
              "#fdca26"
             ],
             [
              1,
              "#f0f921"
             ]
            ],
            "type": "surface"
           }
          ],
          "table": [
           {
            "cells": {
             "fill": {
              "color": "#EBF0F8"
             },
             "line": {
              "color": "white"
             }
            },
            "header": {
             "fill": {
              "color": "#C8D4E3"
             },
             "line": {
              "color": "white"
             }
            },
            "type": "table"
           }
          ]
         },
         "layout": {
          "annotationdefaults": {
           "arrowcolor": "#2a3f5f",
           "arrowhead": 0,
           "arrowwidth": 1
          },
          "autotypenumbers": "strict",
          "coloraxis": {
           "colorbar": {
            "outlinewidth": 0,
            "ticks": ""
           }
          },
          "colorscale": {
           "diverging": [
            [
             0,
             "#8e0152"
            ],
            [
             0.1,
             "#c51b7d"
            ],
            [
             0.2,
             "#de77ae"
            ],
            [
             0.3,
             "#f1b6da"
            ],
            [
             0.4,
             "#fde0ef"
            ],
            [
             0.5,
             "#f7f7f7"
            ],
            [
             0.6,
             "#e6f5d0"
            ],
            [
             0.7,
             "#b8e186"
            ],
            [
             0.8,
             "#7fbc41"
            ],
            [
             0.9,
             "#4d9221"
            ],
            [
             1,
             "#276419"
            ]
           ],
           "sequential": [
            [
             0,
             "#0d0887"
            ],
            [
             0.1111111111111111,
             "#46039f"
            ],
            [
             0.2222222222222222,
             "#7201a8"
            ],
            [
             0.3333333333333333,
             "#9c179e"
            ],
            [
             0.4444444444444444,
             "#bd3786"
            ],
            [
             0.5555555555555556,
             "#d8576b"
            ],
            [
             0.6666666666666666,
             "#ed7953"
            ],
            [
             0.7777777777777778,
             "#fb9f3a"
            ],
            [
             0.8888888888888888,
             "#fdca26"
            ],
            [
             1,
             "#f0f921"
            ]
           ],
           "sequentialminus": [
            [
             0,
             "#0d0887"
            ],
            [
             0.1111111111111111,
             "#46039f"
            ],
            [
             0.2222222222222222,
             "#7201a8"
            ],
            [
             0.3333333333333333,
             "#9c179e"
            ],
            [
             0.4444444444444444,
             "#bd3786"
            ],
            [
             0.5555555555555556,
             "#d8576b"
            ],
            [
             0.6666666666666666,
             "#ed7953"
            ],
            [
             0.7777777777777778,
             "#fb9f3a"
            ],
            [
             0.8888888888888888,
             "#fdca26"
            ],
            [
             1,
             "#f0f921"
            ]
           ]
          },
          "colorway": [
           "#636efa",
           "#EF553B",
           "#00cc96",
           "#ab63fa",
           "#FFA15A",
           "#19d3f3",
           "#FF6692",
           "#B6E880",
           "#FF97FF",
           "#FECB52"
          ],
          "font": {
           "color": "#2a3f5f"
          },
          "geo": {
           "bgcolor": "white",
           "lakecolor": "white",
           "landcolor": "#E5ECF6",
           "showlakes": true,
           "showland": true,
           "subunitcolor": "white"
          },
          "hoverlabel": {
           "align": "left"
          },
          "hovermode": "closest",
          "mapbox": {
           "style": "light"
          },
          "paper_bgcolor": "white",
          "plot_bgcolor": "#E5ECF6",
          "polar": {
           "angularaxis": {
            "gridcolor": "white",
            "linecolor": "white",
            "ticks": ""
           },
           "bgcolor": "#E5ECF6",
           "radialaxis": {
            "gridcolor": "white",
            "linecolor": "white",
            "ticks": ""
           }
          },
          "scene": {
           "xaxis": {
            "backgroundcolor": "#E5ECF6",
            "gridcolor": "white",
            "gridwidth": 2,
            "linecolor": "white",
            "showbackground": true,
            "ticks": "",
            "zerolinecolor": "white"
           },
           "yaxis": {
            "backgroundcolor": "#E5ECF6",
            "gridcolor": "white",
            "gridwidth": 2,
            "linecolor": "white",
            "showbackground": true,
            "ticks": "",
            "zerolinecolor": "white"
           },
           "zaxis": {
            "backgroundcolor": "#E5ECF6",
            "gridcolor": "white",
            "gridwidth": 2,
            "linecolor": "white",
            "showbackground": true,
            "ticks": "",
            "zerolinecolor": "white"
           }
          },
          "shapedefaults": {
           "line": {
            "color": "#2a3f5f"
           }
          },
          "ternary": {
           "aaxis": {
            "gridcolor": "white",
            "linecolor": "white",
            "ticks": ""
           },
           "baxis": {
            "gridcolor": "white",
            "linecolor": "white",
            "ticks": ""
           },
           "bgcolor": "#E5ECF6",
           "caxis": {
            "gridcolor": "white",
            "linecolor": "white",
            "ticks": ""
           }
          },
          "title": {
           "x": 0.05
          },
          "xaxis": {
           "automargin": true,
           "gridcolor": "white",
           "linecolor": "white",
           "ticks": "",
           "title": {
            "standoff": 15
           },
           "zerolinecolor": "white",
           "zerolinewidth": 2
          },
          "yaxis": {
           "automargin": true,
           "gridcolor": "white",
           "linecolor": "white",
           "ticks": "",
           "title": {
            "standoff": 15
           },
           "zerolinecolor": "white",
           "zerolinewidth": 2
          }
         }
        },
        "title": {
         "text": "Top Sum for Every Year with Respective Department"
        },
        "xaxis": {
         "anchor": "y",
         "domain": [
          0,
          1
         ],
         "title": {
          "text": "Year"
         }
        },
        "yaxis": {
         "anchor": "x",
         "domain": [
          0,
          1
         ],
         "title": {
          "text": "Total Award Amount"
         },
         "type": "log"
        }
       }
      },
      "text/html": [
       "<div>                            <div id=\"7a30463d-279e-4e09-9403-2ce2b790ee97\" class=\"plotly-graph-div\" style=\"height:525px; width:100%;\"></div>            <script type=\"text/javascript\">                require([\"plotly\"], function(Plotly) {                    window.PLOTLYENV=window.PLOTLYENV || {};                                    if (document.getElementById(\"7a30463d-279e-4e09-9403-2ce2b790ee97\")) {                    Plotly.newPlot(                        \"7a30463d-279e-4e09-9403-2ce2b790ee97\",                        [{\"alignmentgroup\":\"True\",\"hovertemplate\":\"Department/Ind.Agency=DEPT OF DEFENSE<br>Year=%{x}<br>Total Award Amount=%{y}<extra></extra>\",\"legendgroup\":\"DEPT OF DEFENSE\",\"marker\":{\"color\":\"#636efa\",\"pattern\":{\"shape\":\"\"}},\"name\":\"DEPT OF DEFENSE\",\"offsetgroup\":\"DEPT OF DEFENSE\",\"orientation\":\"v\",\"showlegend\":true,\"textposition\":\"auto\",\"x\":[2020,2021,2023],\"xaxis\":\"x\",\"y\":[675268518544.54,673154335579.76,307831678081.19],\"yaxis\":\"y\",\"type\":\"bar\"},{\"alignmentgroup\":\"True\",\"hovertemplate\":\"Department/Ind.Agency=JUSTICE, DEPARTMENT OF<br>Year=%{x}<br>Total Award Amount=%{y}<extra></extra>\",\"legendgroup\":\"JUSTICE, DEPARTMENT OF\",\"marker\":{\"color\":\"#EF553B\",\"pattern\":{\"shape\":\"\"}},\"name\":\"JUSTICE, DEPARTMENT OF\",\"offsetgroup\":\"JUSTICE, DEPARTMENT OF\",\"orientation\":\"v\",\"showlegend\":true,\"textposition\":\"auto\",\"x\":[2022],\"xaxis\":\"x\",\"y\":[153063903616924.75],\"yaxis\":\"y\",\"type\":\"bar\"}],                        {\"template\":{\"data\":{\"histogram2dcontour\":[{\"type\":\"histogram2dcontour\",\"colorbar\":{\"outlinewidth\":0,\"ticks\":\"\"},\"colorscale\":[[0.0,\"#0d0887\"],[0.1111111111111111,\"#46039f\"],[0.2222222222222222,\"#7201a8\"],[0.3333333333333333,\"#9c179e\"],[0.4444444444444444,\"#bd3786\"],[0.5555555555555556,\"#d8576b\"],[0.6666666666666666,\"#ed7953\"],[0.7777777777777778,\"#fb9f3a\"],[0.8888888888888888,\"#fdca26\"],[1.0,\"#f0f921\"]]}],\"choropleth\":[{\"type\":\"choropleth\",\"colorbar\":{\"outlinewidth\":0,\"ticks\":\"\"}}],\"histogram2d\":[{\"type\":\"histogram2d\",\"colorbar\":{\"outlinewidth\":0,\"ticks\":\"\"},\"colorscale\":[[0.0,\"#0d0887\"],[0.1111111111111111,\"#46039f\"],[0.2222222222222222,\"#7201a8\"],[0.3333333333333333,\"#9c179e\"],[0.4444444444444444,\"#bd3786\"],[0.5555555555555556,\"#d8576b\"],[0.6666666666666666,\"#ed7953\"],[0.7777777777777778,\"#fb9f3a\"],[0.8888888888888888,\"#fdca26\"],[1.0,\"#f0f921\"]]}],\"heatmap\":[{\"type\":\"heatmap\",\"colorbar\":{\"outlinewidth\":0,\"ticks\":\"\"},\"colorscale\":[[0.0,\"#0d0887\"],[0.1111111111111111,\"#46039f\"],[0.2222222222222222,\"#7201a8\"],[0.3333333333333333,\"#9c179e\"],[0.4444444444444444,\"#bd3786\"],[0.5555555555555556,\"#d8576b\"],[0.6666666666666666,\"#ed7953\"],[0.7777777777777778,\"#fb9f3a\"],[0.8888888888888888,\"#fdca26\"],[1.0,\"#f0f921\"]]}],\"heatmapgl\":[{\"type\":\"heatmapgl\",\"colorbar\":{\"outlinewidth\":0,\"ticks\":\"\"},\"colorscale\":[[0.0,\"#0d0887\"],[0.1111111111111111,\"#46039f\"],[0.2222222222222222,\"#7201a8\"],[0.3333333333333333,\"#9c179e\"],[0.4444444444444444,\"#bd3786\"],[0.5555555555555556,\"#d8576b\"],[0.6666666666666666,\"#ed7953\"],[0.7777777777777778,\"#fb9f3a\"],[0.8888888888888888,\"#fdca26\"],[1.0,\"#f0f921\"]]}],\"contourcarpet\":[{\"type\":\"contourcarpet\",\"colorbar\":{\"outlinewidth\":0,\"ticks\":\"\"}}],\"contour\":[{\"type\":\"contour\",\"colorbar\":{\"outlinewidth\":0,\"ticks\":\"\"},\"colorscale\":[[0.0,\"#0d0887\"],[0.1111111111111111,\"#46039f\"],[0.2222222222222222,\"#7201a8\"],[0.3333333333333333,\"#9c179e\"],[0.4444444444444444,\"#bd3786\"],[0.5555555555555556,\"#d8576b\"],[0.6666666666666666,\"#ed7953\"],[0.7777777777777778,\"#fb9f3a\"],[0.8888888888888888,\"#fdca26\"],[1.0,\"#f0f921\"]]}],\"surface\":[{\"type\":\"surface\",\"colorbar\":{\"outlinewidth\":0,\"ticks\":\"\"},\"colorscale\":[[0.0,\"#0d0887\"],[0.1111111111111111,\"#46039f\"],[0.2222222222222222,\"#7201a8\"],[0.3333333333333333,\"#9c179e\"],[0.4444444444444444,\"#bd3786\"],[0.5555555555555556,\"#d8576b\"],[0.6666666666666666,\"#ed7953\"],[0.7777777777777778,\"#fb9f3a\"],[0.8888888888888888,\"#fdca26\"],[1.0,\"#f0f921\"]]}],\"mesh3d\":[{\"type\":\"mesh3d\",\"colorbar\":{\"outlinewidth\":0,\"ticks\":\"\"}}],\"scatter\":[{\"fillpattern\":{\"fillmode\":\"overlay\",\"size\":10,\"solidity\":0.2},\"type\":\"scatter\"}],\"parcoords\":[{\"type\":\"parcoords\",\"line\":{\"colorbar\":{\"outlinewidth\":0,\"ticks\":\"\"}}}],\"scatterpolargl\":[{\"type\":\"scatterpolargl\",\"marker\":{\"colorbar\":{\"outlinewidth\":0,\"ticks\":\"\"}}}],\"bar\":[{\"error_x\":{\"color\":\"#2a3f5f\"},\"error_y\":{\"color\":\"#2a3f5f\"},\"marker\":{\"line\":{\"color\":\"#E5ECF6\",\"width\":0.5},\"pattern\":{\"fillmode\":\"overlay\",\"size\":10,\"solidity\":0.2}},\"type\":\"bar\"}],\"scattergeo\":[{\"type\":\"scattergeo\",\"marker\":{\"colorbar\":{\"outlinewidth\":0,\"ticks\":\"\"}}}],\"scatterpolar\":[{\"type\":\"scatterpolar\",\"marker\":{\"colorbar\":{\"outlinewidth\":0,\"ticks\":\"\"}}}],\"histogram\":[{\"marker\":{\"pattern\":{\"fillmode\":\"overlay\",\"size\":10,\"solidity\":0.2}},\"type\":\"histogram\"}],\"scattergl\":[{\"type\":\"scattergl\",\"marker\":{\"colorbar\":{\"outlinewidth\":0,\"ticks\":\"\"}}}],\"scatter3d\":[{\"type\":\"scatter3d\",\"line\":{\"colorbar\":{\"outlinewidth\":0,\"ticks\":\"\"}},\"marker\":{\"colorbar\":{\"outlinewidth\":0,\"ticks\":\"\"}}}],\"scattermapbox\":[{\"type\":\"scattermapbox\",\"marker\":{\"colorbar\":{\"outlinewidth\":0,\"ticks\":\"\"}}}],\"scatterternary\":[{\"type\":\"scatterternary\",\"marker\":{\"colorbar\":{\"outlinewidth\":0,\"ticks\":\"\"}}}],\"scattercarpet\":[{\"type\":\"scattercarpet\",\"marker\":{\"colorbar\":{\"outlinewidth\":0,\"ticks\":\"\"}}}],\"carpet\":[{\"aaxis\":{\"endlinecolor\":\"#2a3f5f\",\"gridcolor\":\"white\",\"linecolor\":\"white\",\"minorgridcolor\":\"white\",\"startlinecolor\":\"#2a3f5f\"},\"baxis\":{\"endlinecolor\":\"#2a3f5f\",\"gridcolor\":\"white\",\"linecolor\":\"white\",\"minorgridcolor\":\"white\",\"startlinecolor\":\"#2a3f5f\"},\"type\":\"carpet\"}],\"table\":[{\"cells\":{\"fill\":{\"color\":\"#EBF0F8\"},\"line\":{\"color\":\"white\"}},\"header\":{\"fill\":{\"color\":\"#C8D4E3\"},\"line\":{\"color\":\"white\"}},\"type\":\"table\"}],\"barpolar\":[{\"marker\":{\"line\":{\"color\":\"#E5ECF6\",\"width\":0.5},\"pattern\":{\"fillmode\":\"overlay\",\"size\":10,\"solidity\":0.2}},\"type\":\"barpolar\"}],\"pie\":[{\"automargin\":true,\"type\":\"pie\"}]},\"layout\":{\"autotypenumbers\":\"strict\",\"colorway\":[\"#636efa\",\"#EF553B\",\"#00cc96\",\"#ab63fa\",\"#FFA15A\",\"#19d3f3\",\"#FF6692\",\"#B6E880\",\"#FF97FF\",\"#FECB52\"],\"font\":{\"color\":\"#2a3f5f\"},\"hovermode\":\"closest\",\"hoverlabel\":{\"align\":\"left\"},\"paper_bgcolor\":\"white\",\"plot_bgcolor\":\"#E5ECF6\",\"polar\":{\"bgcolor\":\"#E5ECF6\",\"angularaxis\":{\"gridcolor\":\"white\",\"linecolor\":\"white\",\"ticks\":\"\"},\"radialaxis\":{\"gridcolor\":\"white\",\"linecolor\":\"white\",\"ticks\":\"\"}},\"ternary\":{\"bgcolor\":\"#E5ECF6\",\"aaxis\":{\"gridcolor\":\"white\",\"linecolor\":\"white\",\"ticks\":\"\"},\"baxis\":{\"gridcolor\":\"white\",\"linecolor\":\"white\",\"ticks\":\"\"},\"caxis\":{\"gridcolor\":\"white\",\"linecolor\":\"white\",\"ticks\":\"\"}},\"coloraxis\":{\"colorbar\":{\"outlinewidth\":0,\"ticks\":\"\"}},\"colorscale\":{\"sequential\":[[0.0,\"#0d0887\"],[0.1111111111111111,\"#46039f\"],[0.2222222222222222,\"#7201a8\"],[0.3333333333333333,\"#9c179e\"],[0.4444444444444444,\"#bd3786\"],[0.5555555555555556,\"#d8576b\"],[0.6666666666666666,\"#ed7953\"],[0.7777777777777778,\"#fb9f3a\"],[0.8888888888888888,\"#fdca26\"],[1.0,\"#f0f921\"]],\"sequentialminus\":[[0.0,\"#0d0887\"],[0.1111111111111111,\"#46039f\"],[0.2222222222222222,\"#7201a8\"],[0.3333333333333333,\"#9c179e\"],[0.4444444444444444,\"#bd3786\"],[0.5555555555555556,\"#d8576b\"],[0.6666666666666666,\"#ed7953\"],[0.7777777777777778,\"#fb9f3a\"],[0.8888888888888888,\"#fdca26\"],[1.0,\"#f0f921\"]],\"diverging\":[[0,\"#8e0152\"],[0.1,\"#c51b7d\"],[0.2,\"#de77ae\"],[0.3,\"#f1b6da\"],[0.4,\"#fde0ef\"],[0.5,\"#f7f7f7\"],[0.6,\"#e6f5d0\"],[0.7,\"#b8e186\"],[0.8,\"#7fbc41\"],[0.9,\"#4d9221\"],[1,\"#276419\"]]},\"xaxis\":{\"gridcolor\":\"white\",\"linecolor\":\"white\",\"ticks\":\"\",\"title\":{\"standoff\":15},\"zerolinecolor\":\"white\",\"automargin\":true,\"zerolinewidth\":2},\"yaxis\":{\"gridcolor\":\"white\",\"linecolor\":\"white\",\"ticks\":\"\",\"title\":{\"standoff\":15},\"zerolinecolor\":\"white\",\"automargin\":true,\"zerolinewidth\":2},\"scene\":{\"xaxis\":{\"backgroundcolor\":\"#E5ECF6\",\"gridcolor\":\"white\",\"linecolor\":\"white\",\"showbackground\":true,\"ticks\":\"\",\"zerolinecolor\":\"white\",\"gridwidth\":2},\"yaxis\":{\"backgroundcolor\":\"#E5ECF6\",\"gridcolor\":\"white\",\"linecolor\":\"white\",\"showbackground\":true,\"ticks\":\"\",\"zerolinecolor\":\"white\",\"gridwidth\":2},\"zaxis\":{\"backgroundcolor\":\"#E5ECF6\",\"gridcolor\":\"white\",\"linecolor\":\"white\",\"showbackground\":true,\"ticks\":\"\",\"zerolinecolor\":\"white\",\"gridwidth\":2}},\"shapedefaults\":{\"line\":{\"color\":\"#2a3f5f\"}},\"annotationdefaults\":{\"arrowcolor\":\"#2a3f5f\",\"arrowhead\":0,\"arrowwidth\":1},\"geo\":{\"bgcolor\":\"white\",\"landcolor\":\"#E5ECF6\",\"subunitcolor\":\"white\",\"showland\":true,\"showlakes\":true,\"lakecolor\":\"white\"},\"title\":{\"x\":0.05},\"mapbox\":{\"style\":\"light\"}}},\"xaxis\":{\"anchor\":\"y\",\"domain\":[0.0,1.0],\"title\":{\"text\":\"Year\"}},\"yaxis\":{\"anchor\":\"x\",\"domain\":[0.0,1.0],\"title\":{\"text\":\"Total Award Amount\"},\"type\":\"log\"},\"legend\":{\"title\":{\"text\":\"Department/Ind.Agency\"},\"tracegroupgap\":0},\"title\":{\"text\":\"Top Sum for Every Year with Respective Department\"},\"barmode\":\"relative\"},                        {\"responsive\": true}                    ).then(function(){\n",
       "                            \n",
       "var gd = document.getElementById('7a30463d-279e-4e09-9403-2ce2b790ee97');\n",
       "var x = new MutationObserver(function (mutations, observer) {{\n",
       "        var display = window.getComputedStyle(gd).display;\n",
       "        if (!display || display === 'none') {{\n",
       "            console.log([gd, 'removed!']);\n",
       "            Plotly.purge(gd);\n",
       "            observer.disconnect();\n",
       "        }}\n",
       "}});\n",
       "\n",
       "// Listen for the removal of the full notebook cells\n",
       "var notebookContainer = gd.closest('#notebook-container');\n",
       "if (notebookContainer) {{\n",
       "    x.observe(notebookContainer, {childList: true});\n",
       "}}\n",
       "\n",
       "// Listen for the clearing of the current output cell\n",
       "var outputEl = gd.closest('.output');\n",
       "if (outputEl) {{\n",
       "    x.observe(outputEl, {childList: true});\n",
       "}}\n",
       "\n",
       "                        })                };                });            </script>        </div>"
      ]
     },
     "metadata": {},
     "output_type": "display_data"
    }
   ],
   "source": [
    "fig = px.bar(top_sum_per_year, x='Year', y='Award$', color='Department/Ind.Agency',\n",
    "             title='Top Sum for Every Year with Respective Department',\n",
    "             labels={'Award$': 'Total Award Amount', 'Year': 'Year'},\n",
    "             log_y=True)  # Set log scale for y-axis\n",
    "\n",
    "# Show the interactive plot\n",
    "fig.show()"
   ]
  },
  {
   "cell_type": "code",
   "execution_count": null,
   "id": "b7c01014",
   "metadata": {},
   "outputs": [],
   "source": []
  },
  {
   "cell_type": "markdown",
   "id": "df6b9f05",
   "metadata": {},
   "source": [
    "# 5.There is an increase in number of contract posted for Department of Commerce over the last several years\n"
   ]
  },
  {
   "cell_type": "code",
   "execution_count": 117,
   "id": "5aab2761",
   "metadata": {},
   "outputs": [
    {
     "data": {
      "text/html": [
       "<div>\n",
       "<style scoped>\n",
       "    .dataframe tbody tr th:only-of-type {\n",
       "        vertical-align: middle;\n",
       "    }\n",
       "\n",
       "    .dataframe tbody tr th {\n",
       "        vertical-align: top;\n",
       "    }\n",
       "\n",
       "    .dataframe thead th {\n",
       "        text-align: right;\n",
       "    }\n",
       "</style>\n",
       "<table border=\"1\" class=\"dataframe\">\n",
       "  <thead>\n",
       "    <tr style=\"text-align: right;\">\n",
       "      <th></th>\n",
       "      <th>NoticeId</th>\n",
       "      <th>Title</th>\n",
       "      <th>Sol#</th>\n",
       "      <th>Department/Ind.Agency</th>\n",
       "      <th>CGAC</th>\n",
       "      <th>Sub-Tier</th>\n",
       "      <th>FPDS Code</th>\n",
       "      <th>Office</th>\n",
       "      <th>AAC Code</th>\n",
       "      <th>PostedDate</th>\n",
       "      <th>...</th>\n",
       "      <th>AwardDate</th>\n",
       "      <th>Award$</th>\n",
       "      <th>Awardee</th>\n",
       "      <th>OrganizationType</th>\n",
       "      <th>State</th>\n",
       "      <th>City</th>\n",
       "      <th>ZipCode</th>\n",
       "      <th>CountryCode</th>\n",
       "      <th>Year</th>\n",
       "      <th>Is_DoD</th>\n",
       "    </tr>\n",
       "  </thead>\n",
       "  <tbody>\n",
       "    <tr>\n",
       "      <th>0</th>\n",
       "      <td>425a9edc53e84373aeb2826644ac97b6</td>\n",
       "      <td>66--Airfield Friction Tester</td>\n",
       "      <td>W50S9C-20-Q-0003</td>\n",
       "      <td>DEPT OF DEFENSE</td>\n",
       "      <td>$21.00</td>\n",
       "      <td>DEPT OF THE ARMY</td>\n",
       "      <td>2100</td>\n",
       "      <td>W7N4 USPFO ACTIVITY VT ARNG</td>\n",
       "      <td>W912LN</td>\n",
       "      <td>2020-09-30 23:57:23.594-04</td>\n",
       "      <td>...</td>\n",
       "      <td>2020-09-30</td>\n",
       "      <td>$75,706.10</td>\n",
       "      <td>HALLIDAY TECHNOLOGIES INC [DUNS: 011448375],10...</td>\n",
       "      <td>OFFICE</td>\n",
       "      <td>VT</td>\n",
       "      <td>COLCHESTER</td>\n",
       "      <td>05446-3099</td>\n",
       "      <td>USA</td>\n",
       "      <td>2020</td>\n",
       "      <td>True</td>\n",
       "    </tr>\n",
       "    <tr>\n",
       "      <th>1</th>\n",
       "      <td>cbdb7b8ee8de4179b25c36e3b4819a2c</td>\n",
       "      <td>65--COVID 19 cleaning supplies</td>\n",
       "      <td>1018031080_01</td>\n",
       "      <td>STATE, DEPARTMENT OF</td>\n",
       "      <td>$19.00</td>\n",
       "      <td>STATE, DEPARTMENT OF</td>\n",
       "      <td>1900</td>\n",
       "      <td>ACQUISITIONS - AQM MOMENTUM</td>\n",
       "      <td>19AQMM</td>\n",
       "      <td>2020-09-30 23:53:02.228-04</td>\n",
       "      <td>...</td>\n",
       "      <td>2020-09-30</td>\n",
       "      <td>$11,876.98</td>\n",
       "      <td>KAN HERITAGE INC [DUNS: 079669146],7620 FOLSOM...</td>\n",
       "      <td>OFFICE</td>\n",
       "      <td>DC</td>\n",
       "      <td>WASHINGTON</td>\n",
       "      <td>20520</td>\n",
       "      <td>USA</td>\n",
       "      <td>2020</td>\n",
       "      <td>False</td>\n",
       "    </tr>\n",
       "    <tr>\n",
       "      <th>2</th>\n",
       "      <td>c8609373b0734f1aa5d9dcdf7e26f4c6</td>\n",
       "      <td>58--Voyager DSV</td>\n",
       "      <td>1019022491_01</td>\n",
       "      <td>STATE, DEPARTMENT OF</td>\n",
       "      <td>$19.00</td>\n",
       "      <td>STATE, DEPARTMENT OF</td>\n",
       "      <td>1900</td>\n",
       "      <td>ACQUISITIONS - AQM MOMENTUM</td>\n",
       "      <td>19AQMM</td>\n",
       "      <td>2020-09-30 23:48:57.306-04</td>\n",
       "      <td>...</td>\n",
       "      <td>2020-09-30</td>\n",
       "      <td>$110,867.00</td>\n",
       "      <td>LIGHTFOOT COMMUNICATIONS LLC [DUNS: 943850268]...</td>\n",
       "      <td>OFFICE</td>\n",
       "      <td>DC</td>\n",
       "      <td>WASHINGTON</td>\n",
       "      <td>20520</td>\n",
       "      <td>USA</td>\n",
       "      <td>2020</td>\n",
       "      <td>False</td>\n",
       "    </tr>\n",
       "    <tr>\n",
       "      <th>3</th>\n",
       "      <td>c07957305b754b35957e539f98150dcf</td>\n",
       "      <td>Contract Opportunity Lease of Office Space wit...</td>\n",
       "      <td>20-REG11_8VA2699</td>\n",
       "      <td>GENERAL SERVICES ADMINISTRATION</td>\n",
       "      <td>$47.00</td>\n",
       "      <td>PUBLIC BUILDINGS SERVICE</td>\n",
       "      <td>4740</td>\n",
       "      <td>PBS R11 LEASING DIV</td>\n",
       "      <td>47PM99</td>\n",
       "      <td>2020-09-30 23:45:27.966-04</td>\n",
       "      <td>...</td>\n",
       "      <td>2020-09-30</td>\n",
       "      <td>$0.00</td>\n",
       "      <td>UNKNOWN</td>\n",
       "      <td>OFFICE</td>\n",
       "      <td>DC</td>\n",
       "      <td>WASHINGTON</td>\n",
       "      <td>20407</td>\n",
       "      <td>USA</td>\n",
       "      <td>2020</td>\n",
       "      <td>False</td>\n",
       "    </tr>\n",
       "    <tr>\n",
       "      <th>4</th>\n",
       "      <td>50463c77de6c4ebdbd7f1e8be833f4fb</td>\n",
       "      <td>6540-- VISN 5 Eyeglass Contract</td>\n",
       "      <td>36C24520R0012</td>\n",
       "      <td>VETERANS AFFAIRS, DEPARTMENT OF</td>\n",
       "      <td>$36.00</td>\n",
       "      <td>VETERANS AFFAIRS, DEPARTMENT OF</td>\n",
       "      <td>3600</td>\n",
       "      <td>245-NETWORK CONTRACT OFFICE 5 (36C245)</td>\n",
       "      <td>36C245</td>\n",
       "      <td>2020-09-30 23:43:15.213-04</td>\n",
       "      <td>...</td>\n",
       "      <td>2020-09-30</td>\n",
       "      <td>$0.00</td>\n",
       "      <td>null</td>\n",
       "      <td>OFFICE</td>\n",
       "      <td>MD</td>\n",
       "      <td>LINTHICUM</td>\n",
       "      <td>21090</td>\n",
       "      <td>USA</td>\n",
       "      <td>2020</td>\n",
       "      <td>False</td>\n",
       "    </tr>\n",
       "    <tr>\n",
       "      <th>...</th>\n",
       "      <td>...</td>\n",
       "      <td>...</td>\n",
       "      <td>...</td>\n",
       "      <td>...</td>\n",
       "      <td>...</td>\n",
       "      <td>...</td>\n",
       "      <td>...</td>\n",
       "      <td>...</td>\n",
       "      <td>...</td>\n",
       "      <td>...</td>\n",
       "      <td>...</td>\n",
       "      <td>...</td>\n",
       "      <td>...</td>\n",
       "      <td>...</td>\n",
       "      <td>...</td>\n",
       "      <td>...</td>\n",
       "      <td>...</td>\n",
       "      <td>...</td>\n",
       "      <td>...</td>\n",
       "      <td>...</td>\n",
       "      <td>...</td>\n",
       "    </tr>\n",
       "    <tr>\n",
       "      <th>1429965</th>\n",
       "      <td>c6afb31c35a84c5b98398f5f55236b69</td>\n",
       "      <td>7A21--VISN 2 VetLink Queuing Sustainment (VA-2...</td>\n",
       "      <td>36C24223Q0004</td>\n",
       "      <td>VETERANS AFFAIRS, DEPARTMENT OF</td>\n",
       "      <td>$36.00</td>\n",
       "      <td>VETERANS AFFAIRS, DEPARTMENT OF</td>\n",
       "      <td>3600</td>\n",
       "      <td>242-NETWORK CONTRACT OFFICE 02 (36C242)</td>\n",
       "      <td>36C242</td>\n",
       "      <td>2022-10-01 04:26:04.55-04</td>\n",
       "      <td>...</td>\n",
       "      <td>2022-10-01</td>\n",
       "      <td>$673,380.00</td>\n",
       "      <td>MINUTEMAN TECHNOLOGY SERVICES LLC MARBLEHEAD 0...</td>\n",
       "      <td>OFFICE</td>\n",
       "      <td>NY</td>\n",
       "      <td>ALBANY</td>\n",
       "      <td>12208</td>\n",
       "      <td>USA</td>\n",
       "      <td>2022</td>\n",
       "      <td>False</td>\n",
       "    </tr>\n",
       "    <tr>\n",
       "      <th>1429966</th>\n",
       "      <td>0acabcdac1b54619a50485040b0f579a</td>\n",
       "      <td>J065--Scriptpro Maintenance and Service Repair...</td>\n",
       "      <td>36C24622Q1029</td>\n",
       "      <td>VETERANS AFFAIRS, DEPARTMENT OF</td>\n",
       "      <td>$36.00</td>\n",
       "      <td>VETERANS AFFAIRS, DEPARTMENT OF</td>\n",
       "      <td>3600</td>\n",
       "      <td>246-NETWORK CONTRACTING OFFICE 6 (36C246)</td>\n",
       "      <td>36C246</td>\n",
       "      <td>2022-10-01 04:10:46.122-04</td>\n",
       "      <td>...</td>\n",
       "      <td>2022-10-01</td>\n",
       "      <td>$473,443.80</td>\n",
       "      <td>SCRIPTPRO USA INC MISSION 66202</td>\n",
       "      <td>OFFICE</td>\n",
       "      <td>VA</td>\n",
       "      <td>HAMPTON</td>\n",
       "      <td>23667</td>\n",
       "      <td>USA</td>\n",
       "      <td>2022</td>\n",
       "      <td>False</td>\n",
       "    </tr>\n",
       "    <tr>\n",
       "      <th>1429967</th>\n",
       "      <td>ff22effe5a59490c9e587778bc14fda3</td>\n",
       "      <td>LEC Services for Sioux Falls CBOC</td>\n",
       "      <td>36C10A23P0004</td>\n",
       "      <td>VETERANS AFFAIRS, DEPARTMENT OF</td>\n",
       "      <td>$36.00</td>\n",
       "      <td>VETERANS AFFAIRS, DEPARTMENT OF</td>\n",
       "      <td>3600</td>\n",
       "      <td>TECHNOLOGY ACQUISITION CENTER AUSTIN (36C10A)</td>\n",
       "      <td>36C10A</td>\n",
       "      <td>2022-10-01 01:49:36.633-04</td>\n",
       "      <td>...</td>\n",
       "      <td>2022-10-01</td>\n",
       "      <td>$41,429.73</td>\n",
       "      <td>Fort Randall Telephone Company SD 57380-9373 USA</td>\n",
       "      <td>OFFICE</td>\n",
       "      <td>TX</td>\n",
       "      <td>AUSTIN</td>\n",
       "      <td>78744</td>\n",
       "      <td>USA</td>\n",
       "      <td>2022</td>\n",
       "      <td>False</td>\n",
       "    </tr>\n",
       "    <tr>\n",
       "      <th>1429968</th>\n",
       "      <td>fdf1333cfa5643c28096a38732be727e</td>\n",
       "      <td>Zambia Integrated HIV and Health Activity - Am...</td>\n",
       "      <td>72061122R00007</td>\n",
       "      <td>AGENCY FOR INTERNATIONAL DEVELOPMENT</td>\n",
       "      <td>$72.00</td>\n",
       "      <td>AGENCY FOR INTERNATIONAL DEVELOPMENT</td>\n",
       "      <td>7200</td>\n",
       "      <td>USAID/ZAMBIA</td>\n",
       "      <td>720611</td>\n",
       "      <td>2022-10-01 01:41:37.313-04</td>\n",
       "      <td>...</td>\n",
       "      <td>2022-10-01</td>\n",
       "      <td>$0.00</td>\n",
       "      <td>UNKNOWN</td>\n",
       "      <td>OFFICE</td>\n",
       "      <td>UNKNOWN</td>\n",
       "      <td>LUSAKA</td>\n",
       "      <td>UNKNOWN</td>\n",
       "      <td>ZMB</td>\n",
       "      <td>2022</td>\n",
       "      <td>False</td>\n",
       "    </tr>\n",
       "    <tr>\n",
       "      <th>1429969</th>\n",
       "      <td>73c1c6bc72f04a2685535e58753cf496</td>\n",
       "      <td>Vehicle Lease for Det 2 at Paya Lebar Air Base...</td>\n",
       "      <td>FA520923P0002</td>\n",
       "      <td>DEPT OF DEFENSE</td>\n",
       "      <td>$57.00</td>\n",
       "      <td>DEPT OF THE AIR FORCE</td>\n",
       "      <td>5700</td>\n",
       "      <td>FA5209  374 CONS PK</td>\n",
       "      <td>FA5209</td>\n",
       "      <td>2022-10-01 00:09:14.041-04</td>\n",
       "      <td>...</td>\n",
       "      <td>2022-10-01</td>\n",
       "      <td>$253,704.00</td>\n",
       "      <td>SIME DARBY SERVICES PRIVATE LIMITED 159942 SGP</td>\n",
       "      <td>OFFICE</td>\n",
       "      <td>AP</td>\n",
       "      <td>APO</td>\n",
       "      <td>96328-5228</td>\n",
       "      <td>USA</td>\n",
       "      <td>2022</td>\n",
       "      <td>True</td>\n",
       "    </tr>\n",
       "  </tbody>\n",
       "</table>\n",
       "<p>1352729 rows × 34 columns</p>\n",
       "</div>"
      ],
      "text/plain": [
       "                                 NoticeId  \\\n",
       "0        425a9edc53e84373aeb2826644ac97b6   \n",
       "1        cbdb7b8ee8de4179b25c36e3b4819a2c   \n",
       "2        c8609373b0734f1aa5d9dcdf7e26f4c6   \n",
       "3        c07957305b754b35957e539f98150dcf   \n",
       "4        50463c77de6c4ebdbd7f1e8be833f4fb   \n",
       "...                                   ...   \n",
       "1429965  c6afb31c35a84c5b98398f5f55236b69   \n",
       "1429966  0acabcdac1b54619a50485040b0f579a   \n",
       "1429967  ff22effe5a59490c9e587778bc14fda3   \n",
       "1429968  fdf1333cfa5643c28096a38732be727e   \n",
       "1429969  73c1c6bc72f04a2685535e58753cf496   \n",
       "\n",
       "                                                     Title              Sol#  \\\n",
       "0                             66--Airfield Friction Tester  W50S9C-20-Q-0003   \n",
       "1                           65--COVID 19 cleaning supplies     1018031080_01   \n",
       "2                                          58--Voyager DSV     1019022491_01   \n",
       "3        Contract Opportunity Lease of Office Space wit...  20-REG11_8VA2699   \n",
       "4                          6540-- VISN 5 Eyeglass Contract     36C24520R0012   \n",
       "...                                                    ...               ...   \n",
       "1429965  7A21--VISN 2 VetLink Queuing Sustainment (VA-2...     36C24223Q0004   \n",
       "1429966  J065--Scriptpro Maintenance and Service Repair...     36C24622Q1029   \n",
       "1429967                  LEC Services for Sioux Falls CBOC     36C10A23P0004   \n",
       "1429968  Zambia Integrated HIV and Health Activity - Am...    72061122R00007   \n",
       "1429969  Vehicle Lease for Det 2 at Paya Lebar Air Base...     FA520923P0002   \n",
       "\n",
       "                        Department/Ind.Agency   CGAC  \\\n",
       "0                             DEPT OF DEFENSE $21.00   \n",
       "1                        STATE, DEPARTMENT OF $19.00   \n",
       "2                        STATE, DEPARTMENT OF $19.00   \n",
       "3             GENERAL SERVICES ADMINISTRATION $47.00   \n",
       "4             VETERANS AFFAIRS, DEPARTMENT OF $36.00   \n",
       "...                                       ...    ...   \n",
       "1429965       VETERANS AFFAIRS, DEPARTMENT OF $36.00   \n",
       "1429966       VETERANS AFFAIRS, DEPARTMENT OF $36.00   \n",
       "1429967       VETERANS AFFAIRS, DEPARTMENT OF $36.00   \n",
       "1429968  AGENCY FOR INTERNATIONAL DEVELOPMENT $72.00   \n",
       "1429969                       DEPT OF DEFENSE $57.00   \n",
       "\n",
       "                                     Sub-Tier FPDS Code  \\\n",
       "0                            DEPT OF THE ARMY      2100   \n",
       "1                        STATE, DEPARTMENT OF      1900   \n",
       "2                        STATE, DEPARTMENT OF      1900   \n",
       "3                    PUBLIC BUILDINGS SERVICE      4740   \n",
       "4             VETERANS AFFAIRS, DEPARTMENT OF      3600   \n",
       "...                                       ...       ...   \n",
       "1429965       VETERANS AFFAIRS, DEPARTMENT OF      3600   \n",
       "1429966       VETERANS AFFAIRS, DEPARTMENT OF      3600   \n",
       "1429967       VETERANS AFFAIRS, DEPARTMENT OF      3600   \n",
       "1429968  AGENCY FOR INTERNATIONAL DEVELOPMENT      7200   \n",
       "1429969                 DEPT OF THE AIR FORCE      5700   \n",
       "\n",
       "                                                Office AAC Code  \\\n",
       "0                          W7N4 USPFO ACTIVITY VT ARNG   W912LN   \n",
       "1                          ACQUISITIONS - AQM MOMENTUM   19AQMM   \n",
       "2                          ACQUISITIONS - AQM MOMENTUM   19AQMM   \n",
       "3                                  PBS R11 LEASING DIV   47PM99   \n",
       "4               245-NETWORK CONTRACT OFFICE 5 (36C245)   36C245   \n",
       "...                                                ...      ...   \n",
       "1429965        242-NETWORK CONTRACT OFFICE 02 (36C242)   36C242   \n",
       "1429966      246-NETWORK CONTRACTING OFFICE 6 (36C246)   36C246   \n",
       "1429967  TECHNOLOGY ACQUISITION CENTER AUSTIN (36C10A)   36C10A   \n",
       "1429968                                   USAID/ZAMBIA   720611   \n",
       "1429969                            FA5209  374 CONS PK   FA5209   \n",
       "\n",
       "                         PostedDate  ...  AwardDate      Award$  \\\n",
       "0        2020-09-30 23:57:23.594-04  ... 2020-09-30  $75,706.10   \n",
       "1        2020-09-30 23:53:02.228-04  ... 2020-09-30  $11,876.98   \n",
       "2        2020-09-30 23:48:57.306-04  ... 2020-09-30 $110,867.00   \n",
       "3        2020-09-30 23:45:27.966-04  ... 2020-09-30       $0.00   \n",
       "4        2020-09-30 23:43:15.213-04  ... 2020-09-30       $0.00   \n",
       "...                             ...  ...        ...         ...   \n",
       "1429965   2022-10-01 04:26:04.55-04  ... 2022-10-01 $673,380.00   \n",
       "1429966  2022-10-01 04:10:46.122-04  ... 2022-10-01 $473,443.80   \n",
       "1429967  2022-10-01 01:49:36.633-04  ... 2022-10-01  $41,429.73   \n",
       "1429968  2022-10-01 01:41:37.313-04  ... 2022-10-01       $0.00   \n",
       "1429969  2022-10-01 00:09:14.041-04  ... 2022-10-01 $253,704.00   \n",
       "\n",
       "                                                   Awardee OrganizationType  \\\n",
       "0        HALLIDAY TECHNOLOGIES INC [DUNS: 011448375],10...           OFFICE   \n",
       "1        KAN HERITAGE INC [DUNS: 079669146],7620 FOLSOM...           OFFICE   \n",
       "2        LIGHTFOOT COMMUNICATIONS LLC [DUNS: 943850268]...           OFFICE   \n",
       "3                                                  UNKNOWN           OFFICE   \n",
       "4                                                    null            OFFICE   \n",
       "...                                                    ...              ...   \n",
       "1429965  MINUTEMAN TECHNOLOGY SERVICES LLC MARBLEHEAD 0...           OFFICE   \n",
       "1429966                    SCRIPTPRO USA INC MISSION 66202           OFFICE   \n",
       "1429967   Fort Randall Telephone Company SD 57380-9373 USA           OFFICE   \n",
       "1429968                                            UNKNOWN           OFFICE   \n",
       "1429969     SIME DARBY SERVICES PRIVATE LIMITED 159942 SGP           OFFICE   \n",
       "\n",
       "           State        City     ZipCode CountryCode  Year Is_DoD  \n",
       "0             VT  COLCHESTER  05446-3099         USA  2020   True  \n",
       "1             DC  WASHINGTON       20520         USA  2020  False  \n",
       "2             DC  WASHINGTON       20520         USA  2020  False  \n",
       "3             DC  WASHINGTON       20407         USA  2020  False  \n",
       "4             MD   LINTHICUM       21090         USA  2020  False  \n",
       "...          ...         ...         ...         ...   ...    ...  \n",
       "1429965       NY      ALBANY       12208         USA  2022  False  \n",
       "1429966       VA     HAMPTON       23667         USA  2022  False  \n",
       "1429967       TX      AUSTIN       78744         USA  2022  False  \n",
       "1429968  UNKNOWN      LUSAKA     UNKNOWN         ZMB  2022  False  \n",
       "1429969       AP         APO  96328-5228         USA  2022   True  \n",
       "\n",
       "[1352729 rows x 34 columns]"
      ]
     },
     "execution_count": 117,
     "metadata": {},
     "output_type": "execute_result"
    }
   ],
   "source": [
    "filtered_df"
   ]
  },
  {
   "cell_type": "code",
   "execution_count": 118,
   "id": "805569ef",
   "metadata": {},
   "outputs": [
    {
     "data": {
      "text/plain": [
       "0          2020-09-30 23:57:23.594-04\n",
       "1          2020-09-30 23:53:02.228-04\n",
       "2          2020-09-30 23:48:57.306-04\n",
       "3          2020-09-30 23:45:27.966-04\n",
       "4          2020-09-30 23:43:15.213-04\n",
       "                      ...            \n",
       "1429965     2022-10-01 04:26:04.55-04\n",
       "1429966    2022-10-01 04:10:46.122-04\n",
       "1429967    2022-10-01 01:49:36.633-04\n",
       "1429968    2022-10-01 01:41:37.313-04\n",
       "1429969    2022-10-01 00:09:14.041-04\n",
       "Name: PostedDate, Length: 1352729, dtype: object"
      ]
     },
     "execution_count": 118,
     "metadata": {},
     "output_type": "execute_result"
    }
   ],
   "source": [
    "filtered_df['PostedDate']"
   ]
  },
  {
   "cell_type": "code",
   "execution_count": 125,
   "id": "acf2a491",
   "metadata": {},
   "outputs": [
    {
     "name": "stdout",
     "output_type": "stream",
     "text": [
      "   year_P  Number_of_Posted_Dates\n",
      "0    2019                       4\n",
      "1    2020                    3605\n",
      "2    2021                    3673\n",
      "3    2022                    4128\n",
      "4    2023                    4179\n"
     ]
    }
   ],
   "source": [
    "filtered_df['PostedDate'] = pd.to_datetime(filtered_df['PostedDate'], errors='coerce')\n",
    "\n",
    "# Drop rows with NaT (optional, if you want to remove rows with invalid timestamps)\n",
    "filtered_df = filtered_df.dropna(subset=['PostedDate'])\n",
    "\n",
    "# Extract the year and create a new column 'year_P'\n",
    "filtered_df['year_P'] = filtered_df['PostedDate'].dt.year\n",
    "\n",
    "# Filter rows for the Department of Commerce\n",
    "commerce_df = filtered_df[filtered_df['Department/Ind.Agency'] == 'COMMERCE, DEPARTMENT OF']\n",
    "\n",
    "# Group by 'year_P' for the Department of Commerce and count the total number of posted dates for each year\n",
    "commerce_posted_dates_count = commerce_df.groupby('year_P')['PostedDate'].size().reset_index(name='Number_of_Posted_Dates')\n",
    "\n",
    "# Display the result\n",
    "print(commerce_posted_dates_count)"
   ]
  },
  {
   "cell_type": "code",
   "execution_count": 126,
   "id": "d823b249",
   "metadata": {},
   "outputs": [
    {
     "data": {
      "application/vnd.plotly.v1+json": {
       "config": {
        "plotlyServerURL": "https://plot.ly"
       },
       "data": [
        {
         "alignmentgroup": "True",
         "hovertemplate": "year_P=%{x}<br>Number of Posted Dates=%{y}<extra></extra>",
         "legendgroup": "",
         "marker": {
          "color": "#636efa",
          "pattern": {
           "shape": ""
          }
         },
         "name": "",
         "offsetgroup": "",
         "orientation": "v",
         "showlegend": false,
         "textposition": "auto",
         "type": "bar",
         "x": [
          2019,
          2020,
          2021,
          2022,
          2023
         ],
         "xaxis": "x",
         "y": [
          4,
          3605,
          3673,
          4128,
          4179
         ],
         "yaxis": "y"
        }
       ],
       "layout": {
        "barmode": "relative",
        "legend": {
         "tracegroupgap": 0
        },
        "template": {
         "data": {
          "bar": [
           {
            "error_x": {
             "color": "#2a3f5f"
            },
            "error_y": {
             "color": "#2a3f5f"
            },
            "marker": {
             "line": {
              "color": "#E5ECF6",
              "width": 0.5
             },
             "pattern": {
              "fillmode": "overlay",
              "size": 10,
              "solidity": 0.2
             }
            },
            "type": "bar"
           }
          ],
          "barpolar": [
           {
            "marker": {
             "line": {
              "color": "#E5ECF6",
              "width": 0.5
             },
             "pattern": {
              "fillmode": "overlay",
              "size": 10,
              "solidity": 0.2
             }
            },
            "type": "barpolar"
           }
          ],
          "carpet": [
           {
            "aaxis": {
             "endlinecolor": "#2a3f5f",
             "gridcolor": "white",
             "linecolor": "white",
             "minorgridcolor": "white",
             "startlinecolor": "#2a3f5f"
            },
            "baxis": {
             "endlinecolor": "#2a3f5f",
             "gridcolor": "white",
             "linecolor": "white",
             "minorgridcolor": "white",
             "startlinecolor": "#2a3f5f"
            },
            "type": "carpet"
           }
          ],
          "choropleth": [
           {
            "colorbar": {
             "outlinewidth": 0,
             "ticks": ""
            },
            "type": "choropleth"
           }
          ],
          "contour": [
           {
            "colorbar": {
             "outlinewidth": 0,
             "ticks": ""
            },
            "colorscale": [
             [
              0,
              "#0d0887"
             ],
             [
              0.1111111111111111,
              "#46039f"
             ],
             [
              0.2222222222222222,
              "#7201a8"
             ],
             [
              0.3333333333333333,
              "#9c179e"
             ],
             [
              0.4444444444444444,
              "#bd3786"
             ],
             [
              0.5555555555555556,
              "#d8576b"
             ],
             [
              0.6666666666666666,
              "#ed7953"
             ],
             [
              0.7777777777777778,
              "#fb9f3a"
             ],
             [
              0.8888888888888888,
              "#fdca26"
             ],
             [
              1,
              "#f0f921"
             ]
            ],
            "type": "contour"
           }
          ],
          "contourcarpet": [
           {
            "colorbar": {
             "outlinewidth": 0,
             "ticks": ""
            },
            "type": "contourcarpet"
           }
          ],
          "heatmap": [
           {
            "colorbar": {
             "outlinewidth": 0,
             "ticks": ""
            },
            "colorscale": [
             [
              0,
              "#0d0887"
             ],
             [
              0.1111111111111111,
              "#46039f"
             ],
             [
              0.2222222222222222,
              "#7201a8"
             ],
             [
              0.3333333333333333,
              "#9c179e"
             ],
             [
              0.4444444444444444,
              "#bd3786"
             ],
             [
              0.5555555555555556,
              "#d8576b"
             ],
             [
              0.6666666666666666,
              "#ed7953"
             ],
             [
              0.7777777777777778,
              "#fb9f3a"
             ],
             [
              0.8888888888888888,
              "#fdca26"
             ],
             [
              1,
              "#f0f921"
             ]
            ],
            "type": "heatmap"
           }
          ],
          "heatmapgl": [
           {
            "colorbar": {
             "outlinewidth": 0,
             "ticks": ""
            },
            "colorscale": [
             [
              0,
              "#0d0887"
             ],
             [
              0.1111111111111111,
              "#46039f"
             ],
             [
              0.2222222222222222,
              "#7201a8"
             ],
             [
              0.3333333333333333,
              "#9c179e"
             ],
             [
              0.4444444444444444,
              "#bd3786"
             ],
             [
              0.5555555555555556,
              "#d8576b"
             ],
             [
              0.6666666666666666,
              "#ed7953"
             ],
             [
              0.7777777777777778,
              "#fb9f3a"
             ],
             [
              0.8888888888888888,
              "#fdca26"
             ],
             [
              1,
              "#f0f921"
             ]
            ],
            "type": "heatmapgl"
           }
          ],
          "histogram": [
           {
            "marker": {
             "pattern": {
              "fillmode": "overlay",
              "size": 10,
              "solidity": 0.2
             }
            },
            "type": "histogram"
           }
          ],
          "histogram2d": [
           {
            "colorbar": {
             "outlinewidth": 0,
             "ticks": ""
            },
            "colorscale": [
             [
              0,
              "#0d0887"
             ],
             [
              0.1111111111111111,
              "#46039f"
             ],
             [
              0.2222222222222222,
              "#7201a8"
             ],
             [
              0.3333333333333333,
              "#9c179e"
             ],
             [
              0.4444444444444444,
              "#bd3786"
             ],
             [
              0.5555555555555556,
              "#d8576b"
             ],
             [
              0.6666666666666666,
              "#ed7953"
             ],
             [
              0.7777777777777778,
              "#fb9f3a"
             ],
             [
              0.8888888888888888,
              "#fdca26"
             ],
             [
              1,
              "#f0f921"
             ]
            ],
            "type": "histogram2d"
           }
          ],
          "histogram2dcontour": [
           {
            "colorbar": {
             "outlinewidth": 0,
             "ticks": ""
            },
            "colorscale": [
             [
              0,
              "#0d0887"
             ],
             [
              0.1111111111111111,
              "#46039f"
             ],
             [
              0.2222222222222222,
              "#7201a8"
             ],
             [
              0.3333333333333333,
              "#9c179e"
             ],
             [
              0.4444444444444444,
              "#bd3786"
             ],
             [
              0.5555555555555556,
              "#d8576b"
             ],
             [
              0.6666666666666666,
              "#ed7953"
             ],
             [
              0.7777777777777778,
              "#fb9f3a"
             ],
             [
              0.8888888888888888,
              "#fdca26"
             ],
             [
              1,
              "#f0f921"
             ]
            ],
            "type": "histogram2dcontour"
           }
          ],
          "mesh3d": [
           {
            "colorbar": {
             "outlinewidth": 0,
             "ticks": ""
            },
            "type": "mesh3d"
           }
          ],
          "parcoords": [
           {
            "line": {
             "colorbar": {
              "outlinewidth": 0,
              "ticks": ""
             }
            },
            "type": "parcoords"
           }
          ],
          "pie": [
           {
            "automargin": true,
            "type": "pie"
           }
          ],
          "scatter": [
           {
            "fillpattern": {
             "fillmode": "overlay",
             "size": 10,
             "solidity": 0.2
            },
            "type": "scatter"
           }
          ],
          "scatter3d": [
           {
            "line": {
             "colorbar": {
              "outlinewidth": 0,
              "ticks": ""
             }
            },
            "marker": {
             "colorbar": {
              "outlinewidth": 0,
              "ticks": ""
             }
            },
            "type": "scatter3d"
           }
          ],
          "scattercarpet": [
           {
            "marker": {
             "colorbar": {
              "outlinewidth": 0,
              "ticks": ""
             }
            },
            "type": "scattercarpet"
           }
          ],
          "scattergeo": [
           {
            "marker": {
             "colorbar": {
              "outlinewidth": 0,
              "ticks": ""
             }
            },
            "type": "scattergeo"
           }
          ],
          "scattergl": [
           {
            "marker": {
             "colorbar": {
              "outlinewidth": 0,
              "ticks": ""
             }
            },
            "type": "scattergl"
           }
          ],
          "scattermapbox": [
           {
            "marker": {
             "colorbar": {
              "outlinewidth": 0,
              "ticks": ""
             }
            },
            "type": "scattermapbox"
           }
          ],
          "scatterpolar": [
           {
            "marker": {
             "colorbar": {
              "outlinewidth": 0,
              "ticks": ""
             }
            },
            "type": "scatterpolar"
           }
          ],
          "scatterpolargl": [
           {
            "marker": {
             "colorbar": {
              "outlinewidth": 0,
              "ticks": ""
             }
            },
            "type": "scatterpolargl"
           }
          ],
          "scatterternary": [
           {
            "marker": {
             "colorbar": {
              "outlinewidth": 0,
              "ticks": ""
             }
            },
            "type": "scatterternary"
           }
          ],
          "surface": [
           {
            "colorbar": {
             "outlinewidth": 0,
             "ticks": ""
            },
            "colorscale": [
             [
              0,
              "#0d0887"
             ],
             [
              0.1111111111111111,
              "#46039f"
             ],
             [
              0.2222222222222222,
              "#7201a8"
             ],
             [
              0.3333333333333333,
              "#9c179e"
             ],
             [
              0.4444444444444444,
              "#bd3786"
             ],
             [
              0.5555555555555556,
              "#d8576b"
             ],
             [
              0.6666666666666666,
              "#ed7953"
             ],
             [
              0.7777777777777778,
              "#fb9f3a"
             ],
             [
              0.8888888888888888,
              "#fdca26"
             ],
             [
              1,
              "#f0f921"
             ]
            ],
            "type": "surface"
           }
          ],
          "table": [
           {
            "cells": {
             "fill": {
              "color": "#EBF0F8"
             },
             "line": {
              "color": "white"
             }
            },
            "header": {
             "fill": {
              "color": "#C8D4E3"
             },
             "line": {
              "color": "white"
             }
            },
            "type": "table"
           }
          ]
         },
         "layout": {
          "annotationdefaults": {
           "arrowcolor": "#2a3f5f",
           "arrowhead": 0,
           "arrowwidth": 1
          },
          "autotypenumbers": "strict",
          "coloraxis": {
           "colorbar": {
            "outlinewidth": 0,
            "ticks": ""
           }
          },
          "colorscale": {
           "diverging": [
            [
             0,
             "#8e0152"
            ],
            [
             0.1,
             "#c51b7d"
            ],
            [
             0.2,
             "#de77ae"
            ],
            [
             0.3,
             "#f1b6da"
            ],
            [
             0.4,
             "#fde0ef"
            ],
            [
             0.5,
             "#f7f7f7"
            ],
            [
             0.6,
             "#e6f5d0"
            ],
            [
             0.7,
             "#b8e186"
            ],
            [
             0.8,
             "#7fbc41"
            ],
            [
             0.9,
             "#4d9221"
            ],
            [
             1,
             "#276419"
            ]
           ],
           "sequential": [
            [
             0,
             "#0d0887"
            ],
            [
             0.1111111111111111,
             "#46039f"
            ],
            [
             0.2222222222222222,
             "#7201a8"
            ],
            [
             0.3333333333333333,
             "#9c179e"
            ],
            [
             0.4444444444444444,
             "#bd3786"
            ],
            [
             0.5555555555555556,
             "#d8576b"
            ],
            [
             0.6666666666666666,
             "#ed7953"
            ],
            [
             0.7777777777777778,
             "#fb9f3a"
            ],
            [
             0.8888888888888888,
             "#fdca26"
            ],
            [
             1,
             "#f0f921"
            ]
           ],
           "sequentialminus": [
            [
             0,
             "#0d0887"
            ],
            [
             0.1111111111111111,
             "#46039f"
            ],
            [
             0.2222222222222222,
             "#7201a8"
            ],
            [
             0.3333333333333333,
             "#9c179e"
            ],
            [
             0.4444444444444444,
             "#bd3786"
            ],
            [
             0.5555555555555556,
             "#d8576b"
            ],
            [
             0.6666666666666666,
             "#ed7953"
            ],
            [
             0.7777777777777778,
             "#fb9f3a"
            ],
            [
             0.8888888888888888,
             "#fdca26"
            ],
            [
             1,
             "#f0f921"
            ]
           ]
          },
          "colorway": [
           "#636efa",
           "#EF553B",
           "#00cc96",
           "#ab63fa",
           "#FFA15A",
           "#19d3f3",
           "#FF6692",
           "#B6E880",
           "#FF97FF",
           "#FECB52"
          ],
          "font": {
           "color": "#2a3f5f"
          },
          "geo": {
           "bgcolor": "white",
           "lakecolor": "white",
           "landcolor": "#E5ECF6",
           "showlakes": true,
           "showland": true,
           "subunitcolor": "white"
          },
          "hoverlabel": {
           "align": "left"
          },
          "hovermode": "closest",
          "mapbox": {
           "style": "light"
          },
          "paper_bgcolor": "white",
          "plot_bgcolor": "#E5ECF6",
          "polar": {
           "angularaxis": {
            "gridcolor": "white",
            "linecolor": "white",
            "ticks": ""
           },
           "bgcolor": "#E5ECF6",
           "radialaxis": {
            "gridcolor": "white",
            "linecolor": "white",
            "ticks": ""
           }
          },
          "scene": {
           "xaxis": {
            "backgroundcolor": "#E5ECF6",
            "gridcolor": "white",
            "gridwidth": 2,
            "linecolor": "white",
            "showbackground": true,
            "ticks": "",
            "zerolinecolor": "white"
           },
           "yaxis": {
            "backgroundcolor": "#E5ECF6",
            "gridcolor": "white",
            "gridwidth": 2,
            "linecolor": "white",
            "showbackground": true,
            "ticks": "",
            "zerolinecolor": "white"
           },
           "zaxis": {
            "backgroundcolor": "#E5ECF6",
            "gridcolor": "white",
            "gridwidth": 2,
            "linecolor": "white",
            "showbackground": true,
            "ticks": "",
            "zerolinecolor": "white"
           }
          },
          "shapedefaults": {
           "line": {
            "color": "#2a3f5f"
           }
          },
          "ternary": {
           "aaxis": {
            "gridcolor": "white",
            "linecolor": "white",
            "ticks": ""
           },
           "baxis": {
            "gridcolor": "white",
            "linecolor": "white",
            "ticks": ""
           },
           "bgcolor": "#E5ECF6",
           "caxis": {
            "gridcolor": "white",
            "linecolor": "white",
            "ticks": ""
           }
          },
          "title": {
           "x": 0.05
          },
          "xaxis": {
           "automargin": true,
           "gridcolor": "white",
           "linecolor": "white",
           "ticks": "",
           "title": {
            "standoff": 15
           },
           "zerolinecolor": "white",
           "zerolinewidth": 2
          },
          "yaxis": {
           "automargin": true,
           "gridcolor": "white",
           "linecolor": "white",
           "ticks": "",
           "title": {
            "standoff": 15
           },
           "zerolinecolor": "white",
           "zerolinewidth": 2
          }
         }
        },
        "title": {
         "text": "Number of Posted Dates by Year for the Department of Commerce"
        },
        "xaxis": {
         "anchor": "y",
         "domain": [
          0,
          1
         ],
         "tickmode": "linear",
         "title": {
          "text": "Year"
         }
        },
        "yaxis": {
         "anchor": "x",
         "domain": [
          0,
          1
         ],
         "title": {
          "text": "Number of Posted Dates"
         }
        }
       }
      },
      "text/html": [
       "<div>                            <div id=\"d2021fda-08ba-4d78-b44a-5b9204062a2c\" class=\"plotly-graph-div\" style=\"height:525px; width:100%;\"></div>            <script type=\"text/javascript\">                require([\"plotly\"], function(Plotly) {                    window.PLOTLYENV=window.PLOTLYENV || {};                                    if (document.getElementById(\"d2021fda-08ba-4d78-b44a-5b9204062a2c\")) {                    Plotly.newPlot(                        \"d2021fda-08ba-4d78-b44a-5b9204062a2c\",                        [{\"alignmentgroup\":\"True\",\"hovertemplate\":\"year_P=%{x}<br>Number of Posted Dates=%{y}<extra></extra>\",\"legendgroup\":\"\",\"marker\":{\"color\":\"#636efa\",\"pattern\":{\"shape\":\"\"}},\"name\":\"\",\"offsetgroup\":\"\",\"orientation\":\"v\",\"showlegend\":false,\"textposition\":\"auto\",\"x\":[2019,2020,2021,2022,2023],\"xaxis\":\"x\",\"y\":[4,3605,3673,4128,4179],\"yaxis\":\"y\",\"type\":\"bar\"}],                        {\"template\":{\"data\":{\"histogram2dcontour\":[{\"type\":\"histogram2dcontour\",\"colorbar\":{\"outlinewidth\":0,\"ticks\":\"\"},\"colorscale\":[[0.0,\"#0d0887\"],[0.1111111111111111,\"#46039f\"],[0.2222222222222222,\"#7201a8\"],[0.3333333333333333,\"#9c179e\"],[0.4444444444444444,\"#bd3786\"],[0.5555555555555556,\"#d8576b\"],[0.6666666666666666,\"#ed7953\"],[0.7777777777777778,\"#fb9f3a\"],[0.8888888888888888,\"#fdca26\"],[1.0,\"#f0f921\"]]}],\"choropleth\":[{\"type\":\"choropleth\",\"colorbar\":{\"outlinewidth\":0,\"ticks\":\"\"}}],\"histogram2d\":[{\"type\":\"histogram2d\",\"colorbar\":{\"outlinewidth\":0,\"ticks\":\"\"},\"colorscale\":[[0.0,\"#0d0887\"],[0.1111111111111111,\"#46039f\"],[0.2222222222222222,\"#7201a8\"],[0.3333333333333333,\"#9c179e\"],[0.4444444444444444,\"#bd3786\"],[0.5555555555555556,\"#d8576b\"],[0.6666666666666666,\"#ed7953\"],[0.7777777777777778,\"#fb9f3a\"],[0.8888888888888888,\"#fdca26\"],[1.0,\"#f0f921\"]]}],\"heatmap\":[{\"type\":\"heatmap\",\"colorbar\":{\"outlinewidth\":0,\"ticks\":\"\"},\"colorscale\":[[0.0,\"#0d0887\"],[0.1111111111111111,\"#46039f\"],[0.2222222222222222,\"#7201a8\"],[0.3333333333333333,\"#9c179e\"],[0.4444444444444444,\"#bd3786\"],[0.5555555555555556,\"#d8576b\"],[0.6666666666666666,\"#ed7953\"],[0.7777777777777778,\"#fb9f3a\"],[0.8888888888888888,\"#fdca26\"],[1.0,\"#f0f921\"]]}],\"heatmapgl\":[{\"type\":\"heatmapgl\",\"colorbar\":{\"outlinewidth\":0,\"ticks\":\"\"},\"colorscale\":[[0.0,\"#0d0887\"],[0.1111111111111111,\"#46039f\"],[0.2222222222222222,\"#7201a8\"],[0.3333333333333333,\"#9c179e\"],[0.4444444444444444,\"#bd3786\"],[0.5555555555555556,\"#d8576b\"],[0.6666666666666666,\"#ed7953\"],[0.7777777777777778,\"#fb9f3a\"],[0.8888888888888888,\"#fdca26\"],[1.0,\"#f0f921\"]]}],\"contourcarpet\":[{\"type\":\"contourcarpet\",\"colorbar\":{\"outlinewidth\":0,\"ticks\":\"\"}}],\"contour\":[{\"type\":\"contour\",\"colorbar\":{\"outlinewidth\":0,\"ticks\":\"\"},\"colorscale\":[[0.0,\"#0d0887\"],[0.1111111111111111,\"#46039f\"],[0.2222222222222222,\"#7201a8\"],[0.3333333333333333,\"#9c179e\"],[0.4444444444444444,\"#bd3786\"],[0.5555555555555556,\"#d8576b\"],[0.6666666666666666,\"#ed7953\"],[0.7777777777777778,\"#fb9f3a\"],[0.8888888888888888,\"#fdca26\"],[1.0,\"#f0f921\"]]}],\"surface\":[{\"type\":\"surface\",\"colorbar\":{\"outlinewidth\":0,\"ticks\":\"\"},\"colorscale\":[[0.0,\"#0d0887\"],[0.1111111111111111,\"#46039f\"],[0.2222222222222222,\"#7201a8\"],[0.3333333333333333,\"#9c179e\"],[0.4444444444444444,\"#bd3786\"],[0.5555555555555556,\"#d8576b\"],[0.6666666666666666,\"#ed7953\"],[0.7777777777777778,\"#fb9f3a\"],[0.8888888888888888,\"#fdca26\"],[1.0,\"#f0f921\"]]}],\"mesh3d\":[{\"type\":\"mesh3d\",\"colorbar\":{\"outlinewidth\":0,\"ticks\":\"\"}}],\"scatter\":[{\"fillpattern\":{\"fillmode\":\"overlay\",\"size\":10,\"solidity\":0.2},\"type\":\"scatter\"}],\"parcoords\":[{\"type\":\"parcoords\",\"line\":{\"colorbar\":{\"outlinewidth\":0,\"ticks\":\"\"}}}],\"scatterpolargl\":[{\"type\":\"scatterpolargl\",\"marker\":{\"colorbar\":{\"outlinewidth\":0,\"ticks\":\"\"}}}],\"bar\":[{\"error_x\":{\"color\":\"#2a3f5f\"},\"error_y\":{\"color\":\"#2a3f5f\"},\"marker\":{\"line\":{\"color\":\"#E5ECF6\",\"width\":0.5},\"pattern\":{\"fillmode\":\"overlay\",\"size\":10,\"solidity\":0.2}},\"type\":\"bar\"}],\"scattergeo\":[{\"type\":\"scattergeo\",\"marker\":{\"colorbar\":{\"outlinewidth\":0,\"ticks\":\"\"}}}],\"scatterpolar\":[{\"type\":\"scatterpolar\",\"marker\":{\"colorbar\":{\"outlinewidth\":0,\"ticks\":\"\"}}}],\"histogram\":[{\"marker\":{\"pattern\":{\"fillmode\":\"overlay\",\"size\":10,\"solidity\":0.2}},\"type\":\"histogram\"}],\"scattergl\":[{\"type\":\"scattergl\",\"marker\":{\"colorbar\":{\"outlinewidth\":0,\"ticks\":\"\"}}}],\"scatter3d\":[{\"type\":\"scatter3d\",\"line\":{\"colorbar\":{\"outlinewidth\":0,\"ticks\":\"\"}},\"marker\":{\"colorbar\":{\"outlinewidth\":0,\"ticks\":\"\"}}}],\"scattermapbox\":[{\"type\":\"scattermapbox\",\"marker\":{\"colorbar\":{\"outlinewidth\":0,\"ticks\":\"\"}}}],\"scatterternary\":[{\"type\":\"scatterternary\",\"marker\":{\"colorbar\":{\"outlinewidth\":0,\"ticks\":\"\"}}}],\"scattercarpet\":[{\"type\":\"scattercarpet\",\"marker\":{\"colorbar\":{\"outlinewidth\":0,\"ticks\":\"\"}}}],\"carpet\":[{\"aaxis\":{\"endlinecolor\":\"#2a3f5f\",\"gridcolor\":\"white\",\"linecolor\":\"white\",\"minorgridcolor\":\"white\",\"startlinecolor\":\"#2a3f5f\"},\"baxis\":{\"endlinecolor\":\"#2a3f5f\",\"gridcolor\":\"white\",\"linecolor\":\"white\",\"minorgridcolor\":\"white\",\"startlinecolor\":\"#2a3f5f\"},\"type\":\"carpet\"}],\"table\":[{\"cells\":{\"fill\":{\"color\":\"#EBF0F8\"},\"line\":{\"color\":\"white\"}},\"header\":{\"fill\":{\"color\":\"#C8D4E3\"},\"line\":{\"color\":\"white\"}},\"type\":\"table\"}],\"barpolar\":[{\"marker\":{\"line\":{\"color\":\"#E5ECF6\",\"width\":0.5},\"pattern\":{\"fillmode\":\"overlay\",\"size\":10,\"solidity\":0.2}},\"type\":\"barpolar\"}],\"pie\":[{\"automargin\":true,\"type\":\"pie\"}]},\"layout\":{\"autotypenumbers\":\"strict\",\"colorway\":[\"#636efa\",\"#EF553B\",\"#00cc96\",\"#ab63fa\",\"#FFA15A\",\"#19d3f3\",\"#FF6692\",\"#B6E880\",\"#FF97FF\",\"#FECB52\"],\"font\":{\"color\":\"#2a3f5f\"},\"hovermode\":\"closest\",\"hoverlabel\":{\"align\":\"left\"},\"paper_bgcolor\":\"white\",\"plot_bgcolor\":\"#E5ECF6\",\"polar\":{\"bgcolor\":\"#E5ECF6\",\"angularaxis\":{\"gridcolor\":\"white\",\"linecolor\":\"white\",\"ticks\":\"\"},\"radialaxis\":{\"gridcolor\":\"white\",\"linecolor\":\"white\",\"ticks\":\"\"}},\"ternary\":{\"bgcolor\":\"#E5ECF6\",\"aaxis\":{\"gridcolor\":\"white\",\"linecolor\":\"white\",\"ticks\":\"\"},\"baxis\":{\"gridcolor\":\"white\",\"linecolor\":\"white\",\"ticks\":\"\"},\"caxis\":{\"gridcolor\":\"white\",\"linecolor\":\"white\",\"ticks\":\"\"}},\"coloraxis\":{\"colorbar\":{\"outlinewidth\":0,\"ticks\":\"\"}},\"colorscale\":{\"sequential\":[[0.0,\"#0d0887\"],[0.1111111111111111,\"#46039f\"],[0.2222222222222222,\"#7201a8\"],[0.3333333333333333,\"#9c179e\"],[0.4444444444444444,\"#bd3786\"],[0.5555555555555556,\"#d8576b\"],[0.6666666666666666,\"#ed7953\"],[0.7777777777777778,\"#fb9f3a\"],[0.8888888888888888,\"#fdca26\"],[1.0,\"#f0f921\"]],\"sequentialminus\":[[0.0,\"#0d0887\"],[0.1111111111111111,\"#46039f\"],[0.2222222222222222,\"#7201a8\"],[0.3333333333333333,\"#9c179e\"],[0.4444444444444444,\"#bd3786\"],[0.5555555555555556,\"#d8576b\"],[0.6666666666666666,\"#ed7953\"],[0.7777777777777778,\"#fb9f3a\"],[0.8888888888888888,\"#fdca26\"],[1.0,\"#f0f921\"]],\"diverging\":[[0,\"#8e0152\"],[0.1,\"#c51b7d\"],[0.2,\"#de77ae\"],[0.3,\"#f1b6da\"],[0.4,\"#fde0ef\"],[0.5,\"#f7f7f7\"],[0.6,\"#e6f5d0\"],[0.7,\"#b8e186\"],[0.8,\"#7fbc41\"],[0.9,\"#4d9221\"],[1,\"#276419\"]]},\"xaxis\":{\"gridcolor\":\"white\",\"linecolor\":\"white\",\"ticks\":\"\",\"title\":{\"standoff\":15},\"zerolinecolor\":\"white\",\"automargin\":true,\"zerolinewidth\":2},\"yaxis\":{\"gridcolor\":\"white\",\"linecolor\":\"white\",\"ticks\":\"\",\"title\":{\"standoff\":15},\"zerolinecolor\":\"white\",\"automargin\":true,\"zerolinewidth\":2},\"scene\":{\"xaxis\":{\"backgroundcolor\":\"#E5ECF6\",\"gridcolor\":\"white\",\"linecolor\":\"white\",\"showbackground\":true,\"ticks\":\"\",\"zerolinecolor\":\"white\",\"gridwidth\":2},\"yaxis\":{\"backgroundcolor\":\"#E5ECF6\",\"gridcolor\":\"white\",\"linecolor\":\"white\",\"showbackground\":true,\"ticks\":\"\",\"zerolinecolor\":\"white\",\"gridwidth\":2},\"zaxis\":{\"backgroundcolor\":\"#E5ECF6\",\"gridcolor\":\"white\",\"linecolor\":\"white\",\"showbackground\":true,\"ticks\":\"\",\"zerolinecolor\":\"white\",\"gridwidth\":2}},\"shapedefaults\":{\"line\":{\"color\":\"#2a3f5f\"}},\"annotationdefaults\":{\"arrowcolor\":\"#2a3f5f\",\"arrowhead\":0,\"arrowwidth\":1},\"geo\":{\"bgcolor\":\"white\",\"landcolor\":\"#E5ECF6\",\"subunitcolor\":\"white\",\"showland\":true,\"showlakes\":true,\"lakecolor\":\"white\"},\"title\":{\"x\":0.05},\"mapbox\":{\"style\":\"light\"}}},\"xaxis\":{\"anchor\":\"y\",\"domain\":[0.0,1.0],\"title\":{\"text\":\"Year\"},\"tickmode\":\"linear\"},\"yaxis\":{\"anchor\":\"x\",\"domain\":[0.0,1.0],\"title\":{\"text\":\"Number of Posted Dates\"}},\"legend\":{\"tracegroupgap\":0},\"title\":{\"text\":\"Number of Posted Dates by Year for the Department of Commerce\"},\"barmode\":\"relative\"},                        {\"responsive\": true}                    ).then(function(){\n",
       "                            \n",
       "var gd = document.getElementById('d2021fda-08ba-4d78-b44a-5b9204062a2c');\n",
       "var x = new MutationObserver(function (mutations, observer) {{\n",
       "        var display = window.getComputedStyle(gd).display;\n",
       "        if (!display || display === 'none') {{\n",
       "            console.log([gd, 'removed!']);\n",
       "            Plotly.purge(gd);\n",
       "            observer.disconnect();\n",
       "        }}\n",
       "}});\n",
       "\n",
       "// Listen for the removal of the full notebook cells\n",
       "var notebookContainer = gd.closest('#notebook-container');\n",
       "if (notebookContainer) {{\n",
       "    x.observe(notebookContainer, {childList: true});\n",
       "}}\n",
       "\n",
       "// Listen for the clearing of the current output cell\n",
       "var outputEl = gd.closest('.output');\n",
       "if (outputEl) {{\n",
       "    x.observe(outputEl, {childList: true});\n",
       "}}\n",
       "\n",
       "                        })                };                });            </script>        </div>"
      ]
     },
     "metadata": {},
     "output_type": "display_data"
    }
   ],
   "source": [
    "import plotly.express as px\n",
    "\n",
    "# Assuming you have already performed the operations mentioned in your code\n",
    "\n",
    "# Create an interactive bar chart with Plotly Express\n",
    "fig = px.bar(commerce_posted_dates_count, x='year_P', y='Number_of_Posted_Dates',\n",
    "             labels={'Number_of_Posted_Dates': 'Number of Posted Dates'},\n",
    "             title='Number of Posted Dates by Year for the Department of Commerce')\n",
    "\n",
    "# Customize the layout\n",
    "fig.update_layout(xaxis_title='Year', yaxis_title='Number of Posted Dates',\n",
    "                  xaxis=dict(tickmode='linear'))\n",
    "\n",
    "# Show the interactive plot\n",
    "fig.show()\n"
   ]
  },
  {
   "cell_type": "markdown",
   "id": "cb74949a",
   "metadata": {},
   "source": [
    "# 6 Over the last several years, Census Bureau posted the same number of contract over the years\n"
   ]
  },
  {
   "cell_type": "code",
   "execution_count": 127,
   "id": "fafc83f2",
   "metadata": {},
   "outputs": [
    {
     "name": "stdout",
     "output_type": "stream",
     "text": [
      "   year_P  Number_of_Posted_Dates\n",
      "0    2020                      50\n",
      "1    2021                      54\n",
      "2    2022                      77\n",
      "3    2023                      53\n"
     ]
    }
   ],
   "source": [
    "import pandas as pd\n",
    "import matplotlib.pyplot as plt\n",
    "\n",
    "# Assuming you have a DataFrame named filtered_df\n",
    "\n",
    "# Convert 'PostedDate' to datetime\n",
    "filtered_df['PostedDate'] = pd.to_datetime(filtered_df['PostedDate'], errors='coerce')\n",
    "\n",
    "# Drop rows with NaT (optional, if you want to remove rows with invalid timestamps)\n",
    "filtered_df = filtered_df.dropna(subset=['PostedDate'])\n",
    "\n",
    "# Extract the year and create a new column 'year_P'\n",
    "filtered_df['year_P'] = filtered_df['PostedDate'].dt.year\n",
    "\n",
    "# Filter rows for the US Census Bureau (part of the Department of Commerce)\n",
    "census_df = filtered_df[filtered_df['Sub-Tier'] == 'US CENSUS BUREAU']\n",
    "\n",
    "# Group by 'year_P' for the US Census Bureau and count the total number of posted dates for each year\n",
    "census_posted_dates_count = census_df.groupby('year_P')['PostedDate'].size().reset_index(name='Number_of_Posted_Dates')\n",
    "\n",
    "# Display the result\n",
    "print(census_posted_dates_count)\n"
   ]
  },
  {
   "cell_type": "code",
   "execution_count": null,
   "id": "dddb7a23",
   "metadata": {},
   "outputs": [],
   "source": [
    "import pandas as pd\n",
    "import plotly.express as px\n",
    "\n",
    "# Assuming you have a DataFrame named filtered_df\n",
    "\n",
    "# Convert 'PostedDate' to datetime\n",
    "filtered_df['PostedDate'] = pd.to_datetime(filtered_df['PostedDate'], errors='coerce')\n",
    "\n",
    "# Drop rows with NaT (optional, if you want to remove rows with invalid timestamps)\n",
    "filtered_df = filtered_df.dropna(subset=['PostedDate'])\n",
    "\n",
    "# Extract the year and create a new column 'year_P'\n",
    "filtered_df['year_P'] = filtered_df['PostedDate'].dt.year\n",
    "\n",
    "# Filter rows for the US Census Bureau (part of the Department of Commerce)\n",
    "census_df = filtered_df[filtered_df['Sub-Tier'] == 'US CENSUS BUREAU']\n",
    "\n",
    "# Group by 'year_P' for the US Census Bureau and count the total number of posted dates for each year\n",
    "census_posted_dates_count = census_df.groupby('year_P')['PostedDate'].size().reset_index(name='Number_of_Posted_Dates')\n",
    "\n",
    "# Create an interactive bar chart with Plotly Express with different colors for each bar\n",
    "fig = px.bar(census_posted_dates_count, x='year_P', y='Number_of_Posted_Dates',\n",
    "             color='year_P',  # Set different colors for each bar\n",
    "             labels={'Number_of_Posted_Dates': 'Number of Posted Dates'},\n",
    "             title='Number of Posted Dates by Year for the US Census Bureau')\n",
    "\n",
    "# Customize the layout\n",
    "fig.update_layout(xaxis_title='Year', yaxis_title='Number of Posted Dates',\n",
    "                  xaxis=dict(tickmode='linear'))\n",
    "\n",
    "# Show the interactive plot\n",
    "fig.show()\n"
   ]
  },
  {
   "cell_type": "code",
   "execution_count": null,
   "id": "30d4b847",
   "metadata": {},
   "outputs": [],
   "source": [
    "import pandas as pd\n",
    "import plotly.express as px\n",
    "\n",
    "# Assuming you have a DataFrame named filtered_df\n",
    "\n",
    "# Convert 'PostedDate' to datetime\n",
    "filtered_df['PostedDate'] = pd.to_datetime(filtered_df['PostedDate'], errors='coerce')\n",
    "\n",
    "# Drop rows with NaT (optional, if you want to remove rows with invalid timestamps)\n",
    "filtered_df = filtered_df.dropna(subset=['PostedDate'])\n",
    "\n",
    "# Extract the year and create a new column 'year_P'\n",
    "filtered_df['year_P'] = filtered_df['PostedDate'].dt.year\n",
    "\n",
    "# Filter rows for the Department of Commerce\n",
    "commerce_df = filtered_df[filtered_df['Department/Ind.Agency'] == 'COMMERCE, DEPARTMENT OF']\n",
    "\n",
    "# Group by sub-tier and find the largest contract amount for each sub-tier\n",
    "largest_amounts_df = commerce_df.groupby('Sub-Tier')['Award$'].max().reset_index()\n",
    "\n"
   ]
  },
  {
   "cell_type": "code",
   "execution_count": null,
   "id": "a986aeb8",
   "metadata": {},
   "outputs": [],
   "source": [
    "largest_amounts_df"
   ]
  },
  {
   "cell_type": "code",
   "execution_count": null,
   "id": "b8a92a5c",
   "metadata": {},
   "outputs": [],
   "source": [
    "import pandas as pd\n",
    "import plotly.express as px\n",
    "\n",
    "# Assuming you have a DataFrame named filtered_df\n",
    "\n",
    "# Convert 'PostedDate' to datetime\n",
    "filtered_df['PostedDate'] = pd.to_datetime(filtered_df['PostedDate'], errors='coerce')\n",
    "\n",
    "# Drop rows with NaT (optional, if you want to remove rows with invalid timestamps)\n",
    "filtered_df = filtered_df.dropna(subset=['PostedDate'])\n",
    "\n",
    "# Extract the year and create a new column 'year_P'\n",
    "filtered_df['year_P'] = filtered_df['PostedDate'].dt.year\n",
    "\n",
    "# Filter rows for the Department of Commerce\n",
    "commerce_df = filtered_df[filtered_df['Department/Ind.Agency'] == 'COMMERCE, DEPARTMENT OF']\n",
    "\n",
    "# Group by sub-tier and find the largest contract amount for each sub-tier\n",
    "largest_amounts_df = commerce_df.groupby('Sub-Tier')['Award$'].max().reset_index()\n",
    "\n",
    "# Create a bar chart with Plotly Express, using different colors for each bar\n",
    "fig = px.bar(largest_amounts_df, x='Sub-Tier', y='Award$',\n",
    "             labels={'Award$': 'Largest Contract Amount ($)'},\n",
    "             title='Largest Contract Amount for Every Sub-Tier in the Department of Commerce',\n",
    "             color='Sub-Tier')  # Set color to 'Sub-Tier' for different colors\n",
    "\n",
    "# Customize the layout\n",
    "fig.update_layout(xaxis_title='Sub-Tier', yaxis_title='Largest Contract Amount ($)',\n",
    "                  xaxis=dict(tickmode='linear'))\n",
    "\n",
    "# Show the interactive plot\n",
    "fig.show()\n"
   ]
  }
 ],
 "metadata": {
  "kernelspec": {
   "display_name": "Python 3 (ipykernel)",
   "language": "python",
   "name": "python3"
  },
  "language_info": {
   "codemirror_mode": {
    "name": "ipython",
    "version": 3
   },
   "file_extension": ".py",
   "mimetype": "text/x-python",
   "name": "python",
   "nbconvert_exporter": "python",
   "pygments_lexer": "ipython3",
   "version": "3.11.5"
  }
 },
 "nbformat": 4,
 "nbformat_minor": 5
}
